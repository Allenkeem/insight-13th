{
  "cells": [
    {
      "cell_type": "markdown",
      "id": "s5BK0Ab4F_28",
      "metadata": {
        "id": "s5BK0Ab4F_28"
      },
      "source": [
        "# 1. NLP 이론문제"
      ]
    },
    {
      "cell_type": "markdown",
      "id": "XbPvxoevT-wC",
      "metadata": {
        "id": "XbPvxoevT-wC"
      },
      "source": [
        "## 문제 1\n",
        "일반 attention에 반해 self attention가 지닌 특징을 서술하시오."
      ]
    },
    {
      "cell_type": "markdown",
      "id": "Tns2mhzVUM6t",
      "metadata": {
        "id": "Tns2mhzVUM6t"
      },
      "source": [
        "답 : self attention에서는 검색할 query를 내부에서 가져온다."
      ]
    },
    {
      "cell_type": "markdown",
      "id": "kaAY-zLvUVHF",
      "metadata": {
        "id": "kaAY-zLvUVHF"
      },
      "source": [
        "## 문제 2\n",
        "BERT에 대한 설명이 아닌 것은?\n",
        "\n",
        "a) 사전 학습 모델\n",
        "\n",
        "b) 양방향 문맥 이해\n",
        "\n",
        "c) 트랜스포머의 디코더를 쌓아 올린 구조\n",
        "\n",
        "d) 이후 RoBERTa와 ALBERT로 발전"
      ]
    },
    {
      "cell_type": "markdown",
      "id": "N9kPuYF2UOpO",
      "metadata": {
        "id": "N9kPuYF2UOpO"
      },
      "source": [
        "답 : c)"
      ]
    },
    {
      "cell_type": "markdown",
      "id": "c9mHJHJVT-nA",
      "metadata": {
        "id": "c9mHJHJVT-nA"
      },
      "source": [
        "## 문제 3\n",
        "BERT와 GPT의 학습 방식 차이를 간단히 설명하세요."
      ]
    },
    {
      "cell_type": "markdown",
      "id": "0FsqYppaUO-6",
      "metadata": {
        "id": "0FsqYppaUO-6"
      },
      "source": [
        "답 : BERT는 문장 내 일부 단어를 마스킹한 후 양방향 문맥을 활용해 예측하는 방식으로 학습.\n",
        "\n",
        "GPT는 이전 단어들을 참고해 다음 단어를 예측하는 방식으로 학습."
      ]
    },
    {
      "cell_type": "markdown",
      "id": "gpQU3DA-T-eR",
      "metadata": {
        "id": "gpQU3DA-T-eR"
      },
      "source": [
        "## 문제 4\n",
        "LLM이 지닌 한계와 Rag의 필요성에 대해 간단히 서술하세요."
      ]
    },
    {
      "cell_type": "markdown",
      "id": "kYc85pSaT-a5",
      "metadata": {
        "id": "kYc85pSaT-a5"
      },
      "source": [
        "답 : LLM은 사실관계가 파악되지 않은 정보를 생성하거나 사용자에게 전달하는 할루시네이션의 한계가 있다. 또한 항상 최신의 지식이 업데이트 되어 있지 않다. 따라서 외부 지식 베이스를 연결해 모델의 생성 능력과 사실 관계 파악 능력을 향상시킨 Rag의 필요성이 대두되었다."
      ]
    },
    {
      "cell_type": "markdown",
      "id": "OsVU927lLs2Z",
      "metadata": {
        "id": "OsVU927lLs2Z"
      },
      "source": [
        "# 1. BERT 실습"
      ]
    },
    {
      "cell_type": "markdown",
      "id": "AMZ40xeWMFIu",
      "metadata": {
        "id": "AMZ40xeWMFIu"
      },
      "source": [
        "**BERT (Bidirectional Encoder Representations from Transformers)**\n",
        "- 문장 분류(스팸 메일 탐지), 질의응답 시스템(챗봇, 검색 엔진), 번역(다국어 지원), 텍스트 요약(뉴스 요약) 등 다양한 NLP 작업에 사용\n",
        "- 문맥을 양방향으로 이해하여 텍스트의 의미를 정밀하게 파악하며, 사전 학습된 모델을 기반으로 빠르게 응용 가능"
      ]
    },
    {
      "cell_type": "markdown",
      "id": "inLp1BtKM_e7",
      "metadata": {
        "id": "inLp1BtKM_e7"
      },
      "source": [
        "### 1. 모델과 tokenizer 초기화\n",
        "- tokenizer를 통해 문장을 토큰으로 나누고, 이를 정수 인덱스로 변환하여 모델이 이해할 수 있도록 함"
      ]
    },
    {
      "cell_type": "code",
      "execution_count": 1,
      "id": "r1m1YLY3GNM0",
      "metadata": {
        "id": "r1m1YLY3GNM0",
        "colab": {
          "base_uri": "https://localhost:8080/",
          "height": 431,
          "referenced_widgets": [
            "9fb5f0de0e09440db876f465ff3d9789",
            "5ab2274acd534a99a61449fe5a398945",
            "7a8eafde3c7b4628a8f750c0ffcbec47",
            "dcef6044d0c148889bf00d0b4ab532c8",
            "3d0bb5465f0f4de6b53173edf57aa37a",
            "8aacdce8179148b7a880b05b0c259309",
            "361b0a6b730b4135acd6ba4943cde001",
            "48e236a5527944f79a1880525a24ed76",
            "bc0fe24ee90146078229ff6e7837273a",
            "35eee349b3324dfbb196d025913a95b3",
            "77a515d235ad48fbbaf0734a713fe5ca",
            "d7307193a98841d9808485a0bff94ae4",
            "62e2a8dc42684c52a045e15827eb6656",
            "ec890050901140a5b6c1bbbaa9747044",
            "c3139b53f4a14ed6a8c7ed8ed59aec4c",
            "46284528a4354a4fa6fcd4241829fa5b",
            "2125e314413c46b682cf782d6af0bcea",
            "d59539b10bc6443f8122e6f463539bcb",
            "d1c7091808bd4144937bc1e40217d8d4",
            "80bba8a1257c488085a698f65e879a23",
            "af8a7db33f364bdaa53c374a9dd0e826",
            "c8c6a38610364523bcdc3229a914c6a6",
            "16445954da814b17a0cf294604b60abe",
            "f267f142ae074b0fbb711bfd3f3cd856",
            "8bbb10c11b3249e0b3966088b78dd1cb",
            "25b593287fca446fac2946d227a76891",
            "539e8aa2c083444583de872933685671",
            "fefae821b9364e27a9a83f6daf404516",
            "421395ab6a2e4bd89adf9b9748de2fad",
            "ae0bd5772a2f41f583cbca8f7c8c597b",
            "17007cc2a3e04de0a0c01ea0eda114ac",
            "2fa16eebeb694898903bdcea5133bdc3",
            "18242b2350464473b5516379a63247d5",
            "02ec3440f809440290b5fe1b664a404d",
            "6a8d9377b09649699f2457846ef34a68",
            "c5d961fda6df47bfaf02287296fa8a70",
            "5698f6454cf64b488ab603d7552237d4",
            "e8b81fa7a4ae4baba342fec3d9e41368",
            "db21712a691144dab9e5f4155f06d3dd",
            "7ed669e4f7334948816d86dd4a5871b7",
            "a9b907e7bc704e4b807f3e21e3f10a5b",
            "70831c10766e48b2b28cccb9fb8e13b8",
            "d61d78e29a2547de9e01b32cb751679c",
            "07a91005c95f4480a169798b640fa4e9",
            "19c05ae7ac2c4b91aee35c0440670d27",
            "69de46a322cc4eebab5aa75813838f8f",
            "2db6471e222b41b687410acb6ce4cee3",
            "1bfeef678f6c4d77a0f23cc74ef0d2f8",
            "d2d79263838048f3bc4d03906147a4ba",
            "9d6ffe7747d248029a1c0524af4dd371",
            "7d29cf68827b422e9d5fd97e201f722f",
            "f5b4304c12e74cda8862ffb7bad40633",
            "110a2a3531ce47f0bb16caed804d3419",
            "8a32fa8010ca4374aff330ace4360bef",
            "0ef5a0e3813c453c9ad7923eec57cb47",
            "c8c0ea3590c74918b58d62e396e25585",
            "c635776baf91433a94549fca94effe8e",
            "851c73c5e1814c4dac6519ea58bee45a",
            "46f611b5a0b643cdb50a7752f3502adb",
            "db6655a7ae75418fbcf1540842521d19",
            "e3d27d0582fe4ca8a5c626ac6bbf0ebb",
            "66aa3d4d0fff414892c8341ef493ec6e",
            "5d8b398a23824f83ad87b2a7e804ce05",
            "e77aabaac29947d58e5bb3e9bf6bc649",
            "80ea5d842df24506bcd25a72c26eecd7",
            "5c9d3b47ba6540719001312fb4aac6e4"
          ]
        },
        "outputId": "d99b1a72-abc3-47c3-9d85-0124178166cd"
      },
      "outputs": [
        {
          "output_type": "stream",
          "name": "stderr",
          "text": [
            "/usr/local/lib/python3.11/dist-packages/huggingface_hub/utils/_auth.py:94: UserWarning: \n",
            "The secret `HF_TOKEN` does not exist in your Colab secrets.\n",
            "To authenticate with the Hugging Face Hub, create a token in your settings tab (https://huggingface.co/settings/tokens), set it as secret in your Google Colab and restart your session.\n",
            "You will be able to reuse this secret in all of your notebooks.\n",
            "Please note that authentication is recommended but still optional to access public models or datasets.\n",
            "  warnings.warn(\n"
          ]
        },
        {
          "output_type": "display_data",
          "data": {
            "text/plain": [
              "tokenizer_config.json:   0%|          | 0.00/289 [00:00<?, ?B/s]"
            ],
            "application/vnd.jupyter.widget-view+json": {
              "version_major": 2,
              "version_minor": 0,
              "model_id": "9fb5f0de0e09440db876f465ff3d9789"
            }
          },
          "metadata": {}
        },
        {
          "output_type": "display_data",
          "data": {
            "text/plain": [
              "vocab.txt:   0%|          | 0.00/248k [00:00<?, ?B/s]"
            ],
            "application/vnd.jupyter.widget-view+json": {
              "version_major": 2,
              "version_minor": 0,
              "model_id": "d7307193a98841d9808485a0bff94ae4"
            }
          },
          "metadata": {}
        },
        {
          "output_type": "display_data",
          "data": {
            "text/plain": [
              "special_tokens_map.json:   0%|          | 0.00/125 [00:00<?, ?B/s]"
            ],
            "application/vnd.jupyter.widget-view+json": {
              "version_major": 2,
              "version_minor": 0,
              "model_id": "16445954da814b17a0cf294604b60abe"
            }
          },
          "metadata": {}
        },
        {
          "output_type": "display_data",
          "data": {
            "text/plain": [
              "tokenizer.json:   0%|          | 0.00/495k [00:00<?, ?B/s]"
            ],
            "application/vnd.jupyter.widget-view+json": {
              "version_major": 2,
              "version_minor": 0,
              "model_id": "02ec3440f809440290b5fe1b664a404d"
            }
          },
          "metadata": {}
        },
        {
          "output_type": "display_data",
          "data": {
            "text/plain": [
              "config.json:   0%|          | 0.00/425 [00:00<?, ?B/s]"
            ],
            "application/vnd.jupyter.widget-view+json": {
              "version_major": 2,
              "version_minor": 0,
              "model_id": "19c05ae7ac2c4b91aee35c0440670d27"
            }
          },
          "metadata": {}
        },
        {
          "output_type": "stream",
          "name": "stderr",
          "text": [
            "Xet Storage is enabled for this repo, but the 'hf_xet' package is not installed. Falling back to regular HTTP download. For better performance, install the package with: `pip install huggingface_hub[hf_xet]` or `pip install hf_xet`\n",
            "WARNING:huggingface_hub.file_download:Xet Storage is enabled for this repo, but the 'hf_xet' package is not installed. Falling back to regular HTTP download. For better performance, install the package with: `pip install huggingface_hub[hf_xet]` or `pip install hf_xet`\n"
          ]
        },
        {
          "output_type": "display_data",
          "data": {
            "text/plain": [
              "model.safetensors:   0%|          | 0.00/445M [00:00<?, ?B/s]"
            ],
            "application/vnd.jupyter.widget-view+json": {
              "version_major": 2,
              "version_minor": 0,
              "model_id": "c8c0ea3590c74918b58d62e396e25585"
            }
          },
          "metadata": {}
        },
        {
          "output_type": "stream",
          "name": "stderr",
          "text": [
            "Some weights of the model checkpoint at klue/bert-base were not used when initializing BertForMaskedLM: ['bert.pooler.dense.bias', 'bert.pooler.dense.weight', 'cls.seq_relationship.bias', 'cls.seq_relationship.weight']\n",
            "- This IS expected if you are initializing BertForMaskedLM from the checkpoint of a model trained on another task or with another architecture (e.g. initializing a BertForSequenceClassification model from a BertForPreTraining model).\n",
            "- This IS NOT expected if you are initializing BertForMaskedLM from the checkpoint of a model that you expect to be exactly identical (initializing a BertForSequenceClassification model from a BertForSequenceClassification model).\n"
          ]
        }
      ],
      "source": [
        "from transformers import BertTokenizer, BertForMaskedLM\n",
        "import torch\n",
        "\n",
        "# BERT 모델과 tokenizer 초기화\n",
        "tokenizer = BertTokenizer.from_pretrained('klue/bert-base') # base : 모델크기, (uncased : 소문자 학습)\n",
        "model = BertForMaskedLM.from_pretrained('klue/bert-base') # base : 모델크기, (uncased : 소문자 학습)\n",
        "# tokenizer : raw text를 개별 토큰으로 분리(Wordpiece). 토크나이저 사전에 따라 고유한 정수 인덱스(고정값)를 매핑함.\n",
        "\n",
        "# tokenizer를 통해 생성된 정수 인덱스 : 텍스트를 모델이 읽을 수 있도록 숫자화\n",
        "# Embedding vector : 단어의 의미적, 문맥적 특성을 모델링"
      ]
    },
    {
      "cell_type": "markdown",
      "id": "UJ4zRzObNqAd",
      "metadata": {
        "id": "UJ4zRzObNqAd"
      },
      "source": [
        "### 2. 입력 텍스트 준비 및 토큰화\n",
        "- [MASK] 토큰을 삽입한 문장을 설정하고, tokenizer.tokenize()로 텍스트 토큰화\n",
        "- [MASK]를 활용하여 문맥 속에서 특정 단어를 추론하는 상황을 만들고, 이를 모델이 학습한 패턴과 비교하도록 함\n"
      ]
    },
    {
      "cell_type": "code",
      "execution_count": 2,
      "id": "JKUXDaU1GRwy",
      "metadata": {
        "id": "JKUXDaU1GRwy",
        "colab": {
          "base_uri": "https://localhost:8080/"
        },
        "outputId": "4670aba3-3708-4a40-adec-c8d7b8d411e0"
      },
      "outputs": [
        {
          "output_type": "stream",
          "name": "stdout",
          "text": [
            "['[CLS]', '열', '##여', '##덟', ',', '우리', '##는', '서로', '##의', '이름', '##을', '처음', '불렀', '##다', '.', '그리고', '스물', '하나', ',', '우린', '[MASK]', '을', '했', '##다', '.', '[SEP]']\n",
            "[2, 1432, 2173, 3542, 16, 3616, 2259, 4084, 2079, 3934, 2069, 3790, 6895, 2062, 18, 3673, 10514, 3657, 16, 8983, 4, 1498, 1902, 2062, 18, 3]\n"
          ]
        }
      ],
      "source": [
        "# 테스트할 문장\n",
        "text = \"[CLS] 열여덟, 우리는 서로의 이름을 처음 불렀다. 그리고 스물 하나, 우린 [MASK]을 했다.[SEP]\"\n",
        "\n",
        "# 문장을 토큰으로 변환\n",
        "tokenized_text = tokenizer.tokenize(text)\n",
        "indexed_tokens = tokenizer.convert_tokens_to_ids(tokenized_text)\n",
        "\n",
        "print(tokenized_text)\n",
        "print(indexed_tokens)\n"
      ]
    },
    {
      "cell_type": "markdown",
      "id": "_nrWA_XEN4I3",
      "metadata": {
        "id": "_nrWA_XEN4I3"
      },
      "source": [
        "### 3. MASK된 위치 확인\n",
        "- [MASK] 토큰의 위치를 탐지해 해당 위치에서 모델이 단어를 예측하도록 지정합니다.\n"
      ]
    },
    {
      "cell_type": "code",
      "execution_count": 3,
      "id": "tAOGhKOrKrRC",
      "metadata": {
        "id": "tAOGhKOrKrRC",
        "colab": {
          "base_uri": "https://localhost:8080/"
        },
        "outputId": "193120b4-2c2a-4bc1-cd54-87f09641c1fb"
      },
      "outputs": [
        {
          "output_type": "stream",
          "name": "stdout",
          "text": [
            "20\n"
          ]
        }
      ],
      "source": [
        "# 마스킹된 위치 찾기\n",
        "masked_index = tokenized_text.index(\"[MASK]\") ; print(masked_index)"
      ]
    },
    {
      "cell_type": "markdown",
      "id": "T3oqIAqDOEo_",
      "metadata": {
        "id": "T3oqIAqDOEo_"
      },
      "source": [
        "### 4. 정수화된 토큰 인덱스를 tensor로 변환 후 모델 예측 실행\n",
        "- 모델은 텐서 데이터 구조를 필요로 하므로, 입력값을 변환하여 적합한 형식으로 만듦.\n",
        "- 역전파를 비활성화하고, 모델이 각 토큰에 대해 가능한 모든 단어 점수 출력"
      ]
    },
    {
      "cell_type": "code",
      "execution_count": 4,
      "id": "W2T3XriDKuJD",
      "metadata": {
        "id": "W2T3XriDKuJD",
        "colab": {
          "base_uri": "https://localhost:8080/"
        },
        "outputId": "7050b0e1-5ec5-4d7d-b071-6c26e8d98988"
      },
      "outputs": [
        {
          "output_type": "stream",
          "name": "stdout",
          "text": [
            "tensor([[[ -6.0337,   4.5526,  -5.6312,  ...,  -7.3959,  -7.4220,  -5.8337],\n",
            "         [ -6.1762,   4.7585,  -7.3973,  ...,  -7.6209, -12.2124,  -6.0998],\n",
            "         [ -7.4194,   3.9148,  -6.1517,  ...,  -6.8162,  -9.5421,  -3.0473],\n",
            "         ...,\n",
            "         [ -7.3761,   8.6972,  -5.4904,  ...,  -8.7202,  -9.1403,  -5.8566],\n",
            "         [ -5.6347,  10.3884,  -4.3374,  ...,  -8.6900,  -7.4171,  -3.5043],\n",
            "         [ -5.6652,  10.3407,  -4.4099,  ...,  -8.7521,  -7.4286,  -3.6681]]])\n"
          ]
        }
      ],
      "source": [
        "# 토큰화된 텍스트 -> 정수인덱스(ID) -> Pytorch 텐서\n",
        "indexed_tokens = tokenizer.convert_tokens_to_ids(tokenized_text)\n",
        "tokens_tensor = torch.tensor([indexed_tokens])\n",
        "\n",
        "# 모델에 토큰 텐서를 전달하고 예측 실행\n",
        "with torch.no_grad(): # 가중치 업데이트 없으므로 자동미분연산은 끔\n",
        "    outputs = model(tokens_tensor) # 예측. 모델은 각 토큰위치에 대한 예측 결과를 반환.\n",
        "    predictions = outputs[0] # logits (각 토큰위치에서 가능한 모든 토큰들의 원시점수)\n",
        "print(predictions)"
      ]
    },
    {
      "cell_type": "markdown",
      "id": "lIkvkAL5Oalc",
      "metadata": {
        "id": "lIkvkAL5Oalc"
      },
      "source": [
        "### 5. MASK된 토큰 예측\n",
        "- [MASK] 위치에서 가장 높은 점수를 받은 토큰의 인덱스를 추출하고, 이를 단어로 변환"
      ]
    },
    {
      "cell_type": "code",
      "execution_count": 5,
      "id": "MO5B91p4KwI0",
      "metadata": {
        "id": "MO5B91p4KwI0",
        "colab": {
          "base_uri": "https://localhost:8080/"
        },
        "outputId": "00adba05-1867-4c25-cb73-a36cef3009cc"
      },
      "outputs": [
        {
          "output_type": "stream",
          "name": "stdout",
          "text": [
            "Original: [CLS] 열여덟, 우리는 서로의 이름을 처음 불렀다. 그리고 스물 하나, 우린 [MASK]을 했다.[SEP]\n",
            "Masked: ['[CLS]', '열', '##여', '##덟', ',', '우리', '##는', '서로', '##의', '이름', '##을', '처음', '불렀', '##다', '.', '그리고', '스물', '하나', ',', '우린', '사랑', '을', '했', '##다', '.', '[SEP]']\n",
            "Predicted token: 사랑\n",
            "\n",
            "Filled sentence: 열여덟 , 우리는 서로의 이름을 처음 불렀다 . 그리고 스물 하나 , 우린 사랑 을 했다 .\n"
          ]
        }
      ],
      "source": [
        "# 예측된 토큰 확인\n",
        "predicted_index = torch.argmax(predictions[0, masked_index]).item() # masked_index에 들어갈 것으로 가장 확률이 높은 인덱스\n",
        "predicted_token = tokenizer.convert_ids_to_tokens([predicted_index])[0]\n",
        "\n",
        "# 예측된 토큰으로 마스크 채우기\n",
        "tokenized_text[masked_index] = predicted_token\n",
        "# 토큰화된 텍스트를 다시 문자열로 변환\n",
        "filled_text = tokenizer.convert_tokens_to_string(tokenized_text[1:-1])\n",
        "\n",
        "print(\"Original:\", text)\n",
        "print(\"Masked:\", tokenized_text)\n",
        "print(\"Predicted token:\", predicted_token) ; print()\n",
        "\n",
        "print(\"Filled sentence:\", filled_text)"
      ]
    },
    {
      "cell_type": "markdown",
      "id": "g4ncI4tBOWLh",
      "metadata": {
        "id": "g4ncI4tBOWLh"
      },
      "source": [
        "\n",
        "### 6. MASK된 문장 복원\n",
        "- 예측된 토큰으로 [MASK]를 대체하여 완성된 문장 생성"
      ]
    },
    {
      "cell_type": "code",
      "execution_count": 6,
      "id": "aQJBSmfZK2l2",
      "metadata": {
        "id": "aQJBSmfZK2l2",
        "colab": {
          "base_uri": "https://localhost:8080/"
        },
        "outputId": "854c6d43-3b56-49f1-d336-8720a0e654e6"
      },
      "outputs": [
        {
          "output_type": "stream",
          "name": "stderr",
          "text": [
            "Some weights of the model checkpoint at klue/bert-base were not used when initializing BertForMaskedLM: ['bert.pooler.dense.bias', 'bert.pooler.dense.weight', 'cls.seq_relationship.bias', 'cls.seq_relationship.weight']\n",
            "- This IS expected if you are initializing BertForMaskedLM from the checkpoint of a model trained on another task or with another architecture (e.g. initializing a BertForSequenceClassification model from a BertForPreTraining model).\n",
            "- This IS NOT expected if you are initializing BertForMaskedLM from the checkpoint of a model that you expect to be exactly identical (initializing a BertForSequenceClassification model from a BertForSequenceClassification model).\n"
          ]
        }
      ],
      "source": [
        "from transformers import BertTokenizer, BertForMaskedLM\n",
        "import torch\n",
        "\n",
        "# BERT 모델과 토크나이저 초기화\n",
        "tokenizer = BertTokenizer.from_pretrained('klue/bert-base')\n",
        "model = BertForMaskedLM.from_pretrained('klue/bert-base')\n",
        "\n",
        "def fill_mask(input_text):\n",
        "    # 텍스트를 토큰으로 변환\n",
        "    tokenized_text = tokenizer.tokenize(input_text)\n",
        "    indexed_tokens = tokenizer.convert_tokens_to_ids(tokenized_text)\n",
        "\n",
        "    # 마스킹된 위치 찾기\n",
        "    masked_index = tokenized_text.index(\"[MASK]\")\n",
        "\n",
        "    # 토큰화된 텍스트 -> 정수인덱스(ID) -> Pytorch 텐서\n",
        "    tokens_tensor = torch.tensor([indexed_tokens])\n",
        "\n",
        "    # 모델에 토큰 텐서를 전달하고 예측 수행\n",
        "    with torch.no_grad():\n",
        "        outputs = model(tokens_tensor)\n",
        "        predictions = outputs[0]\n",
        "\n",
        "    # 예측된 토큰 확인\n",
        "    predicted_index = torch.argmax(predictions[0, masked_index]).item()\n",
        "    predicted_token = tokenizer.convert_ids_to_tokens([predicted_index])[0]\n",
        "\n",
        "    # 마스크를 채운 문장 반환\n",
        "    tokenized_text[masked_index] = predicted_token\n",
        "    return tokenizer.convert_tokens_to_string(tokenized_text[1:-1])"
      ]
    },
    {
      "cell_type": "markdown",
      "id": "yeAYIzyYPVVt",
      "metadata": {
        "id": "yeAYIzyYPVVt"
      },
      "source": [
        "예시 문장 만들어서 MLM을 사용해 보세요!"
      ]
    },
    {
      "cell_type": "code",
      "execution_count": 24,
      "id": "Q81b8zuYK3E9",
      "metadata": {
        "id": "Q81b8zuYK3E9",
        "colab": {
          "base_uri": "https://localhost:8080/"
        },
        "outputId": "37d2d981-d0af-43f3-d873-9677e92adc83"
      },
      "outputs": [
        {
          "output_type": "stream",
          "name": "stdout",
          "text": [
            "Filled sentence: 어찌 , 내가 왕 이 될 상인가 ?\n"
          ]
        }
      ],
      "source": [
        "# 예시 1: \"[CLS] 열여덟, 우리는 서로의 이름을 처음 불렀다. 그리고 스물 하나, 우린 [MASK]을 했다.[SEP]\"\n",
        "# 예시 2: \"[CLS] 연동운은 INSGIHT 학회를 정말 사랑한다. 그는 INSIGHT 학회를 위해 [MASK]를 했다.[SEP]\"\n",
        "# 이 예시를 참고해서 [CLS](맨 앞), [MASK](채울 부분), [SEP](맨 뒤)를 추가해서 여러분만의 예시 문장 만들어주세요\n",
        "input_text = \"[CLS] 어찌, 내가 [MASK]이 될 상인가? [SEP]\" # 자유롭게 예시 문장 만들어보세요!\n",
        "filled_text = fill_mask(input_text)\n",
        "print(\"Filled sentence:\", filled_text)"
      ]
    },
    {
      "cell_type": "markdown",
      "source": [
        "### 7. 한국어 금융 뉴스 긍정, 부정 분류"
      ],
      "metadata": {
        "id": "w6tXBQQQUUNZ"
      },
      "id": "w6tXBQQQUUNZ"
    },
    {
      "cell_type": "code",
      "source": [
        "!pip install transformers\n",
        "!pip install datasets"
      ],
      "metadata": {
        "colab": {
          "base_uri": "https://localhost:8080/"
        },
        "collapsed": true,
        "id": "VNl9yVA-UjdC",
        "outputId": "5d45c836-61a1-4c31-bd0a-f0bd0d412fd9"
      },
      "id": "VNl9yVA-UjdC",
      "execution_count": 9,
      "outputs": [
        {
          "output_type": "stream",
          "name": "stdout",
          "text": [
            "Requirement already satisfied: transformers in /usr/local/lib/python3.11/dist-packages (4.51.3)\n",
            "Requirement already satisfied: filelock in /usr/local/lib/python3.11/dist-packages (from transformers) (3.18.0)\n",
            "Requirement already satisfied: huggingface-hub<1.0,>=0.30.0 in /usr/local/lib/python3.11/dist-packages (from transformers) (0.31.2)\n",
            "Requirement already satisfied: numpy>=1.17 in /usr/local/lib/python3.11/dist-packages (from transformers) (2.0.2)\n",
            "Requirement already satisfied: packaging>=20.0 in /usr/local/lib/python3.11/dist-packages (from transformers) (24.2)\n",
            "Requirement already satisfied: pyyaml>=5.1 in /usr/local/lib/python3.11/dist-packages (from transformers) (6.0.2)\n",
            "Requirement already satisfied: regex!=2019.12.17 in /usr/local/lib/python3.11/dist-packages (from transformers) (2024.11.6)\n",
            "Requirement already satisfied: requests in /usr/local/lib/python3.11/dist-packages (from transformers) (2.32.3)\n",
            "Requirement already satisfied: tokenizers<0.22,>=0.21 in /usr/local/lib/python3.11/dist-packages (from transformers) (0.21.1)\n",
            "Requirement already satisfied: safetensors>=0.4.3 in /usr/local/lib/python3.11/dist-packages (from transformers) (0.5.3)\n",
            "Requirement already satisfied: tqdm>=4.27 in /usr/local/lib/python3.11/dist-packages (from transformers) (4.67.1)\n",
            "Requirement already satisfied: fsspec>=2023.5.0 in /usr/local/lib/python3.11/dist-packages (from huggingface-hub<1.0,>=0.30.0->transformers) (2025.3.2)\n",
            "Requirement already satisfied: typing-extensions>=3.7.4.3 in /usr/local/lib/python3.11/dist-packages (from huggingface-hub<1.0,>=0.30.0->transformers) (4.13.2)\n",
            "Requirement already satisfied: charset-normalizer<4,>=2 in /usr/local/lib/python3.11/dist-packages (from requests->transformers) (3.4.2)\n",
            "Requirement already satisfied: idna<4,>=2.5 in /usr/local/lib/python3.11/dist-packages (from requests->transformers) (3.10)\n",
            "Requirement already satisfied: urllib3<3,>=1.21.1 in /usr/local/lib/python3.11/dist-packages (from requests->transformers) (2.4.0)\n",
            "Requirement already satisfied: certifi>=2017.4.17 in /usr/local/lib/python3.11/dist-packages (from requests->transformers) (2025.4.26)\n",
            "Requirement already satisfied: datasets in /usr/local/lib/python3.11/dist-packages (2.14.4)\n",
            "Requirement already satisfied: numpy>=1.17 in /usr/local/lib/python3.11/dist-packages (from datasets) (2.0.2)\n",
            "Requirement already satisfied: pyarrow>=8.0.0 in /usr/local/lib/python3.11/dist-packages (from datasets) (18.1.0)\n",
            "Requirement already satisfied: dill<0.3.8,>=0.3.0 in /usr/local/lib/python3.11/dist-packages (from datasets) (0.3.7)\n",
            "Requirement already satisfied: pandas in /usr/local/lib/python3.11/dist-packages (from datasets) (2.2.2)\n",
            "Requirement already satisfied: requests>=2.19.0 in /usr/local/lib/python3.11/dist-packages (from datasets) (2.32.3)\n",
            "Requirement already satisfied: tqdm>=4.62.1 in /usr/local/lib/python3.11/dist-packages (from datasets) (4.67.1)\n",
            "Requirement already satisfied: xxhash in /usr/local/lib/python3.11/dist-packages (from datasets) (3.5.0)\n",
            "Requirement already satisfied: multiprocess in /usr/local/lib/python3.11/dist-packages (from datasets) (0.70.15)\n",
            "Requirement already satisfied: fsspec>=2021.11.1 in /usr/local/lib/python3.11/dist-packages (from fsspec[http]>=2021.11.1->datasets) (2025.3.2)\n",
            "Requirement already satisfied: aiohttp in /usr/local/lib/python3.11/dist-packages (from datasets) (3.11.15)\n",
            "Requirement already satisfied: huggingface-hub<1.0.0,>=0.14.0 in /usr/local/lib/python3.11/dist-packages (from datasets) (0.31.2)\n",
            "Requirement already satisfied: packaging in /usr/local/lib/python3.11/dist-packages (from datasets) (24.2)\n",
            "Requirement already satisfied: pyyaml>=5.1 in /usr/local/lib/python3.11/dist-packages (from datasets) (6.0.2)\n",
            "Requirement already satisfied: aiohappyeyeballs>=2.3.0 in /usr/local/lib/python3.11/dist-packages (from aiohttp->datasets) (2.6.1)\n",
            "Requirement already satisfied: aiosignal>=1.1.2 in /usr/local/lib/python3.11/dist-packages (from aiohttp->datasets) (1.3.2)\n",
            "Requirement already satisfied: attrs>=17.3.0 in /usr/local/lib/python3.11/dist-packages (from aiohttp->datasets) (25.3.0)\n",
            "Requirement already satisfied: frozenlist>=1.1.1 in /usr/local/lib/python3.11/dist-packages (from aiohttp->datasets) (1.6.0)\n",
            "Requirement already satisfied: multidict<7.0,>=4.5 in /usr/local/lib/python3.11/dist-packages (from aiohttp->datasets) (6.4.3)\n",
            "Requirement already satisfied: propcache>=0.2.0 in /usr/local/lib/python3.11/dist-packages (from aiohttp->datasets) (0.3.1)\n",
            "Requirement already satisfied: yarl<2.0,>=1.17.0 in /usr/local/lib/python3.11/dist-packages (from aiohttp->datasets) (1.20.0)\n",
            "Requirement already satisfied: filelock in /usr/local/lib/python3.11/dist-packages (from huggingface-hub<1.0.0,>=0.14.0->datasets) (3.18.0)\n",
            "Requirement already satisfied: typing-extensions>=3.7.4.3 in /usr/local/lib/python3.11/dist-packages (from huggingface-hub<1.0.0,>=0.14.0->datasets) (4.13.2)\n",
            "Requirement already satisfied: charset-normalizer<4,>=2 in /usr/local/lib/python3.11/dist-packages (from requests>=2.19.0->datasets) (3.4.2)\n",
            "Requirement already satisfied: idna<4,>=2.5 in /usr/local/lib/python3.11/dist-packages (from requests>=2.19.0->datasets) (3.10)\n",
            "Requirement already satisfied: urllib3<3,>=1.21.1 in /usr/local/lib/python3.11/dist-packages (from requests>=2.19.0->datasets) (2.4.0)\n",
            "Requirement already satisfied: certifi>=2017.4.17 in /usr/local/lib/python3.11/dist-packages (from requests>=2.19.0->datasets) (2025.4.26)\n",
            "Requirement already satisfied: python-dateutil>=2.8.2 in /usr/local/lib/python3.11/dist-packages (from pandas->datasets) (2.9.0.post0)\n",
            "Requirement already satisfied: pytz>=2020.1 in /usr/local/lib/python3.11/dist-packages (from pandas->datasets) (2025.2)\n",
            "Requirement already satisfied: tzdata>=2022.7 in /usr/local/lib/python3.11/dist-packages (from pandas->datasets) (2025.2)\n",
            "Requirement already satisfied: six>=1.5 in /usr/local/lib/python3.11/dist-packages (from python-dateutil>=2.8.2->pandas->datasets) (1.17.0)\n"
          ]
        }
      ]
    },
    {
      "cell_type": "markdown",
      "source": [
        "finance_data.csv를 다운로드 합니다"
      ],
      "metadata": {
        "id": "MbRYkRmUcYKa"
      },
      "id": "MbRYkRmUcYKa"
    },
    {
      "cell_type": "code",
      "source": [
        "!wget https://raw.githubusercontent.com/ukairia777/finance_sentiment_corpus/main/finance_data.csv"
      ],
      "metadata": {
        "colab": {
          "base_uri": "https://localhost:8080/"
        },
        "id": "ecjZ0-WMUnIT",
        "outputId": "1c1caf8a-40f6-47bc-b97b-5b937663fb78"
      },
      "id": "ecjZ0-WMUnIT",
      "execution_count": 10,
      "outputs": [
        {
          "output_type": "stream",
          "name": "stdout",
          "text": [
            "--2025-05-27 01:05:48--  https://raw.githubusercontent.com/ukairia777/finance_sentiment_corpus/main/finance_data.csv\n",
            "Resolving raw.githubusercontent.com (raw.githubusercontent.com)... 185.199.108.133, 185.199.109.133, 185.199.110.133, ...\n",
            "Connecting to raw.githubusercontent.com (raw.githubusercontent.com)|185.199.108.133|:443... connected.\n",
            "HTTP request sent, awaiting response... 200 OK\n",
            "Length: 1319001 (1.3M) [text/plain]\n",
            "Saving to: ‘finance_data.csv’\n",
            "\n",
            "finance_data.csv    100%[===================>]   1.26M  --.-KB/s    in 0.03s   \n",
            "\n",
            "2025-05-27 01:05:49 (49.7 MB/s) - ‘finance_data.csv’ saved [1319001/1319001]\n",
            "\n"
          ]
        }
      ]
    },
    {
      "cell_type": "code",
      "source": [
        "import pandas as pd\n",
        "df = pd.read_csv('finance_data.csv')"
      ],
      "metadata": {
        "id": "EQHuMwZQUpai"
      },
      "id": "EQHuMwZQUpai",
      "execution_count": 11,
      "outputs": []
    },
    {
      "cell_type": "code",
      "source": [
        "df.head()"
      ],
      "metadata": {
        "colab": {
          "base_uri": "https://localhost:8080/",
          "height": 206
        },
        "id": "6ZMYHBd5Urli",
        "outputId": "8102aece-c35c-418d-e760-7208289be9ce"
      },
      "id": "6ZMYHBd5Urli",
      "execution_count": 12,
      "outputs": [
        {
          "output_type": "execute_result",
          "data": {
            "text/plain": [
              "     labels                                           sentence  \\\n",
              "0   neutral  According to Gran, the company has no plans to...   \n",
              "1   neutral  Technopolis plans to develop in stages an area...   \n",
              "2  negative  The international electronic industry company ...   \n",
              "3  positive  With the new production plant the company woul...   \n",
              "4  positive  According to the company's updated strategy fo...   \n",
              "\n",
              "                                        kor_sentence  \n",
              "0  Gran에 따르면, 그 회사는 회사가 성장하고 있는 곳이지만, 모든 생산을 러시아로...  \n",
              "1  테크노폴리스는 컴퓨터 기술과 통신 분야에서 일하는 회사들을 유치하기 위해 10만 평...  \n",
              "2  국제 전자산업 회사인 엘코텍은 탈린 공장에서 수십 명의 직원을 해고했으며, 이전의 ...  \n",
              "3  새로운 생산공장으로 인해 회사는 예상되는 수요 증가를 충족시킬 수 있는 능력을 증가...  \n",
              "4  2009-2012년 회사의 업데이트된 전략에 따르면, Basware는 20% - 4...  "
            ],
            "text/html": [
              "\n",
              "  <div id=\"df-0ff6a6c9-f9a6-49b9-9039-7b9eb00cb11c\" class=\"colab-df-container\">\n",
              "    <div>\n",
              "<style scoped>\n",
              "    .dataframe tbody tr th:only-of-type {\n",
              "        vertical-align: middle;\n",
              "    }\n",
              "\n",
              "    .dataframe tbody tr th {\n",
              "        vertical-align: top;\n",
              "    }\n",
              "\n",
              "    .dataframe thead th {\n",
              "        text-align: right;\n",
              "    }\n",
              "</style>\n",
              "<table border=\"1\" class=\"dataframe\">\n",
              "  <thead>\n",
              "    <tr style=\"text-align: right;\">\n",
              "      <th></th>\n",
              "      <th>labels</th>\n",
              "      <th>sentence</th>\n",
              "      <th>kor_sentence</th>\n",
              "    </tr>\n",
              "  </thead>\n",
              "  <tbody>\n",
              "    <tr>\n",
              "      <th>0</th>\n",
              "      <td>neutral</td>\n",
              "      <td>According to Gran, the company has no plans to...</td>\n",
              "      <td>Gran에 따르면, 그 회사는 회사가 성장하고 있는 곳이지만, 모든 생산을 러시아로...</td>\n",
              "    </tr>\n",
              "    <tr>\n",
              "      <th>1</th>\n",
              "      <td>neutral</td>\n",
              "      <td>Technopolis plans to develop in stages an area...</td>\n",
              "      <td>테크노폴리스는 컴퓨터 기술과 통신 분야에서 일하는 회사들을 유치하기 위해 10만 평...</td>\n",
              "    </tr>\n",
              "    <tr>\n",
              "      <th>2</th>\n",
              "      <td>negative</td>\n",
              "      <td>The international electronic industry company ...</td>\n",
              "      <td>국제 전자산업 회사인 엘코텍은 탈린 공장에서 수십 명의 직원을 해고했으며, 이전의 ...</td>\n",
              "    </tr>\n",
              "    <tr>\n",
              "      <th>3</th>\n",
              "      <td>positive</td>\n",
              "      <td>With the new production plant the company woul...</td>\n",
              "      <td>새로운 생산공장으로 인해 회사는 예상되는 수요 증가를 충족시킬 수 있는 능력을 증가...</td>\n",
              "    </tr>\n",
              "    <tr>\n",
              "      <th>4</th>\n",
              "      <td>positive</td>\n",
              "      <td>According to the company's updated strategy fo...</td>\n",
              "      <td>2009-2012년 회사의 업데이트된 전략에 따르면, Basware는 20% - 4...</td>\n",
              "    </tr>\n",
              "  </tbody>\n",
              "</table>\n",
              "</div>\n",
              "    <div class=\"colab-df-buttons\">\n",
              "\n",
              "  <div class=\"colab-df-container\">\n",
              "    <button class=\"colab-df-convert\" onclick=\"convertToInteractive('df-0ff6a6c9-f9a6-49b9-9039-7b9eb00cb11c')\"\n",
              "            title=\"Convert this dataframe to an interactive table.\"\n",
              "            style=\"display:none;\">\n",
              "\n",
              "  <svg xmlns=\"http://www.w3.org/2000/svg\" height=\"24px\" viewBox=\"0 -960 960 960\">\n",
              "    <path d=\"M120-120v-720h720v720H120Zm60-500h600v-160H180v160Zm220 220h160v-160H400v160Zm0 220h160v-160H400v160ZM180-400h160v-160H180v160Zm440 0h160v-160H620v160ZM180-180h160v-160H180v160Zm440 0h160v-160H620v160Z\"/>\n",
              "  </svg>\n",
              "    </button>\n",
              "\n",
              "  <style>\n",
              "    .colab-df-container {\n",
              "      display:flex;\n",
              "      gap: 12px;\n",
              "    }\n",
              "\n",
              "    .colab-df-convert {\n",
              "      background-color: #E8F0FE;\n",
              "      border: none;\n",
              "      border-radius: 50%;\n",
              "      cursor: pointer;\n",
              "      display: none;\n",
              "      fill: #1967D2;\n",
              "      height: 32px;\n",
              "      padding: 0 0 0 0;\n",
              "      width: 32px;\n",
              "    }\n",
              "\n",
              "    .colab-df-convert:hover {\n",
              "      background-color: #E2EBFA;\n",
              "      box-shadow: 0px 1px 2px rgba(60, 64, 67, 0.3), 0px 1px 3px 1px rgba(60, 64, 67, 0.15);\n",
              "      fill: #174EA6;\n",
              "    }\n",
              "\n",
              "    .colab-df-buttons div {\n",
              "      margin-bottom: 4px;\n",
              "    }\n",
              "\n",
              "    [theme=dark] .colab-df-convert {\n",
              "      background-color: #3B4455;\n",
              "      fill: #D2E3FC;\n",
              "    }\n",
              "\n",
              "    [theme=dark] .colab-df-convert:hover {\n",
              "      background-color: #434B5C;\n",
              "      box-shadow: 0px 1px 3px 1px rgba(0, 0, 0, 0.15);\n",
              "      filter: drop-shadow(0px 1px 2px rgba(0, 0, 0, 0.3));\n",
              "      fill: #FFFFFF;\n",
              "    }\n",
              "  </style>\n",
              "\n",
              "    <script>\n",
              "      const buttonEl =\n",
              "        document.querySelector('#df-0ff6a6c9-f9a6-49b9-9039-7b9eb00cb11c button.colab-df-convert');\n",
              "      buttonEl.style.display =\n",
              "        google.colab.kernel.accessAllowed ? 'block' : 'none';\n",
              "\n",
              "      async function convertToInteractive(key) {\n",
              "        const element = document.querySelector('#df-0ff6a6c9-f9a6-49b9-9039-7b9eb00cb11c');\n",
              "        const dataTable =\n",
              "          await google.colab.kernel.invokeFunction('convertToInteractive',\n",
              "                                                    [key], {});\n",
              "        if (!dataTable) return;\n",
              "\n",
              "        const docLinkHtml = 'Like what you see? Visit the ' +\n",
              "          '<a target=\"_blank\" href=https://colab.research.google.com/notebooks/data_table.ipynb>data table notebook</a>'\n",
              "          + ' to learn more about interactive tables.';\n",
              "        element.innerHTML = '';\n",
              "        dataTable['output_type'] = 'display_data';\n",
              "        await google.colab.output.renderOutput(dataTable, element);\n",
              "        const docLink = document.createElement('div');\n",
              "        docLink.innerHTML = docLinkHtml;\n",
              "        element.appendChild(docLink);\n",
              "      }\n",
              "    </script>\n",
              "  </div>\n",
              "\n",
              "\n",
              "    <div id=\"df-ff37e9b5-5ef8-49ef-82c1-b4b5fbde9946\">\n",
              "      <button class=\"colab-df-quickchart\" onclick=\"quickchart('df-ff37e9b5-5ef8-49ef-82c1-b4b5fbde9946')\"\n",
              "                title=\"Suggest charts\"\n",
              "                style=\"display:none;\">\n",
              "\n",
              "<svg xmlns=\"http://www.w3.org/2000/svg\" height=\"24px\"viewBox=\"0 0 24 24\"\n",
              "     width=\"24px\">\n",
              "    <g>\n",
              "        <path d=\"M19 3H5c-1.1 0-2 .9-2 2v14c0 1.1.9 2 2 2h14c1.1 0 2-.9 2-2V5c0-1.1-.9-2-2-2zM9 17H7v-7h2v7zm4 0h-2V7h2v10zm4 0h-2v-4h2v4z\"/>\n",
              "    </g>\n",
              "</svg>\n",
              "      </button>\n",
              "\n",
              "<style>\n",
              "  .colab-df-quickchart {\n",
              "      --bg-color: #E8F0FE;\n",
              "      --fill-color: #1967D2;\n",
              "      --hover-bg-color: #E2EBFA;\n",
              "      --hover-fill-color: #174EA6;\n",
              "      --disabled-fill-color: #AAA;\n",
              "      --disabled-bg-color: #DDD;\n",
              "  }\n",
              "\n",
              "  [theme=dark] .colab-df-quickchart {\n",
              "      --bg-color: #3B4455;\n",
              "      --fill-color: #D2E3FC;\n",
              "      --hover-bg-color: #434B5C;\n",
              "      --hover-fill-color: #FFFFFF;\n",
              "      --disabled-bg-color: #3B4455;\n",
              "      --disabled-fill-color: #666;\n",
              "  }\n",
              "\n",
              "  .colab-df-quickchart {\n",
              "    background-color: var(--bg-color);\n",
              "    border: none;\n",
              "    border-radius: 50%;\n",
              "    cursor: pointer;\n",
              "    display: none;\n",
              "    fill: var(--fill-color);\n",
              "    height: 32px;\n",
              "    padding: 0;\n",
              "    width: 32px;\n",
              "  }\n",
              "\n",
              "  .colab-df-quickchart:hover {\n",
              "    background-color: var(--hover-bg-color);\n",
              "    box-shadow: 0 1px 2px rgba(60, 64, 67, 0.3), 0 1px 3px 1px rgba(60, 64, 67, 0.15);\n",
              "    fill: var(--button-hover-fill-color);\n",
              "  }\n",
              "\n",
              "  .colab-df-quickchart-complete:disabled,\n",
              "  .colab-df-quickchart-complete:disabled:hover {\n",
              "    background-color: var(--disabled-bg-color);\n",
              "    fill: var(--disabled-fill-color);\n",
              "    box-shadow: none;\n",
              "  }\n",
              "\n",
              "  .colab-df-spinner {\n",
              "    border: 2px solid var(--fill-color);\n",
              "    border-color: transparent;\n",
              "    border-bottom-color: var(--fill-color);\n",
              "    animation:\n",
              "      spin 1s steps(1) infinite;\n",
              "  }\n",
              "\n",
              "  @keyframes spin {\n",
              "    0% {\n",
              "      border-color: transparent;\n",
              "      border-bottom-color: var(--fill-color);\n",
              "      border-left-color: var(--fill-color);\n",
              "    }\n",
              "    20% {\n",
              "      border-color: transparent;\n",
              "      border-left-color: var(--fill-color);\n",
              "      border-top-color: var(--fill-color);\n",
              "    }\n",
              "    30% {\n",
              "      border-color: transparent;\n",
              "      border-left-color: var(--fill-color);\n",
              "      border-top-color: var(--fill-color);\n",
              "      border-right-color: var(--fill-color);\n",
              "    }\n",
              "    40% {\n",
              "      border-color: transparent;\n",
              "      border-right-color: var(--fill-color);\n",
              "      border-top-color: var(--fill-color);\n",
              "    }\n",
              "    60% {\n",
              "      border-color: transparent;\n",
              "      border-right-color: var(--fill-color);\n",
              "    }\n",
              "    80% {\n",
              "      border-color: transparent;\n",
              "      border-right-color: var(--fill-color);\n",
              "      border-bottom-color: var(--fill-color);\n",
              "    }\n",
              "    90% {\n",
              "      border-color: transparent;\n",
              "      border-bottom-color: var(--fill-color);\n",
              "    }\n",
              "  }\n",
              "</style>\n",
              "\n",
              "      <script>\n",
              "        async function quickchart(key) {\n",
              "          const quickchartButtonEl =\n",
              "            document.querySelector('#' + key + ' button');\n",
              "          quickchartButtonEl.disabled = true;  // To prevent multiple clicks.\n",
              "          quickchartButtonEl.classList.add('colab-df-spinner');\n",
              "          try {\n",
              "            const charts = await google.colab.kernel.invokeFunction(\n",
              "                'suggestCharts', [key], {});\n",
              "          } catch (error) {\n",
              "            console.error('Error during call to suggestCharts:', error);\n",
              "          }\n",
              "          quickchartButtonEl.classList.remove('colab-df-spinner');\n",
              "          quickchartButtonEl.classList.add('colab-df-quickchart-complete');\n",
              "        }\n",
              "        (() => {\n",
              "          let quickchartButtonEl =\n",
              "            document.querySelector('#df-ff37e9b5-5ef8-49ef-82c1-b4b5fbde9946 button');\n",
              "          quickchartButtonEl.style.display =\n",
              "            google.colab.kernel.accessAllowed ? 'block' : 'none';\n",
              "        })();\n",
              "      </script>\n",
              "    </div>\n",
              "\n",
              "    </div>\n",
              "  </div>\n"
            ],
            "application/vnd.google.colaboratory.intrinsic+json": {
              "type": "dataframe",
              "variable_name": "df",
              "summary": "{\n  \"name\": \"df\",\n  \"rows\": 4846,\n  \"fields\": [\n    {\n      \"column\": \"labels\",\n      \"properties\": {\n        \"dtype\": \"category\",\n        \"num_unique_values\": 3,\n        \"samples\": [\n          \"neutral\",\n          \"negative\",\n          \"positive\"\n        ],\n        \"semantic_type\": \"\",\n        \"description\": \"\"\n      }\n    },\n    {\n      \"column\": \"sentence\",\n      \"properties\": {\n        \"dtype\": \"string\",\n        \"num_unique_values\": 4838,\n        \"samples\": [\n          \"The Company serves approximately 3,000 customers in over 100 countries.\",\n          \"On Dec. 1, Grimaldi acquired 1.5 million shares and a 50.1-percent stake in Finnlines.\",\n          \"The extracted filtrates are very high in clarity while the dried filter cakes meet required transport moisture limits (TMLs)for their ore grades.\"\n        ],\n        \"semantic_type\": \"\",\n        \"description\": \"\"\n      }\n    },\n    {\n      \"column\": \"kor_sentence\",\n      \"properties\": {\n        \"dtype\": \"string\",\n        \"num_unique_values\": 4827,\n        \"samples\": [\n          \"YIT\\uc5d0 \\ub300\\ud55c \\uace0\\uac1d\\ub4e4\\uc758 \\uc2e0\\ub8b0 \\uc99d\\uac00\\ub294 \\uc544\\ud30c\\ud2b8 \\ub9e4\\ub9e4\\uac00 \\uac00\\uc18d\\ud654\\ub41c \\uac83\\uc73c\\ub85c \\ubcfc \\uc218 \\uc788\\uc2b5\\ub2c8\\ub2e4.\",\n          \"\\uc0dd\\uc0b0\\uc740 2010\\ub144 \\ub3d9\\uc548 \\uba55\\uc2dc\\ucf54\\uc640 \\ud5dd\\uac00\\ub9ac\\ub97c \\ud3ec\\ud568\\ud55c \\uc5d8\\ucf54\\ud14d\\uc758 \\ub2e4\\ub978 \\uc9c0\\uc5ed\\uc73c\\ub85c \\ud655\\ub300\\ub420 \\uac83\\uc774\\ub2e4.\",\n          \"\\ubc14\\uc774\\uc0b4\\ub77c\\ub294 \\ub610\\ud55c 2009\\ub144\\uc758 2\\uc5b55220\\ub9cc \\uc720\\ub85c\\uc5d0 \\ube44\\ud574 2010\\ub144\\uc5d0\\ub294 2\\uc5b55320\\ub9cc \\uc720\\ub85c\\uac00 \\uc21c\\ub9e4\\ucd9c\\ub420 \\uac83\\uc73c\\ub85c \\uc608\\uc0c1\\ud55c\\ub2e4\\uace0 \\ubc1d\\ud614\\ub2e4.\"\n        ],\n        \"semantic_type\": \"\",\n        \"description\": \"\"\n      }\n    }\n  ]\n}"
            }
          },
          "metadata": {},
          "execution_count": 12
        }
      ]
    },
    {
      "cell_type": "code",
      "source": [
        "print('샘플의 개수 :', len(df))"
      ],
      "metadata": {
        "colab": {
          "base_uri": "https://localhost:8080/"
        },
        "id": "zG1Al8N7Usnj",
        "outputId": "54c9c607-0752-41ae-ba52-8cf9bb2791bd"
      },
      "id": "zG1Al8N7Usnj",
      "execution_count": 25,
      "outputs": [
        {
          "output_type": "stream",
          "name": "stdout",
          "text": [
            "샘플의 개수 : 4846\n"
          ]
        }
      ]
    },
    {
      "cell_type": "markdown",
      "source": [
        "neutral, positive. negative를 숫자로 바꿔줍니다. <br>\n",
        "neutral:0, positive:1, negative:2로 바꿀게요"
      ],
      "metadata": {
        "id": "KnjUNsEOdJzG"
      },
      "id": "KnjUNsEOdJzG"
    },
    {
      "cell_type": "code",
      "source": [
        "df['labels'] = df['labels'].replace(['neutral', 'positive', 'negative'],[0, 1, 2])\n",
        "df.head()"
      ],
      "metadata": {
        "colab": {
          "base_uri": "https://localhost:8080/",
          "height": 263
        },
        "id": "fC-xK-nDUuTy",
        "outputId": "9787481d-0d52-460e-a073-370366d8cd44"
      },
      "id": "fC-xK-nDUuTy",
      "execution_count": 26,
      "outputs": [
        {
          "output_type": "stream",
          "name": "stderr",
          "text": [
            "<ipython-input-26-910beaa298a3>:1: FutureWarning: Downcasting behavior in `replace` is deprecated and will be removed in a future version. To retain the old behavior, explicitly call `result.infer_objects(copy=False)`. To opt-in to the future behavior, set `pd.set_option('future.no_silent_downcasting', True)`\n",
            "  df['labels'] = df['labels'].replace(['neutral', 'positive', 'negative'],[0, 1, 2])\n"
          ]
        },
        {
          "output_type": "execute_result",
          "data": {
            "text/plain": [
              "   labels                                           sentence  \\\n",
              "0       0  According to Gran, the company has no plans to...   \n",
              "1       0  Technopolis plans to develop in stages an area...   \n",
              "2       2  The international electronic industry company ...   \n",
              "3       1  With the new production plant the company woul...   \n",
              "4       1  According to the company's updated strategy fo...   \n",
              "\n",
              "                                        kor_sentence  \n",
              "0  Gran에 따르면, 그 회사는 회사가 성장하고 있는 곳이지만, 모든 생산을 러시아로...  \n",
              "1  테크노폴리스는 컴퓨터 기술과 통신 분야에서 일하는 회사들을 유치하기 위해 10만 평...  \n",
              "2  국제 전자산업 회사인 엘코텍은 탈린 공장에서 수십 명의 직원을 해고했으며, 이전의 ...  \n",
              "3  새로운 생산공장으로 인해 회사는 예상되는 수요 증가를 충족시킬 수 있는 능력을 증가...  \n",
              "4  2009-2012년 회사의 업데이트된 전략에 따르면, Basware는 20% - 4...  "
            ],
            "text/html": [
              "\n",
              "  <div id=\"df-c2e3325c-1919-495a-b1ed-db408a8886af\" class=\"colab-df-container\">\n",
              "    <div>\n",
              "<style scoped>\n",
              "    .dataframe tbody tr th:only-of-type {\n",
              "        vertical-align: middle;\n",
              "    }\n",
              "\n",
              "    .dataframe tbody tr th {\n",
              "        vertical-align: top;\n",
              "    }\n",
              "\n",
              "    .dataframe thead th {\n",
              "        text-align: right;\n",
              "    }\n",
              "</style>\n",
              "<table border=\"1\" class=\"dataframe\">\n",
              "  <thead>\n",
              "    <tr style=\"text-align: right;\">\n",
              "      <th></th>\n",
              "      <th>labels</th>\n",
              "      <th>sentence</th>\n",
              "      <th>kor_sentence</th>\n",
              "    </tr>\n",
              "  </thead>\n",
              "  <tbody>\n",
              "    <tr>\n",
              "      <th>0</th>\n",
              "      <td>0</td>\n",
              "      <td>According to Gran, the company has no plans to...</td>\n",
              "      <td>Gran에 따르면, 그 회사는 회사가 성장하고 있는 곳이지만, 모든 생산을 러시아로...</td>\n",
              "    </tr>\n",
              "    <tr>\n",
              "      <th>1</th>\n",
              "      <td>0</td>\n",
              "      <td>Technopolis plans to develop in stages an area...</td>\n",
              "      <td>테크노폴리스는 컴퓨터 기술과 통신 분야에서 일하는 회사들을 유치하기 위해 10만 평...</td>\n",
              "    </tr>\n",
              "    <tr>\n",
              "      <th>2</th>\n",
              "      <td>2</td>\n",
              "      <td>The international electronic industry company ...</td>\n",
              "      <td>국제 전자산업 회사인 엘코텍은 탈린 공장에서 수십 명의 직원을 해고했으며, 이전의 ...</td>\n",
              "    </tr>\n",
              "    <tr>\n",
              "      <th>3</th>\n",
              "      <td>1</td>\n",
              "      <td>With the new production plant the company woul...</td>\n",
              "      <td>새로운 생산공장으로 인해 회사는 예상되는 수요 증가를 충족시킬 수 있는 능력을 증가...</td>\n",
              "    </tr>\n",
              "    <tr>\n",
              "      <th>4</th>\n",
              "      <td>1</td>\n",
              "      <td>According to the company's updated strategy fo...</td>\n",
              "      <td>2009-2012년 회사의 업데이트된 전략에 따르면, Basware는 20% - 4...</td>\n",
              "    </tr>\n",
              "  </tbody>\n",
              "</table>\n",
              "</div>\n",
              "    <div class=\"colab-df-buttons\">\n",
              "\n",
              "  <div class=\"colab-df-container\">\n",
              "    <button class=\"colab-df-convert\" onclick=\"convertToInteractive('df-c2e3325c-1919-495a-b1ed-db408a8886af')\"\n",
              "            title=\"Convert this dataframe to an interactive table.\"\n",
              "            style=\"display:none;\">\n",
              "\n",
              "  <svg xmlns=\"http://www.w3.org/2000/svg\" height=\"24px\" viewBox=\"0 -960 960 960\">\n",
              "    <path d=\"M120-120v-720h720v720H120Zm60-500h600v-160H180v160Zm220 220h160v-160H400v160Zm0 220h160v-160H400v160ZM180-400h160v-160H180v160Zm440 0h160v-160H620v160ZM180-180h160v-160H180v160Zm440 0h160v-160H620v160Z\"/>\n",
              "  </svg>\n",
              "    </button>\n",
              "\n",
              "  <style>\n",
              "    .colab-df-container {\n",
              "      display:flex;\n",
              "      gap: 12px;\n",
              "    }\n",
              "\n",
              "    .colab-df-convert {\n",
              "      background-color: #E8F0FE;\n",
              "      border: none;\n",
              "      border-radius: 50%;\n",
              "      cursor: pointer;\n",
              "      display: none;\n",
              "      fill: #1967D2;\n",
              "      height: 32px;\n",
              "      padding: 0 0 0 0;\n",
              "      width: 32px;\n",
              "    }\n",
              "\n",
              "    .colab-df-convert:hover {\n",
              "      background-color: #E2EBFA;\n",
              "      box-shadow: 0px 1px 2px rgba(60, 64, 67, 0.3), 0px 1px 3px 1px rgba(60, 64, 67, 0.15);\n",
              "      fill: #174EA6;\n",
              "    }\n",
              "\n",
              "    .colab-df-buttons div {\n",
              "      margin-bottom: 4px;\n",
              "    }\n",
              "\n",
              "    [theme=dark] .colab-df-convert {\n",
              "      background-color: #3B4455;\n",
              "      fill: #D2E3FC;\n",
              "    }\n",
              "\n",
              "    [theme=dark] .colab-df-convert:hover {\n",
              "      background-color: #434B5C;\n",
              "      box-shadow: 0px 1px 3px 1px rgba(0, 0, 0, 0.15);\n",
              "      filter: drop-shadow(0px 1px 2px rgba(0, 0, 0, 0.3));\n",
              "      fill: #FFFFFF;\n",
              "    }\n",
              "  </style>\n",
              "\n",
              "    <script>\n",
              "      const buttonEl =\n",
              "        document.querySelector('#df-c2e3325c-1919-495a-b1ed-db408a8886af button.colab-df-convert');\n",
              "      buttonEl.style.display =\n",
              "        google.colab.kernel.accessAllowed ? 'block' : 'none';\n",
              "\n",
              "      async function convertToInteractive(key) {\n",
              "        const element = document.querySelector('#df-c2e3325c-1919-495a-b1ed-db408a8886af');\n",
              "        const dataTable =\n",
              "          await google.colab.kernel.invokeFunction('convertToInteractive',\n",
              "                                                    [key], {});\n",
              "        if (!dataTable) return;\n",
              "\n",
              "        const docLinkHtml = 'Like what you see? Visit the ' +\n",
              "          '<a target=\"_blank\" href=https://colab.research.google.com/notebooks/data_table.ipynb>data table notebook</a>'\n",
              "          + ' to learn more about interactive tables.';\n",
              "        element.innerHTML = '';\n",
              "        dataTable['output_type'] = 'display_data';\n",
              "        await google.colab.output.renderOutput(dataTable, element);\n",
              "        const docLink = document.createElement('div');\n",
              "        docLink.innerHTML = docLinkHtml;\n",
              "        element.appendChild(docLink);\n",
              "      }\n",
              "    </script>\n",
              "  </div>\n",
              "\n",
              "\n",
              "    <div id=\"df-567f3aad-5fe8-4393-abd2-843c518d3567\">\n",
              "      <button class=\"colab-df-quickchart\" onclick=\"quickchart('df-567f3aad-5fe8-4393-abd2-843c518d3567')\"\n",
              "                title=\"Suggest charts\"\n",
              "                style=\"display:none;\">\n",
              "\n",
              "<svg xmlns=\"http://www.w3.org/2000/svg\" height=\"24px\"viewBox=\"0 0 24 24\"\n",
              "     width=\"24px\">\n",
              "    <g>\n",
              "        <path d=\"M19 3H5c-1.1 0-2 .9-2 2v14c0 1.1.9 2 2 2h14c1.1 0 2-.9 2-2V5c0-1.1-.9-2-2-2zM9 17H7v-7h2v7zm4 0h-2V7h2v10zm4 0h-2v-4h2v4z\"/>\n",
              "    </g>\n",
              "</svg>\n",
              "      </button>\n",
              "\n",
              "<style>\n",
              "  .colab-df-quickchart {\n",
              "      --bg-color: #E8F0FE;\n",
              "      --fill-color: #1967D2;\n",
              "      --hover-bg-color: #E2EBFA;\n",
              "      --hover-fill-color: #174EA6;\n",
              "      --disabled-fill-color: #AAA;\n",
              "      --disabled-bg-color: #DDD;\n",
              "  }\n",
              "\n",
              "  [theme=dark] .colab-df-quickchart {\n",
              "      --bg-color: #3B4455;\n",
              "      --fill-color: #D2E3FC;\n",
              "      --hover-bg-color: #434B5C;\n",
              "      --hover-fill-color: #FFFFFF;\n",
              "      --disabled-bg-color: #3B4455;\n",
              "      --disabled-fill-color: #666;\n",
              "  }\n",
              "\n",
              "  .colab-df-quickchart {\n",
              "    background-color: var(--bg-color);\n",
              "    border: none;\n",
              "    border-radius: 50%;\n",
              "    cursor: pointer;\n",
              "    display: none;\n",
              "    fill: var(--fill-color);\n",
              "    height: 32px;\n",
              "    padding: 0;\n",
              "    width: 32px;\n",
              "  }\n",
              "\n",
              "  .colab-df-quickchart:hover {\n",
              "    background-color: var(--hover-bg-color);\n",
              "    box-shadow: 0 1px 2px rgba(60, 64, 67, 0.3), 0 1px 3px 1px rgba(60, 64, 67, 0.15);\n",
              "    fill: var(--button-hover-fill-color);\n",
              "  }\n",
              "\n",
              "  .colab-df-quickchart-complete:disabled,\n",
              "  .colab-df-quickchart-complete:disabled:hover {\n",
              "    background-color: var(--disabled-bg-color);\n",
              "    fill: var(--disabled-fill-color);\n",
              "    box-shadow: none;\n",
              "  }\n",
              "\n",
              "  .colab-df-spinner {\n",
              "    border: 2px solid var(--fill-color);\n",
              "    border-color: transparent;\n",
              "    border-bottom-color: var(--fill-color);\n",
              "    animation:\n",
              "      spin 1s steps(1) infinite;\n",
              "  }\n",
              "\n",
              "  @keyframes spin {\n",
              "    0% {\n",
              "      border-color: transparent;\n",
              "      border-bottom-color: var(--fill-color);\n",
              "      border-left-color: var(--fill-color);\n",
              "    }\n",
              "    20% {\n",
              "      border-color: transparent;\n",
              "      border-left-color: var(--fill-color);\n",
              "      border-top-color: var(--fill-color);\n",
              "    }\n",
              "    30% {\n",
              "      border-color: transparent;\n",
              "      border-left-color: var(--fill-color);\n",
              "      border-top-color: var(--fill-color);\n",
              "      border-right-color: var(--fill-color);\n",
              "    }\n",
              "    40% {\n",
              "      border-color: transparent;\n",
              "      border-right-color: var(--fill-color);\n",
              "      border-top-color: var(--fill-color);\n",
              "    }\n",
              "    60% {\n",
              "      border-color: transparent;\n",
              "      border-right-color: var(--fill-color);\n",
              "    }\n",
              "    80% {\n",
              "      border-color: transparent;\n",
              "      border-right-color: var(--fill-color);\n",
              "      border-bottom-color: var(--fill-color);\n",
              "    }\n",
              "    90% {\n",
              "      border-color: transparent;\n",
              "      border-bottom-color: var(--fill-color);\n",
              "    }\n",
              "  }\n",
              "</style>\n",
              "\n",
              "      <script>\n",
              "        async function quickchart(key) {\n",
              "          const quickchartButtonEl =\n",
              "            document.querySelector('#' + key + ' button');\n",
              "          quickchartButtonEl.disabled = true;  // To prevent multiple clicks.\n",
              "          quickchartButtonEl.classList.add('colab-df-spinner');\n",
              "          try {\n",
              "            const charts = await google.colab.kernel.invokeFunction(\n",
              "                'suggestCharts', [key], {});\n",
              "          } catch (error) {\n",
              "            console.error('Error during call to suggestCharts:', error);\n",
              "          }\n",
              "          quickchartButtonEl.classList.remove('colab-df-spinner');\n",
              "          quickchartButtonEl.classList.add('colab-df-quickchart-complete');\n",
              "        }\n",
              "        (() => {\n",
              "          let quickchartButtonEl =\n",
              "            document.querySelector('#df-567f3aad-5fe8-4393-abd2-843c518d3567 button');\n",
              "          quickchartButtonEl.style.display =\n",
              "            google.colab.kernel.accessAllowed ? 'block' : 'none';\n",
              "        })();\n",
              "      </script>\n",
              "    </div>\n",
              "\n",
              "    </div>\n",
              "  </div>\n"
            ],
            "application/vnd.google.colaboratory.intrinsic+json": {
              "type": "dataframe",
              "variable_name": "df",
              "summary": "{\n  \"name\": \"df\",\n  \"rows\": 4846,\n  \"fields\": [\n    {\n      \"column\": \"labels\",\n      \"properties\": {\n        \"dtype\": \"number\",\n        \"std\": 0,\n        \"min\": 0,\n        \"max\": 2,\n        \"num_unique_values\": 3,\n        \"samples\": [\n          0,\n          2,\n          1\n        ],\n        \"semantic_type\": \"\",\n        \"description\": \"\"\n      }\n    },\n    {\n      \"column\": \"sentence\",\n      \"properties\": {\n        \"dtype\": \"string\",\n        \"num_unique_values\": 4838,\n        \"samples\": [\n          \"The Company serves approximately 3,000 customers in over 100 countries.\",\n          \"On Dec. 1, Grimaldi acquired 1.5 million shares and a 50.1-percent stake in Finnlines.\",\n          \"The extracted filtrates are very high in clarity while the dried filter cakes meet required transport moisture limits (TMLs)for their ore grades.\"\n        ],\n        \"semantic_type\": \"\",\n        \"description\": \"\"\n      }\n    },\n    {\n      \"column\": \"kor_sentence\",\n      \"properties\": {\n        \"dtype\": \"string\",\n        \"num_unique_values\": 4827,\n        \"samples\": [\n          \"YIT\\uc5d0 \\ub300\\ud55c \\uace0\\uac1d\\ub4e4\\uc758 \\uc2e0\\ub8b0 \\uc99d\\uac00\\ub294 \\uc544\\ud30c\\ud2b8 \\ub9e4\\ub9e4\\uac00 \\uac00\\uc18d\\ud654\\ub41c \\uac83\\uc73c\\ub85c \\ubcfc \\uc218 \\uc788\\uc2b5\\ub2c8\\ub2e4.\",\n          \"\\uc0dd\\uc0b0\\uc740 2010\\ub144 \\ub3d9\\uc548 \\uba55\\uc2dc\\ucf54\\uc640 \\ud5dd\\uac00\\ub9ac\\ub97c \\ud3ec\\ud568\\ud55c \\uc5d8\\ucf54\\ud14d\\uc758 \\ub2e4\\ub978 \\uc9c0\\uc5ed\\uc73c\\ub85c \\ud655\\ub300\\ub420 \\uac83\\uc774\\ub2e4.\",\n          \"\\ubc14\\uc774\\uc0b4\\ub77c\\ub294 \\ub610\\ud55c 2009\\ub144\\uc758 2\\uc5b55220\\ub9cc \\uc720\\ub85c\\uc5d0 \\ube44\\ud574 2010\\ub144\\uc5d0\\ub294 2\\uc5b55320\\ub9cc \\uc720\\ub85c\\uac00 \\uc21c\\ub9e4\\ucd9c\\ub420 \\uac83\\uc73c\\ub85c \\uc608\\uc0c1\\ud55c\\ub2e4\\uace0 \\ubc1d\\ud614\\ub2e4.\"\n        ],\n        \"semantic_type\": \"\",\n        \"description\": \"\"\n      }\n    }\n  ]\n}"
            }
          },
          "metadata": {},
          "execution_count": 26
        }
      ]
    },
    {
      "cell_type": "markdown",
      "source": [
        "위의 dataframe을 dataset 객체로 변환해줍니다"
      ],
      "metadata": {
        "id": "UFpwMzt7dbOf"
      },
      "id": "UFpwMzt7dbOf"
    },
    {
      "cell_type": "code",
      "source": [
        "from datasets import Dataset\n",
        "\n",
        "all_data = Dataset.from_pandas(df)"
      ],
      "metadata": {
        "id": "9EtcjYQ9U24T"
      },
      "id": "9EtcjYQ9U24T",
      "execution_count": 27,
      "outputs": []
    },
    {
      "cell_type": "code",
      "source": [
        "all_data"
      ],
      "metadata": {
        "colab": {
          "base_uri": "https://localhost:8080/"
        },
        "id": "ndnRYYyxVG3F",
        "outputId": "e265c59a-e9a3-417e-fe43-4f8c10d0c80e"
      },
      "id": "ndnRYYyxVG3F",
      "execution_count": 28,
      "outputs": [
        {
          "output_type": "execute_result",
          "data": {
            "text/plain": [
              "Dataset({\n",
              "    features: ['labels', 'sentence', 'kor_sentence'],\n",
              "    num_rows: 4846\n",
              "})"
            ]
          },
          "metadata": {},
          "execution_count": 28
        }
      ]
    },
    {
      "cell_type": "markdown",
      "source": [
        "all_data를 train과 test로 나눠줍니다<br>\n",
        "train : test = 4 : 1로 나눠줍니다"
      ],
      "metadata": {
        "id": "XtUTOhy-df74"
      },
      "id": "XtUTOhy-df74"
    },
    {
      "cell_type": "code",
      "source": [
        "cs = all_data.train_test_split(test_size=0.2)\n",
        "\n",
        "train_cs = cs['train']\n",
        "test_cs = cs['test']"
      ],
      "metadata": {
        "id": "Oauj0GccVJNt"
      },
      "id": "Oauj0GccVJNt",
      "execution_count": 29,
      "outputs": []
    },
    {
      "cell_type": "code",
      "source": [
        "train_cs"
      ],
      "metadata": {
        "colab": {
          "base_uri": "https://localhost:8080/"
        },
        "id": "WI-P3-anVlgQ",
        "outputId": "23380036-0cea-414a-9d40-5ddbfa52b607"
      },
      "id": "WI-P3-anVlgQ",
      "execution_count": 30,
      "outputs": [
        {
          "output_type": "execute_result",
          "data": {
            "text/plain": [
              "Dataset({\n",
              "    features: ['labels', 'sentence', 'kor_sentence'],\n",
              "    num_rows: 3876\n",
              "})"
            ]
          },
          "metadata": {},
          "execution_count": 30
        }
      ]
    },
    {
      "cell_type": "code",
      "source": [
        "test_cs"
      ],
      "metadata": {
        "colab": {
          "base_uri": "https://localhost:8080/"
        },
        "id": "tLum1NfiVmtf",
        "outputId": "ee649b49-0f9f-4913-bfd0-1b981f260f2b"
      },
      "id": "tLum1NfiVmtf",
      "execution_count": 31,
      "outputs": [
        {
          "output_type": "execute_result",
          "data": {
            "text/plain": [
              "Dataset({\n",
              "    features: ['labels', 'sentence', 'kor_sentence'],\n",
              "    num_rows: 970\n",
              "})"
            ]
          },
          "metadata": {},
          "execution_count": 31
        }
      ]
    },
    {
      "cell_type": "code",
      "source": [
        "print(\"-----train_cs-----\")\n",
        "print(train_cs)\n",
        "print(\"-----test_cs-----\")\n",
        "print(test_cs)"
      ],
      "metadata": {
        "colab": {
          "base_uri": "https://localhost:8080/"
        },
        "id": "UwLbKD21VtsZ",
        "outputId": "059a669e-26b4-4e52-be19-4f386a1f47e9"
      },
      "id": "UwLbKD21VtsZ",
      "execution_count": 32,
      "outputs": [
        {
          "output_type": "stream",
          "name": "stdout",
          "text": [
            "-----train_cs-----\n",
            "Dataset({\n",
            "    features: ['labels', 'sentence', 'kor_sentence'],\n",
            "    num_rows: 3876\n",
            "})\n",
            "-----test_cs-----\n",
            "Dataset({\n",
            "    features: ['labels', 'sentence', 'kor_sentence'],\n",
            "    num_rows: 970\n",
            "})\n"
          ]
        }
      ]
    },
    {
      "cell_type": "markdown",
      "source": [
        "특정 샘플과, 샘플에 해당하는 레이블을 출력합니다.<br>\n",
        "레이블은 0: neutral, 1: positive, 2: negative였죠"
      ],
      "metadata": {
        "id": "Gs-zl-yheGsy"
      },
      "id": "Gs-zl-yheGsy"
    },
    {
      "cell_type": "code",
      "source": [
        "print('샘플:', train_cs['kor_sentence'][0])\n",
        "print('샘플의 레이블:', train_cs['labels'][0])"
      ],
      "metadata": {
        "colab": {
          "base_uri": "https://localhost:8080/"
        },
        "id": "SE5NJBnCWA1R",
        "outputId": "cab99f20-7bba-4162-b4a5-08a9e12a934b"
      },
      "id": "SE5NJBnCWA1R",
      "execution_count": 33,
      "outputs": [
        {
          "output_type": "stream",
          "name": "stdout",
          "text": [
            "샘플: 옥타 센터 지역은 2016년까지 약 70만 평방미터의 사무실 부지를 가질 것으로 예상된다.\n",
            "샘플의 레이블: 0\n"
          ]
        }
      ]
    },
    {
      "cell_type": "code",
      "source": [
        "import pandas as pd\n",
        "import numpy as np\n",
        "import random\n",
        "import time\n",
        "import datetime\n",
        "from tqdm import tqdm\n",
        "\n",
        "import csv\n",
        "import os\n",
        "\n",
        "import tensorflow as tf\n",
        "import torch\n",
        "\n",
        "from transformers import BertTokenizer\n",
        "from transformers import BertForSequenceClassification, BertConfig\n",
        "from transformers import get_linear_schedule_with_warmup\n",
        "from torch.utils.data import TensorDataset, DataLoader, RandomSampler, SequentialSampler\n",
        "from torch.optim import AdamW\n",
        "\n",
        "from sklearn.model_selection import train_test_split\n",
        "from sklearn.metrics import f1_score, roc_auc_score, accuracy_score, hamming_loss"
      ],
      "metadata": {
        "id": "ZaKsc7NEWDN6"
      },
      "id": "ZaKsc7NEWDN6",
      "execution_count": 34,
      "outputs": []
    },
    {
      "cell_type": "markdown",
      "source": [
        "훈련 데이터, 검증 데이터, 테스트 데이터에 대해서 `[CLS] 문장 [SEP]` 구조를 만듭니다.\n"
      ],
      "metadata": {
        "id": "_B8aU2LzeSit"
      },
      "id": "_B8aU2LzeSit"
    },
    {
      "cell_type": "code",
      "source": [
        "train_sentences = list(map(lambda x: '[CLS] ' + str(x) + ' [SEP]', train_cs['kor_sentence']))\n",
        "test_sentences = list(map(lambda x: '[CLS] ' + str(x) + ' [SEP]', test_cs['kor_sentence']))"
      ],
      "metadata": {
        "id": "PzNtwi-IXUoR"
      },
      "id": "PzNtwi-IXUoR",
      "execution_count": 35,
      "outputs": []
    },
    {
      "cell_type": "markdown",
      "source": [
        "train, validation, test에 대해 labels 정보만 따로 저장합니다"
      ],
      "metadata": {
        "id": "UBw9FB0MeV80"
      },
      "id": "UBw9FB0MeV80"
    },
    {
      "cell_type": "code",
      "source": [
        "train_labels = train_cs['labels']\n",
        "test_labels = test_cs['labels']"
      ],
      "metadata": {
        "id": "XcvXe3M1XVvR"
      },
      "id": "XcvXe3M1XVvR",
      "execution_count": 36,
      "outputs": []
    },
    {
      "cell_type": "markdown",
      "source": [
        "test_sentences와 test_labels를 확인합니다"
      ],
      "metadata": {
        "id": "bnTxuaXDeael"
      },
      "id": "bnTxuaXDeael"
    },
    {
      "cell_type": "code",
      "source": [
        "test_sentences[:5]"
      ],
      "metadata": {
        "colab": {
          "base_uri": "https://localhost:8080/"
        },
        "id": "TKnDY47YXXD5",
        "outputId": "c7579a7c-ced7-4b4e-fb4a-8c3fc125c80f"
      },
      "id": "TKnDY47YXXD5",
      "execution_count": 37,
      "outputs": [
        {
          "output_type": "execute_result",
          "data": {
            "text/plain": [
              "[\"[CLS] 밴드와 접촉하는 플래튼 가장자리에는 플래튼의 중간 영역을 향해 돌출부가 있는 씰이 제공되며, 플래튼, 밴드 및 씰에 의해 정의된 부피에 압력을 가하고 유지하기 위한 수단이 제공됩니다.'' [SEP]\",\n",
              " '[CLS] 레밍크+아이넨은 1920년에 지붕을 씌우는 펠트 제조를 시작했고 1930년대에 아스팔트를 생산하기 시작했다. [SEP]',\n",
              " '[CLS] 스테판은 CS카봇이 생산량의 55%를 굿이어, 브리지스톤, 미슐랭 폴란드 공장과 이 회사 파리 물류센터를 통해 독일 미슐랭이나 이탈리아 피렐리 등에 주로 수출하고 있다고 밝혔다. [SEP]',\n",
              " '[CLS] 합작법인은 풍력발전 예정지역 임대차 협상과 풍력발전 타당성 도표를 위한 빠른 일정표를 계획하고 있다. [SEP]',\n",
              " '[CLS] 알다타는 이 회사와 마이크로소프트 사이에 정의되어야 할 운영 측면들이 아직 많이 남아 있으며, 이 계약으로 인한 제품 및 시장 이니셔티브에 대한 자세한 내용은 나중에 알 수 있을 것이라고 말했다. [SEP]']"
            ]
          },
          "metadata": {},
          "execution_count": 37
        }
      ]
    },
    {
      "cell_type": "code",
      "source": [
        "test_labels[:5]"
      ],
      "metadata": {
        "colab": {
          "base_uri": "https://localhost:8080/"
        },
        "id": "fCd1t7anXYcI",
        "outputId": "0c8ca9a3-fb2e-44fc-f86b-30230fd60a32"
      },
      "id": "fCd1t7anXYcI",
      "execution_count": 38,
      "outputs": [
        {
          "output_type": "execute_result",
          "data": {
            "text/plain": [
              "[0, 0, 0, 0, 0]"
            ]
          },
          "metadata": {},
          "execution_count": 38
        }
      ]
    },
    {
      "cell_type": "markdown",
      "source": [
        "tokenizer와 model을 불러옵니다.<br>\n",
        "tokenizer로는 BertTokenizer를 사용하고, model은 분류모델인 BertForSequenceClassification을 사용합니다<br>\n",
        "우리는 neutral, negative, positive중에 하나를 예측해야 하므로, num_labels에 3을 넣어서 model에 num_labels를 넘겨줍니다"
      ],
      "metadata": {
        "id": "O-DF8jY-ec7t"
      },
      "id": "O-DF8jY-ec7t"
    },
    {
      "cell_type": "code",
      "source": [
        "# 한국어 BERT 중 하나인 'klue/bert-base'를 사용.\n",
        "tokenizer = BertTokenizer.from_pretrained('klue/bert-base') # 사전학습 된 상태로 불러옵니다\n",
        "\n",
        "num_labels = 3\n",
        "\n",
        "model = BertForSequenceClassification.from_pretrained(\"klue/bert-base\", num_labels=num_labels) # 사전학습 된 상태로 불러옵니다"
      ],
      "metadata": {
        "colab": {
          "base_uri": "https://localhost:8080/"
        },
        "id": "0vfBq29yXagY",
        "outputId": "2ffa6f5a-4e63-4a07-ba37-380b10e9b4bb"
      },
      "id": "0vfBq29yXagY",
      "execution_count": 39,
      "outputs": [
        {
          "output_type": "stream",
          "name": "stderr",
          "text": [
            "Some weights of BertForSequenceClassification were not initialized from the model checkpoint at klue/bert-base and are newly initialized: ['classifier.bias', 'classifier.weight']\n",
            "You should probably TRAIN this model on a down-stream task to be able to use it for predictions and inference.\n"
          ]
        }
      ]
    },
    {
      "cell_type": "code",
      "source": [
        "# 원래 BERT는 max_length가 512지만, 128로 축소해서 학습하면 더 빠른 시간에 학습이 가능합니다.\n",
        "# MAX_LEN을 128로 하고, 성능이 좋지 않으면 MAX_LEN을 256 -> 384 -> 512로 늘려가며 비교하는 것도 방법입니다\n",
        "MAX_LEN = 512\n",
        "\n",
        "# 실습때 했던 encode_korquad_examples() 함수 기억하시나요? 그 함수와 유사하게 작성되었습니다.\n",
        "def encode_classification_data(sentences, labels):\n",
        "    encodings = tokenizer(\n",
        "        sentences,\n",
        "        padding='max_length',\n",
        "        truncation=True,\n",
        "        max_length=MAX_LEN,\n",
        "        return_tensors='pt'\n",
        "    )\n",
        "\n",
        "    input_ids = encodings['input_ids']\n",
        "    attention_mask = encodings['attention_mask']\n",
        "    labels = torch.tensor(labels)\n",
        "\n",
        "    dataset = TensorDataset(input_ids, attention_mask, labels)\n",
        "    return dataset\n"
      ],
      "metadata": {
        "id": "xADUO_97Xb6h"
      },
      "id": "xADUO_97Xb6h",
      "execution_count": 40,
      "outputs": []
    },
    {
      "cell_type": "markdown",
      "source": [
        "train, validation, test 데이터셋을 생성합니다"
      ],
      "metadata": {
        "id": "3eTT7qU4fX1B"
      },
      "id": "3eTT7qU4fX1B"
    },
    {
      "cell_type": "code",
      "source": [
        "train_dataset = encode_classification_data(train_sentences, train_labels)\n",
        "test_dataset = encode_classification_data(test_sentences, test_labels)"
      ],
      "metadata": {
        "id": "J_o3v1GaXeEY"
      },
      "id": "J_o3v1GaXeEY",
      "execution_count": 41,
      "outputs": []
    },
    {
      "cell_type": "code",
      "source": [
        "print('훈련 데이터의 크기:', len(train_dataset))\n",
        "print('테스트 데이터의 크기:', len(test_dataset))"
      ],
      "metadata": {
        "colab": {
          "base_uri": "https://localhost:8080/"
        },
        "id": "n3XCY79hX8lz",
        "outputId": "8ff1ee95-4e45-417a-8480-6c8ec1b1c117"
      },
      "id": "n3XCY79hX8lz",
      "execution_count": 42,
      "outputs": [
        {
          "output_type": "stream",
          "name": "stdout",
          "text": [
            "훈련 데이터의 크기: 3876\n",
            "테스트 데이터의 크기: 970\n"
          ]
        }
      ]
    },
    {
      "cell_type": "markdown",
      "source": [
        "DataLoader를 생성합니다"
      ],
      "metadata": {
        "id": "iwWu8eunfd3C"
      },
      "id": "iwWu8eunfd3C"
    },
    {
      "cell_type": "code",
      "source": [
        "from torch.utils.data import DataLoader, RandomSampler, SequentialSampler\n",
        "\n",
        "batch_size = 16\n",
        "\n",
        "train_dataloader = DataLoader(\n",
        "    train_dataset,\n",
        "    sampler=RandomSampler(train_dataset),\n",
        "    batch_size=batch_size\n",
        ")\n",
        "\n",
        "test_dataloader = DataLoader(\n",
        "    test_dataset,\n",
        "    sampler=SequentialSampler(test_dataset),  # 테스트도 일반적으로 Sequential을 씀\n",
        "    batch_size=batch_size\n",
        ")\n"
      ],
      "metadata": {
        "id": "p1lKV4xDYMHE"
      },
      "id": "p1lKV4xDYMHE",
      "execution_count": 43,
      "outputs": []
    },
    {
      "cell_type": "code",
      "source": [
        "# 옵티마이저 지정\n",
        "# AdamW 사용합니다\n",
        "# AdamW에 모델의 파라미터 정보를 넘겨줍니다.\n",
        "optimizer = AdamW(model.parameters(),lr = 2e-5,eps = 1e-8)"
      ],
      "metadata": {
        "id": "evpOx_OKYFDs"
      },
      "id": "evpOx_OKYFDs",
      "execution_count": 44,
      "outputs": []
    },
    {
      "cell_type": "markdown",
      "source": [
        "모델을 학습합니다"
      ],
      "metadata": {
        "id": "ExHpHot8f9-z"
      },
      "id": "ExHpHot8f9-z"
    },
    {
      "cell_type": "code",
      "source": [
        "epochs = 2\n",
        "device = torch.device('cuda' if torch.cuda.is_available() else 'cpu') # gpu 사용 가능하면 gpu(cuda)로, 그렇지 않으면 cpu로\n",
        "model.to(device)\n",
        "\n",
        "for epoch_i in range(epochs):\n",
        "    print(f'\\n======== Epoch {epoch_i + 1} / {epochs} ========')\n",
        "    total_loss = 0\n",
        "\n",
        "    model.train() # 모델을 학습 모드로 설정합니다\n",
        "\n",
        "    loop = tqdm(train_dataloader, desc=f'Epoch {epoch_i + 1}', leave=False)\n",
        "\n",
        "    for step, batch in enumerate(loop):\n",
        "        b_input_ids, b_input_mask, b_labels = [t.to(device) for t in batch]\n",
        "\n",
        "        optimizer.zero_grad() # 가중치 0으로 초기화\n",
        "\n",
        "        outputs = model(\n",
        "            input_ids=b_input_ids,\n",
        "            attention_mask=b_input_mask,\n",
        "            labels=b_labels\n",
        "        )\n",
        "\n",
        "        loss = outputs.loss\n",
        "        total_loss += loss.item()\n",
        "\n",
        "        loss.backward() # 역전파\n",
        "        torch.nn.utils.clip_grad_norm_(model.parameters(), 1.0)\n",
        "\n",
        "        optimizer.step() # 파라미터 업데이트\n",
        "\n",
        "        loop.set_postfix(loss=loss.item())\n",
        "\n",
        "    avg_train_loss = total_loss / len(train_dataloader)\n",
        "\n",
        "    print(f\"\\n  Average training loss: {avg_train_loss:.4f}\")"
      ],
      "metadata": {
        "colab": {
          "base_uri": "https://localhost:8080/"
        },
        "id": "FqMeGbE3ZFnJ",
        "outputId": "071dd73c-ee2c-4de1-884f-3b93ab2bf4b1"
      },
      "id": "FqMeGbE3ZFnJ",
      "execution_count": 45,
      "outputs": [
        {
          "output_type": "stream",
          "name": "stdout",
          "text": [
            "\n",
            "======== Epoch 1 / 2 ========\n"
          ]
        },
        {
          "output_type": "stream",
          "name": "stderr",
          "text": []
        },
        {
          "output_type": "stream",
          "name": "stdout",
          "text": [
            "\n",
            "  Average training loss: 0.5181\n",
            "\n",
            "======== Epoch 2 / 2 ========\n"
          ]
        },
        {
          "output_type": "stream",
          "name": "stderr",
          "text": [
            "                                                                       "
          ]
        },
        {
          "output_type": "stream",
          "name": "stdout",
          "text": [
            "\n",
            "  Average training loss: 0.2850\n"
          ]
        },
        {
          "output_type": "stream",
          "name": "stderr",
          "text": [
            "\r"
          ]
        }
      ]
    },
    {
      "cell_type": "markdown",
      "source": [
        "학습된 모델의 가중치를 저장합니다"
      ],
      "metadata": {
        "id": "r0iyJ85EgmYH"
      },
      "id": "r0iyJ85EgmYH"
    },
    {
      "cell_type": "code",
      "source": [
        "torch.save(model.state_dict(), \"BERT_news.pt\")"
      ],
      "metadata": {
        "id": "7qBYAElLZwUU"
      },
      "id": "7qBYAElLZwUU",
      "execution_count": 46,
      "outputs": []
    },
    {
      "cell_type": "markdown",
      "source": [
        "모델의 가중치를 다시 불러옵니다<br>\n",
        "- 지금처럼 학습과 테스트를 한 번에 이어서 할 때는 모델 가중치를 다시 불러올 필요가 없습니다.\n",
        "- 그러나 내가 이전에 학습한 모델을 사용해서 예측을 수행하고 싶을 때는 다음과 같이 이전에 학습된 가중치를 불러와야 합니다"
      ],
      "metadata": {
        "id": "j4efz5digorv"
      },
      "id": "j4efz5digorv"
    },
    {
      "cell_type": "code",
      "source": [
        "num_labels = 3\n",
        "\n",
        "model = BertForSequenceClassification.from_pretrained(\"klue/bert-base\", num_labels=num_labels)\n",
        "tokenizer = BertTokenizer.from_pretrained('klue/bert-base')\n",
        "model.load_state_dict(torch.load(\"BERT_news.pt\"))"
      ],
      "metadata": {
        "colab": {
          "base_uri": "https://localhost:8080/"
        },
        "id": "n_yPgKZMazGi",
        "outputId": "09938172-d0bc-4941-a266-84ab95f1df66"
      },
      "id": "n_yPgKZMazGi",
      "execution_count": 47,
      "outputs": [
        {
          "output_type": "stream",
          "name": "stderr",
          "text": [
            "Some weights of BertForSequenceClassification were not initialized from the model checkpoint at klue/bert-base and are newly initialized: ['classifier.bias', 'classifier.weight']\n",
            "You should probably TRAIN this model on a down-stream task to be able to use it for predictions and inference.\n"
          ]
        },
        {
          "output_type": "execute_result",
          "data": {
            "text/plain": [
              "<All keys matched successfully>"
            ]
          },
          "metadata": {},
          "execution_count": 47
        }
      ]
    },
    {
      "cell_type": "markdown",
      "source": [
        "평가하기 위한 함수를 정의합니다"
      ],
      "metadata": {
        "id": "xxZpNjrQf8D8"
      },
      "id": "xxZpNjrQf8D8"
    },
    {
      "cell_type": "code",
      "source": [
        "def compute_metrics(preds, labels):\n",
        "    return {\n",
        "        'accuracy': accuracy_score(labels, preds),\n",
        "        'f1_macro': f1_score(labels, preds, average='macro', zero_division=0),\n",
        "        'f1_micro': f1_score(labels, preds, average='micro', zero_division=0),\n",
        "        'f1_weighted': f1_score(labels, preds, average='weighted', zero_division=0)\n",
        "    }"
      ],
      "metadata": {
        "id": "oafGGaIEflTT"
      },
      "id": "oafGGaIEflTT",
      "execution_count": 48,
      "outputs": []
    },
    {
      "cell_type": "markdown",
      "source": [
        "테스트 데이터에 대해 평가를 수행합니다"
      ],
      "metadata": {
        "id": "TlpErKvug2Zo"
      },
      "id": "TlpErKvug2Zo"
    },
    {
      "cell_type": "code",
      "source": [
        "from tqdm import tqdm\n",
        "\n",
        "model.eval()\n",
        "model.to(device)\n",
        "accum_logits, accum_label_ids = [], []\n",
        "\n",
        "for batch in tqdm(test_dataloader, desc=\"Testing\"):\n",
        "    batch = tuple(t.to(device) for t in batch)\n",
        "    b_input_ids, b_input_mask, b_labels = batch\n",
        "\n",
        "    with torch.no_grad():\n",
        "        outputs = model(\n",
        "            input_ids=b_input_ids,\n",
        "            attention_mask=b_input_mask,\n",
        "            token_type_ids=None\n",
        "        )\n",
        "\n",
        "    logits = outputs.logits if hasattr(outputs, 'logits') else outputs[0]\n",
        "    logits = logits.detach().cpu().numpy()\n",
        "    label_ids = b_labels.to('cpu').numpy()\n",
        "\n",
        "    # 예측 결과 저장\n",
        "    accum_logits.extend(np.argmax(logits, axis=1))\n",
        "    accum_label_ids.extend(label_ids)\n",
        "\n",
        "# NumPy 배열로 변환\n",
        "accum_logits = np.array(accum_logits)\n",
        "accum_label_ids = np.array(accum_label_ids)\n",
        "\n",
        "# 메트릭 계산\n",
        "results = compute_metrics(accum_logits, accum_label_ids)\n",
        "\n",
        "# 출력\n",
        "print(\"\\n[✔️ Test Evaluation Result]\")\n",
        "print(\"Accuracy: {0:.4f}\".format(results['accuracy']))\n",
        "print(\"F1 (Macro) Score: {0:.4f}\".format(results['f1_macro']))\n",
        "print(\"F1 (Micro) Score: {0:.4f}\".format(results['f1_micro']))\n",
        "print(\"F1 (Weighted) Score: {0:.4f}\".format(results['f1_weighted']))"
      ],
      "metadata": {
        "colab": {
          "base_uri": "https://localhost:8080/"
        },
        "id": "aS5RSE5DaBEF",
        "outputId": "e62588c4-61bd-4b2b-ea36-97e07781831b"
      },
      "id": "aS5RSE5DaBEF",
      "execution_count": 49,
      "outputs": [
        {
          "output_type": "stream",
          "name": "stderr",
          "text": [
            "Testing: 100%|██████████| 61/61 [00:30<00:00,  2.01it/s]"
          ]
        },
        {
          "output_type": "stream",
          "name": "stdout",
          "text": [
            "\n",
            "[✔️ Test Evaluation Result]\n",
            "Accuracy: 0.8639\n",
            "F1 (Macro) Score: 0.8427\n",
            "F1 (Micro) Score: 0.8639\n",
            "F1 (Weighted) Score: 0.8638\n"
          ]
        },
        {
          "output_type": "stream",
          "name": "stderr",
          "text": [
            "\n"
          ]
        }
      ]
    },
    {
      "cell_type": "markdown",
      "source": [
        "HuggingFace transformers 라이브러리의 pipeline API를 활용하면 텍스트 분류 모델을 추론하기 위한 설정을 편리하게 할 수 있습니다"
      ],
      "metadata": {
        "id": "rxoXjbl0g4zA"
      },
      "id": "rxoXjbl0g4zA"
    },
    {
      "cell_type": "code",
      "source": [
        "from transformers import pipeline\n",
        "device = torch.device(\"cuda\" if torch.cuda.is_available() else \"cpu\")\n",
        "pipe = pipeline(\"text-classification\", # 수행할 작업: 텍스트 분류\n",
        "                model=model.to(device), # 사용할 모델\n",
        "                tokenizer=tokenizer, # 모델에 맞는 토크나이저\n",
        "                max_length=512, # 입력 문장 최대 길이\n",
        "                return_all_scores=True, # 모든 클래스의 확률 반환\n",
        "                function_to_apply='softmax' # softmax 사용\n",
        ")"
      ],
      "metadata": {
        "colab": {
          "base_uri": "https://localhost:8080/"
        },
        "id": "cenQIx_JZxe1",
        "outputId": "82df5a05-7627-48e9-b1e8-2e3a2d82f0b1"
      },
      "id": "cenQIx_JZxe1",
      "execution_count": 50,
      "outputs": [
        {
          "output_type": "stream",
          "name": "stderr",
          "text": [
            "Device set to use cuda:0\n",
            "/usr/local/lib/python3.11/dist-packages/transformers/pipelines/text_classification.py:106: UserWarning: `return_all_scores` is now deprecated,  if want a similar functionality use `top_k=None` instead of `return_all_scores=True` or `top_k=1` instead of `return_all_scores=False`.\n",
            "  warnings.warn(\n"
          ]
        }
      ]
    },
    {
      "cell_type": "code",
      "source": [
        "result = pipe('SK하이닉스가 매출이 급성장하였다') # 이 문장에 대해 label 점수를 보면\n",
        "print(result)"
      ],
      "metadata": {
        "colab": {
          "base_uri": "https://localhost:8080/"
        },
        "id": "c_KLJZK_bN9t",
        "outputId": "586a51a3-f1c1-4def-d6c7-59c101e1a9e5"
      },
      "id": "c_KLJZK_bN9t",
      "execution_count": 51,
      "outputs": [
        {
          "output_type": "stream",
          "name": "stderr",
          "text": [
            "Truncation was not explicitly activated but `max_length` is provided a specific value, please use `truncation=True` to explicitly truncate examples to max length. Defaulting to 'longest_first' truncation strategy. If you encode pairs of sequences (GLUE-style) with the tokenizer you can select this strategy more precisely by providing a specific strategy to `truncation`.\n"
          ]
        },
        {
          "output_type": "stream",
          "name": "stdout",
          "text": [
            "[[{'label': 'LABEL_0', 'score': 0.011172440834343433}, {'label': 'LABEL_1', 'score': 0.9863524436950684}, {'label': 'LABEL_2', 'score': 0.0024751389864832163}]]\n"
          ]
        }
      ]
    },
    {
      "cell_type": "markdown",
      "source": [
        "return_all_scores = True로 했기 때문에 LABEL_0, LABEL_1, LABEL_2의 모든 score가 다 출력됩니다"
      ],
      "metadata": {
        "id": "VZm_pLmliBOW"
      },
      "id": "VZm_pLmliBOW"
    },
    {
      "cell_type": "markdown",
      "source": [
        "LABEL_0, LABEL_1, LABEL_2 대신에 중립, 긍정, 부정으로 출력하도록 label_dict를 설정합니다"
      ],
      "metadata": {
        "id": "lDxA2TsniGbA"
      },
      "id": "lDxA2TsniGbA"
    },
    {
      "cell_type": "code",
      "source": [
        "label_dict = {'LABEL_0' : '중립', 'LABEL_1' : '긍정', 'LABEL_2' : '부정'}"
      ],
      "metadata": {
        "id": "ms8u3r6TbCRk"
      },
      "id": "ms8u3r6TbCRk",
      "execution_count": 52,
      "outputs": []
    },
    {
      "cell_type": "markdown",
      "source": [
        "label_dict에서 LABEL_0, LABEL_1, LABEL_2를 중립, 긍정, 부정으로 바꿔서 출력하는 함수를 정의합니다"
      ],
      "metadata": {
        "id": "sZ5sItmTiSIh"
      },
      "id": "sZ5sItmTiSIh"
    },
    {
      "cell_type": "code",
      "source": [
        "def prediction(text):\n",
        "  result = pipe(text)\n",
        "\n",
        "  return [label_dict[result[0]['label']]]"
      ],
      "metadata": {
        "id": "sFdQKVVLbEG7"
      },
      "id": "sFdQKVVLbEG7",
      "execution_count": 53,
      "outputs": []
    },
    {
      "cell_type": "code",
      "source": [
        "# 이전의 pileline 코드에서 return_all_scores를 제거합니다. return_all_scores는 default가 False입니다\n",
        "pipe = pipeline(\"text-classification\", model=model.to(device), tokenizer=tokenizer, max_length=512,function_to_apply='softmax')"
      ],
      "metadata": {
        "colab": {
          "base_uri": "https://localhost:8080/"
        },
        "id": "8ZQ9u9jibfwW",
        "outputId": "b40e27e9-7baa-4e8e-9594-1fe31d630368"
      },
      "id": "8ZQ9u9jibfwW",
      "execution_count": 54,
      "outputs": [
        {
          "output_type": "stream",
          "name": "stderr",
          "text": [
            "Device set to use cuda:0\n"
          ]
        }
      ]
    },
    {
      "cell_type": "code",
      "source": [
        "result = pipe('SK하이닉스가 매출이 급성장하였다')\n",
        "print(result)"
      ],
      "metadata": {
        "colab": {
          "base_uri": "https://localhost:8080/"
        },
        "id": "1MoC1FFDbii-",
        "outputId": "39e76ab9-7aa3-4bb3-e48f-ea9204aa1b71"
      },
      "id": "1MoC1FFDbii-",
      "execution_count": 55,
      "outputs": [
        {
          "output_type": "stream",
          "name": "stdout",
          "text": [
            "[{'label': 'LABEL_1', 'score': 0.9863524436950684}]\n"
          ]
        }
      ]
    },
    {
      "cell_type": "markdown",
      "source": [
        "return_all_scores를 False로 했으므로 가장 높은 score의 LABEL만 출력됩니다"
      ],
      "metadata": {
        "id": "hrs7W6Rqic9R"
      },
      "id": "hrs7W6Rqic9R"
    },
    {
      "cell_type": "markdown",
      "source": [
        "prediction 함수를 사용하여 다양한 금융 텍스트의 긍정/부정/중립을 분석해보면"
      ],
      "metadata": {
        "id": "SFTC9xoMiruT"
      },
      "id": "SFTC9xoMiruT"
    },
    {
      "cell_type": "code",
      "source": [
        "prediction('SK하이닉스가 매출이 급성장하였다')"
      ],
      "metadata": {
        "colab": {
          "base_uri": "https://localhost:8080/"
        },
        "id": "UhPs7syKa69T",
        "outputId": "3d5baecc-9bc5-4690-8ae4-c70a48a93d7b"
      },
      "id": "UhPs7syKa69T",
      "execution_count": 56,
      "outputs": [
        {
          "output_type": "execute_result",
          "data": {
            "text/plain": [
              "['긍정']"
            ]
          },
          "metadata": {},
          "execution_count": 56
        }
      ]
    },
    {
      "cell_type": "code",
      "source": [
        "prediction('ChatGPT의 등장으로 인공지능 스타트업들은 비상이다')"
      ],
      "metadata": {
        "colab": {
          "base_uri": "https://localhost:8080/"
        },
        "id": "kPmPUwUeblDG",
        "outputId": "c58f1507-c3ce-49c2-96d8-f398f3bb8343"
      },
      "id": "kPmPUwUeblDG",
      "execution_count": 57,
      "outputs": [
        {
          "output_type": "execute_result",
          "data": {
            "text/plain": [
              "['중립']"
            ]
          },
          "metadata": {},
          "execution_count": 57
        }
      ]
    },
    {
      "cell_type": "code",
      "source": [
        "prediction('인공지능 기술의 발전으로 누군가는 기회를 얻을 것이고, 누군가는 얻지 못할 것이다')"
      ],
      "metadata": {
        "colab": {
          "base_uri": "https://localhost:8080/"
        },
        "id": "f6QE8Ki_bmS3",
        "outputId": "935adb05-2405-483e-b7de-c68d6d623176"
      },
      "id": "f6QE8Ki_bmS3",
      "execution_count": 58,
      "outputs": [
        {
          "output_type": "execute_result",
          "data": {
            "text/plain": [
              "['중립']"
            ]
          },
          "metadata": {},
          "execution_count": 58
        }
      ]
    },
    {
      "cell_type": "code",
      "source": [
        "prediction('삼성전자의 주가가 상승곡선을 그리고 있다')"
      ],
      "metadata": {
        "colab": {
          "base_uri": "https://localhost:8080/"
        },
        "id": "RiGbXQYIbm2O",
        "outputId": "5dd09e74-e52a-459b-f048-8c5fa10655e7"
      },
      "id": "RiGbXQYIbm2O",
      "execution_count": 59,
      "outputs": [
        {
          "output_type": "execute_result",
          "data": {
            "text/plain": [
              "['긍정']"
            ]
          },
          "metadata": {},
          "execution_count": 59
        }
      ]
    },
    {
      "cell_type": "markdown",
      "id": "zqfEZ0wkPsLA",
      "metadata": {
        "id": "zqfEZ0wkPsLA"
      },
      "source": [
        "# 2. Text Generation : GPT"
      ]
    },
    {
      "cell_type": "code",
      "execution_count": 60,
      "id": "_VV4vozKQM4C",
      "metadata": {
        "id": "_VV4vozKQM4C",
        "colab": {
          "base_uri": "https://localhost:8080/",
          "height": 385,
          "referenced_widgets": [
            "6501b2b4d1734ede8d91acffa005324c",
            "afc0008254ed44eea3c2e441179e8829",
            "6209bbcd0fac4af18df60d777e2b6cfc",
            "9cd7b8c0aeed403b860c83e23310b6e8",
            "1124fa9e612144a2ba4f23ae56edf94b",
            "2b67d7905b864463b81efc6163d651eb",
            "27955ef7230f42fc9158301eddfc4669",
            "a9dee745af024bb29f02680d76d3b044",
            "bd10c07768d54674abcecb63292e0012",
            "022faa7b040f4866bad0c40540d74f4d",
            "d7ab81225b9545aab217527258d5b54b",
            "c24c60ae237243a8bf26ba09ecd8ddc5",
            "cf602c7ea60e43ea86a18610d1237fe0",
            "f807a3a22b474782ba646c766de0ee54",
            "e127dec6e0174839931bdbd3541667ff",
            "599698cfe7c84346919fc24fecb7def9",
            "fd6c938d686e4b3690fa7b54cd320fa8",
            "4693185560ec44a9a6f514b7da7b9499",
            "4583105a8fc246389a27e62f742d51f7",
            "328c3986156541b18c4f653f6dd27ff0",
            "fd04cb9f151243bf890b4b0701705978",
            "b5c6986748114020ae3e111a2eabf457",
            "266b1f09c4cd44b69c4f3e9afc56b8b5",
            "558893057f3a4bfb96fafcfd062db6f0",
            "82b506c3e38d483db9db3b3834576a2a",
            "bb2088b051604992b088123e84e820fb",
            "430608a2a7524b18b68b51bc22dbaaa1",
            "99c3bba04d4845158a4387c89f2f8365",
            "a1e8b4b8e9c2413b9eea4d9d32f05e7d",
            "44c1b0f377274db7aa354c400c533999",
            "908051ff87f6405d8ae1d0612e9a4138",
            "b4a807c9a3aa4a07b6c5e64c62bf31ef",
            "6f4cde3e4fba45619cfe50f0277a9935",
            "ec1238fec8e24851a72218a60ec9156a",
            "433d5f3a7b194247b7ca6d89a8f00d31",
            "1bd7c66a3c2446898bc96f1147ddbce3",
            "da17cd16584442859c69a7fc4653b76b",
            "7bd98007167a42f4a02219e5a90e09d1",
            "b9c2fe86282d4ffbacaf5ef31bf81828",
            "6d656057e8694978a92c8ad246c14eb1",
            "4842bf33da774bc3ba8c64313981f895",
            "e2f70effe3c2432f9d68cab0b040722c",
            "9a53e807cae148ed9547fbc04cbb6d6a",
            "0301b13f43bf4d6ab2e4b148e973f594"
          ]
        },
        "outputId": "676f08bb-f0fe-41d8-a289-6d497aaea63d"
      },
      "outputs": [
        {
          "output_type": "display_data",
          "data": {
            "text/plain": [
              "config.json:   0%|          | 0.00/1.00k [00:00<?, ?B/s]"
            ],
            "application/vnd.jupyter.widget-view+json": {
              "version_major": 2,
              "version_minor": 0,
              "model_id": "6501b2b4d1734ede8d91acffa005324c"
            }
          },
          "metadata": {}
        },
        {
          "output_type": "display_data",
          "data": {
            "text/plain": [
              "pytorch_model.bin:   0%|          | 0.00/513M [00:00<?, ?B/s]"
            ],
            "application/vnd.jupyter.widget-view+json": {
              "version_major": 2,
              "version_minor": 0,
              "model_id": "c24c60ae237243a8bf26ba09ecd8ddc5"
            }
          },
          "metadata": {}
        },
        {
          "output_type": "display_data",
          "data": {
            "text/plain": [
              "model.safetensors:   0%|          | 0.00/513M [00:00<?, ?B/s]"
            ],
            "application/vnd.jupyter.widget-view+json": {
              "version_major": 2,
              "version_minor": 0,
              "model_id": "266b1f09c4cd44b69c4f3e9afc56b8b5"
            }
          },
          "metadata": {}
        },
        {
          "output_type": "display_data",
          "data": {
            "text/plain": [
              "tokenizer.json:   0%|          | 0.00/2.83M [00:00<?, ?B/s]"
            ],
            "application/vnd.jupyter.widget-view+json": {
              "version_major": 2,
              "version_minor": 0,
              "model_id": "ec1238fec8e24851a72218a60ec9156a"
            }
          },
          "metadata": {}
        },
        {
          "output_type": "stream",
          "name": "stderr",
          "text": [
            "The tokenizer class you load from this checkpoint is not the same type as the class this function is called from. It may result in unexpected tokenization. \n",
            "The tokenizer class you load from this checkpoint is 'GPT2Tokenizer'. \n",
            "The class this function is called from is 'PreTrainedTokenizerFast'.\n",
            "/usr/local/lib/python3.11/dist-packages/transformers/generation/configuration_utils.py:679: UserWarning: `num_beams` is set to 1. However, `early_stopping` is set to `True` -- this flag is only used in beam-based generation modes. You should set `num_beams>1` or unset `early_stopping`.\n",
            "  warnings.warn(\n"
          ]
        },
        {
          "output_type": "stream",
          "name": "stdout",
          "text": [
            "새벽 세시에 택시를 타고 서울 강남으로 향했다.\n",
            "택시 기사들은 “서울에서 버스를 타면 한 시간이면 도착할 수 있다”며 “이렇게 많은 사람들이 몰리는 이유는 교통체증이 심하기 때문”이라고 말했다.\n",
            "이날 오전 9시부터 오후 5시까지 서울에서 발생한 버스 사고는 모두 6건이다.\n",
            "사망자는 3명이고 부상자만 4명이다.\n",
            "경찰은 이날 하루 동안 총 7건의 사고가 발생해 사망자가 더 늘어날 것으로 보고 있다.\n",
            "한편 경찰청은 지난달 30일부터 이 같은 내용의 ‘버스 안전운전 특별대책’을 시행 중이다.\n",
            "특별대책은 △승객과 승무원 안전을 위한 비상구 폐쇄 및 승객의\n"
          ]
        }
      ],
      "source": [
        "import torch\n",
        "from transformers import GPT2LMHeadModel, PreTrainedTokenizerFast\n",
        "\n",
        "# 모델과 토크나이저 로드\n",
        "model = GPT2LMHeadModel.from_pretrained('skt/kogpt2-base-v2')\n",
        "tokenizer = PreTrainedTokenizerFast.from_pretrained('skt/kogpt2-base-v2')\n",
        "\n",
        "# 시작 텍스트 설정\n",
        "# 예시 text = '인사이트 13기 회장, 부회장은 과연 누가 될까? 너무 기대된다'\n",
        "# 예시 텍스트 말고 다른 text 직접 입력해보세요! 기발한 아이디어 기다립니다ㅎㅎ\n",
        "text = '새벽 세시에 택시를 타고'\n",
        "input_ids = tokenizer.encode(text, return_tensors='pt')\n",
        "\n",
        "# 텍스트 생성\n",
        "gen_ids = model.generate(input_ids,\n",
        "                         max_length=128,\n",
        "                         repetition_penalty=2.0,\n",
        "                         pad_token_id=tokenizer.pad_token_id,\n",
        "                         early_stopping=True,\n",
        "                         eos_token_id=tokenizer.eos_token_id,\n",
        "                         bos_token_id=tokenizer.bos_token_id,\n",
        "                         use_cache=True)\n",
        "generated = tokenizer.decode(gen_ids[0])\n",
        "\n",
        "print(generated)"
      ]
    },
    {
      "cell_type": "markdown",
      "source": [
        "![스크린샷 2025-05-25 181321.png](data:image/png;base64,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)"
      ],
      "metadata": {
        "id": "UKNpok8MucIw"
      },
      "id": "UKNpok8MucIw"
    },
    {
      "cell_type": "markdown",
      "source": [
        "ㅋㅋㅋㅋ 회장, 부회장의 단어를 보고 인사이트를 기업으로 인식한 거 같아요"
      ],
      "metadata": {
        "id": "TBrGpnyIT1NH"
      },
      "id": "TBrGpnyIT1NH"
    },
    {
      "cell_type": "markdown",
      "source": [
        "과제 끝!!"
      ],
      "metadata": {
        "id": "Zf7ovu23T0Q2"
      },
      "id": "Zf7ovu23T0Q2"
    },
    {
      "cell_type": "markdown",
      "id": "v3BcoUr_GTnJ",
      "metadata": {
        "id": "v3BcoUr_GTnJ"
      },
      "source": [
        "# 3. Langchain ~ Rag (참고)"
      ]
    },
    {
      "cell_type": "markdown",
      "id": "Y7dig7dRIkF8",
      "metadata": {
        "id": "Y7dig7dRIkF8"
      },
      "source": [
        "### Langchain\n",
        "- LLM을 사용한 어플리케이션 개발 단순화를 위한 프레임워크\n",
        "- python과 JavaScript 라이브러리 제공\n",
        "- 요약, 번역, 챗봇, QnA, 데이터 증강(Augmentation) 등의 서비스 구현 가능"
      ]
    },
    {
      "cell_type": "markdown",
      "id": "7pc9jY4dJYGO",
      "metadata": {
        "id": "7pc9jY4dJYGO"
      },
      "source": [
        "### RAG\n",
        "- LLM 모델의 단점 중 사실 관계 오류 가능성과 맥락 이해의 한계를 개선하는데 초점을 맞춘 방법\n",
        "- 외부 지식 베이스를 연결해 모델의 생성 능력과 사실 관계 파악 능력 향상\n",
        "- 할루시네이션 감소와 최신 정보 반영에 유리"
      ]
    },
    {
      "cell_type": "markdown",
      "source": [
        "아래 코드 실행하려면 OPEN AI의 langchain API Key가 필요한데, 현재는 유료라서... 그냥 실행하지 말고 보기만 해주세요"
      ],
      "metadata": {
        "id": "gtwJGlpKToym"
      },
      "id": "gtwJGlpKToym"
    },
    {
      "cell_type": "code",
      "execution_count": null,
      "id": "G3lzSLe4GUUX",
      "metadata": {
        "id": "G3lzSLe4GUUX"
      },
      "outputs": [],
      "source": [
        "!pip install unstructured\n",
        "!pip install sentence-transformers\n",
        "!pip install chromadb\n",
        "!pip install openai\n",
        "!pip install langchain"
      ]
    },
    {
      "cell_type": "markdown",
      "id": "WqF4ImUyHazE",
      "metadata": {
        "id": "WqF4ImUyHazE"
      },
      "source": [
        "## 1. 데이터 가져오기\n",
        "- 분석할 문서를 불러와 데이터 파이프라인의 입력으로 사용\n",
        "- 자연어 처리를 수행하기 위해 원천 데이터를 준비하는 단계\n"
      ]
    },
    {
      "cell_type": "code",
      "execution_count": null,
      "id": "VwuthDp5GaZB",
      "metadata": {
        "id": "VwuthDp5GaZB"
      },
      "outputs": [],
      "source": [
        "from langchain.document_loaders import TextLoader\n",
        "documents = TextLoader(\"AI.txt\").load()"
      ]
    },
    {
      "cell_type": "markdown",
      "id": "ICqSGfl2HjgE",
      "metadata": {
        "id": "ICqSGfl2HjgE"
      },
      "source": [
        "## 2. 텍스트 분할\n",
        "- 긴 문서를 일정 크기의 청크로 나눠 처리 가능하도록 만듦\n",
        "- 검색 효율성과 모델의 입력 제약을 고려한 전처리 작업\n"
      ]
    },
    {
      "cell_type": "code",
      "execution_count": null,
      "id": "qx5bjqBxGcDU",
      "metadata": {
        "id": "qx5bjqBxGcDU"
      },
      "outputs": [],
      "source": [
        "from langchain.text_splitter import RecursiveCharacterTextSplitter\n",
        "\n",
        "# 문서를 청크로 분할\n",
        "def split_docs(documents,chunk_size=1000,chunk_overlap=20):\n",
        "  text_splitter = RecursiveCharacterTextSplitter(chunk_size=chunk_size, chunk_overlap=chunk_overlap)\n",
        "  docs = text_splitter.split_documents(documents)\n",
        "  return docs\n",
        "\n",
        "# docs 변수에 분할 문서를 저장\n",
        "docs = split_docs(documents)"
      ]
    },
    {
      "cell_type": "markdown",
      "id": "7v-0gnNJHn_M",
      "metadata": {
        "id": "7v-0gnNJHn_M"
      },
      "source": [
        "## 3. 임베딩 변환\n",
        "- 텍스트 데이터를 벡터 공간으로 매핑하여 기계 학습 모델이 이해할 수 있는 수치 데이터로 변환\n",
        "- 텍스트의 의미적 유사성을 계산하고 처리를 자동화하기 위한 단계\n"
      ]
    },
    {
      "cell_type": "code",
      "execution_count": null,
      "id": "3rtyWeKHGfwc",
      "metadata": {
        "id": "3rtyWeKHGfwc"
      },
      "outputs": [],
      "source": [
        "from langchain.embeddings import SentenceTransformerEmbeddings\n",
        "embeddings = SentenceTransformerEmbeddings(model_name=\"all-MiniLM-L6-v2\")"
      ]
    },
    {
      "cell_type": "markdown",
      "id": "RA02sWNfIFsI",
      "metadata": {
        "id": "RA02sWNfIFsI"
      },
      "source": [
        "## 4. 벡터 저장\n",
        "- 변환된 벡터 데이터를 데이터베이스에 저장하여 고속 검색과 활용 지원\n",
        "- 효율적인 질의 응답 및 문서 검색 시스템 구현을 위한 핵심 단계"
      ]
    },
    {
      "cell_type": "code",
      "execution_count": null,
      "id": "cV0ab-ryIDKw",
      "metadata": {
        "id": "cV0ab-ryIDKw"
      },
      "outputs": [],
      "source": [
        "# Chromdb에 벡터 저장\n",
        "from langchain.vectorstores import Chroma\n",
        "db = Chroma.from_documents(docs, embeddings)"
      ]
    },
    {
      "cell_type": "markdown",
      "id": "4wZXuxWKHp7Y",
      "metadata": {
        "id": "4wZXuxWKHp7Y"
      },
      "source": [
        "## 5. 질문 응답\n",
        "- 입력된 질문과 관련된 문서를 검색한 뒤 GPT 모델로 답변 생성\n",
        "- 사용자 질문에 적합한 답변을 제공하기 위해 유사 문서 검색과 자연어 처리를 결합한 핵심 과정"
      ]
    },
    {
      "cell_type": "code",
      "execution_count": null,
      "id": "JLg25a9sGhnC",
      "metadata": {
        "id": "JLg25a9sGhnC"
      },
      "outputs": [],
      "source": [
        "import os #운영체제(os) 모듈을 가져올 때 사용되는 라이브러리\n",
        "os.environ[\"OPENAI_API_KEY\"] = \"sk-\" #openai 키 입력 -> 현재 유료로 사용 가능,,,ㅠㅠ\n",
        "\n",
        "from langchain.chat_models import ChatOpenAI\n",
        "model_name = \"gpt-3.5-turbo\"  #GPT-3.5 turbo 모델 사용\n",
        "llm = ChatOpenAI(model_name=model_name)\n",
        "\n",
        "# Q&A 체인을 사용하여 쿼리에 대한 답변 얻기\n",
        "from langchain.chains.question_answering import load_qa_chain\n",
        "chain = load_qa_chain(llm, chain_type=\"stuff\",verbose=True)\n",
        "\n",
        "# 쿼리를 작성하고 유사성 검색을 수행하여 답변을 생성,따라서 txt에 있는 내용을 질의해야 합니다\n",
        "query = \"AI란?\"\n",
        "matching_docs = db.similarity_search(query)\n",
        "answer =  chain.run(input_documents=matching_docs, question=query)\n",
        "answer"
      ]
    }
  ],
  "metadata": {
    "colab": {
      "provenance": [],
      "gpuType": "T4"
    },
    "hide_input": false,
    "kernelspec": {
      "display_name": "Python 3",
      "name": "python3"
    },
    "language_info": {
      "codemirror_mode": {
        "name": "ipython",
        "version": 3
      },
      "file_extension": ".py",
      "mimetype": "text/x-python",
      "name": "python",
      "nbconvert_exporter": "python",
      "pygments_lexer": "ipython3",
      "version": "3.12.6"
    },
    "toc": {
      "base_numbering": 1,
      "nav_menu": {},
      "number_sections": true,
      "sideBar": true,
      "skip_h1_title": false,
      "title_cell": "Table of Contents",
      "title_sidebar": "Contents",
      "toc_cell": false,
      "toc_position": {
        "height": "721.212px",
        "left": "71px",
        "top": "87.7936px",
        "width": "302.538px"
      },
      "toc_section_display": true,
      "toc_window_display": true
    },
    "accelerator": "GPU",
    "widgets": {
      "application/vnd.jupyter.widget-state+json": {
        "9fb5f0de0e09440db876f465ff3d9789": {
          "model_module": "@jupyter-widgets/controls",
          "model_name": "HBoxModel",
          "model_module_version": "1.5.0",
          "state": {
            "_dom_classes": [],
            "_model_module": "@jupyter-widgets/controls",
            "_model_module_version": "1.5.0",
            "_model_name": "HBoxModel",
            "_view_count": null,
            "_view_module": "@jupyter-widgets/controls",
            "_view_module_version": "1.5.0",
            "_view_name": "HBoxView",
            "box_style": "",
            "children": [
              "IPY_MODEL_5ab2274acd534a99a61449fe5a398945",
              "IPY_MODEL_7a8eafde3c7b4628a8f750c0ffcbec47",
              "IPY_MODEL_dcef6044d0c148889bf00d0b4ab532c8"
            ],
            "layout": "IPY_MODEL_3d0bb5465f0f4de6b53173edf57aa37a"
          }
        },
        "5ab2274acd534a99a61449fe5a398945": {
          "model_module": "@jupyter-widgets/controls",
          "model_name": "HTMLModel",
          "model_module_version": "1.5.0",
          "state": {
            "_dom_classes": [],
            "_model_module": "@jupyter-widgets/controls",
            "_model_module_version": "1.5.0",
            "_model_name": "HTMLModel",
            "_view_count": null,
            "_view_module": "@jupyter-widgets/controls",
            "_view_module_version": "1.5.0",
            "_view_name": "HTMLView",
            "description": "",
            "description_tooltip": null,
            "layout": "IPY_MODEL_8aacdce8179148b7a880b05b0c259309",
            "placeholder": "​",
            "style": "IPY_MODEL_361b0a6b730b4135acd6ba4943cde001",
            "value": "tokenizer_config.json: 100%"
          }
        },
        "7a8eafde3c7b4628a8f750c0ffcbec47": {
          "model_module": "@jupyter-widgets/controls",
          "model_name": "FloatProgressModel",
          "model_module_version": "1.5.0",
          "state": {
            "_dom_classes": [],
            "_model_module": "@jupyter-widgets/controls",
            "_model_module_version": "1.5.0",
            "_model_name": "FloatProgressModel",
            "_view_count": null,
            "_view_module": "@jupyter-widgets/controls",
            "_view_module_version": "1.5.0",
            "_view_name": "ProgressView",
            "bar_style": "success",
            "description": "",
            "description_tooltip": null,
            "layout": "IPY_MODEL_48e236a5527944f79a1880525a24ed76",
            "max": 289,
            "min": 0,
            "orientation": "horizontal",
            "style": "IPY_MODEL_bc0fe24ee90146078229ff6e7837273a",
            "value": 289
          }
        },
        "dcef6044d0c148889bf00d0b4ab532c8": {
          "model_module": "@jupyter-widgets/controls",
          "model_name": "HTMLModel",
          "model_module_version": "1.5.0",
          "state": {
            "_dom_classes": [],
            "_model_module": "@jupyter-widgets/controls",
            "_model_module_version": "1.5.0",
            "_model_name": "HTMLModel",
            "_view_count": null,
            "_view_module": "@jupyter-widgets/controls",
            "_view_module_version": "1.5.0",
            "_view_name": "HTMLView",
            "description": "",
            "description_tooltip": null,
            "layout": "IPY_MODEL_35eee349b3324dfbb196d025913a95b3",
            "placeholder": "​",
            "style": "IPY_MODEL_77a515d235ad48fbbaf0734a713fe5ca",
            "value": " 289/289 [00:00&lt;00:00, 16.8kB/s]"
          }
        },
        "3d0bb5465f0f4de6b53173edf57aa37a": {
          "model_module": "@jupyter-widgets/base",
          "model_name": "LayoutModel",
          "model_module_version": "1.2.0",
          "state": {
            "_model_module": "@jupyter-widgets/base",
            "_model_module_version": "1.2.0",
            "_model_name": "LayoutModel",
            "_view_count": null,
            "_view_module": "@jupyter-widgets/base",
            "_view_module_version": "1.2.0",
            "_view_name": "LayoutView",
            "align_content": null,
            "align_items": null,
            "align_self": null,
            "border": null,
            "bottom": null,
            "display": null,
            "flex": null,
            "flex_flow": null,
            "grid_area": null,
            "grid_auto_columns": null,
            "grid_auto_flow": null,
            "grid_auto_rows": null,
            "grid_column": null,
            "grid_gap": null,
            "grid_row": null,
            "grid_template_areas": null,
            "grid_template_columns": null,
            "grid_template_rows": null,
            "height": null,
            "justify_content": null,
            "justify_items": null,
            "left": null,
            "margin": null,
            "max_height": null,
            "max_width": null,
            "min_height": null,
            "min_width": null,
            "object_fit": null,
            "object_position": null,
            "order": null,
            "overflow": null,
            "overflow_x": null,
            "overflow_y": null,
            "padding": null,
            "right": null,
            "top": null,
            "visibility": null,
            "width": null
          }
        },
        "8aacdce8179148b7a880b05b0c259309": {
          "model_module": "@jupyter-widgets/base",
          "model_name": "LayoutModel",
          "model_module_version": "1.2.0",
          "state": {
            "_model_module": "@jupyter-widgets/base",
            "_model_module_version": "1.2.0",
            "_model_name": "LayoutModel",
            "_view_count": null,
            "_view_module": "@jupyter-widgets/base",
            "_view_module_version": "1.2.0",
            "_view_name": "LayoutView",
            "align_content": null,
            "align_items": null,
            "align_self": null,
            "border": null,
            "bottom": null,
            "display": null,
            "flex": null,
            "flex_flow": null,
            "grid_area": null,
            "grid_auto_columns": null,
            "grid_auto_flow": null,
            "grid_auto_rows": null,
            "grid_column": null,
            "grid_gap": null,
            "grid_row": null,
            "grid_template_areas": null,
            "grid_template_columns": null,
            "grid_template_rows": null,
            "height": null,
            "justify_content": null,
            "justify_items": null,
            "left": null,
            "margin": null,
            "max_height": null,
            "max_width": null,
            "min_height": null,
            "min_width": null,
            "object_fit": null,
            "object_position": null,
            "order": null,
            "overflow": null,
            "overflow_x": null,
            "overflow_y": null,
            "padding": null,
            "right": null,
            "top": null,
            "visibility": null,
            "width": null
          }
        },
        "361b0a6b730b4135acd6ba4943cde001": {
          "model_module": "@jupyter-widgets/controls",
          "model_name": "DescriptionStyleModel",
          "model_module_version": "1.5.0",
          "state": {
            "_model_module": "@jupyter-widgets/controls",
            "_model_module_version": "1.5.0",
            "_model_name": "DescriptionStyleModel",
            "_view_count": null,
            "_view_module": "@jupyter-widgets/base",
            "_view_module_version": "1.2.0",
            "_view_name": "StyleView",
            "description_width": ""
          }
        },
        "48e236a5527944f79a1880525a24ed76": {
          "model_module": "@jupyter-widgets/base",
          "model_name": "LayoutModel",
          "model_module_version": "1.2.0",
          "state": {
            "_model_module": "@jupyter-widgets/base",
            "_model_module_version": "1.2.0",
            "_model_name": "LayoutModel",
            "_view_count": null,
            "_view_module": "@jupyter-widgets/base",
            "_view_module_version": "1.2.0",
            "_view_name": "LayoutView",
            "align_content": null,
            "align_items": null,
            "align_self": null,
            "border": null,
            "bottom": null,
            "display": null,
            "flex": null,
            "flex_flow": null,
            "grid_area": null,
            "grid_auto_columns": null,
            "grid_auto_flow": null,
            "grid_auto_rows": null,
            "grid_column": null,
            "grid_gap": null,
            "grid_row": null,
            "grid_template_areas": null,
            "grid_template_columns": null,
            "grid_template_rows": null,
            "height": null,
            "justify_content": null,
            "justify_items": null,
            "left": null,
            "margin": null,
            "max_height": null,
            "max_width": null,
            "min_height": null,
            "min_width": null,
            "object_fit": null,
            "object_position": null,
            "order": null,
            "overflow": null,
            "overflow_x": null,
            "overflow_y": null,
            "padding": null,
            "right": null,
            "top": null,
            "visibility": null,
            "width": null
          }
        },
        "bc0fe24ee90146078229ff6e7837273a": {
          "model_module": "@jupyter-widgets/controls",
          "model_name": "ProgressStyleModel",
          "model_module_version": "1.5.0",
          "state": {
            "_model_module": "@jupyter-widgets/controls",
            "_model_module_version": "1.5.0",
            "_model_name": "ProgressStyleModel",
            "_view_count": null,
            "_view_module": "@jupyter-widgets/base",
            "_view_module_version": "1.2.0",
            "_view_name": "StyleView",
            "bar_color": null,
            "description_width": ""
          }
        },
        "35eee349b3324dfbb196d025913a95b3": {
          "model_module": "@jupyter-widgets/base",
          "model_name": "LayoutModel",
          "model_module_version": "1.2.0",
          "state": {
            "_model_module": "@jupyter-widgets/base",
            "_model_module_version": "1.2.0",
            "_model_name": "LayoutModel",
            "_view_count": null,
            "_view_module": "@jupyter-widgets/base",
            "_view_module_version": "1.2.0",
            "_view_name": "LayoutView",
            "align_content": null,
            "align_items": null,
            "align_self": null,
            "border": null,
            "bottom": null,
            "display": null,
            "flex": null,
            "flex_flow": null,
            "grid_area": null,
            "grid_auto_columns": null,
            "grid_auto_flow": null,
            "grid_auto_rows": null,
            "grid_column": null,
            "grid_gap": null,
            "grid_row": null,
            "grid_template_areas": null,
            "grid_template_columns": null,
            "grid_template_rows": null,
            "height": null,
            "justify_content": null,
            "justify_items": null,
            "left": null,
            "margin": null,
            "max_height": null,
            "max_width": null,
            "min_height": null,
            "min_width": null,
            "object_fit": null,
            "object_position": null,
            "order": null,
            "overflow": null,
            "overflow_x": null,
            "overflow_y": null,
            "padding": null,
            "right": null,
            "top": null,
            "visibility": null,
            "width": null
          }
        },
        "77a515d235ad48fbbaf0734a713fe5ca": {
          "model_module": "@jupyter-widgets/controls",
          "model_name": "DescriptionStyleModel",
          "model_module_version": "1.5.0",
          "state": {
            "_model_module": "@jupyter-widgets/controls",
            "_model_module_version": "1.5.0",
            "_model_name": "DescriptionStyleModel",
            "_view_count": null,
            "_view_module": "@jupyter-widgets/base",
            "_view_module_version": "1.2.0",
            "_view_name": "StyleView",
            "description_width": ""
          }
        },
        "d7307193a98841d9808485a0bff94ae4": {
          "model_module": "@jupyter-widgets/controls",
          "model_name": "HBoxModel",
          "model_module_version": "1.5.0",
          "state": {
            "_dom_classes": [],
            "_model_module": "@jupyter-widgets/controls",
            "_model_module_version": "1.5.0",
            "_model_name": "HBoxModel",
            "_view_count": null,
            "_view_module": "@jupyter-widgets/controls",
            "_view_module_version": "1.5.0",
            "_view_name": "HBoxView",
            "box_style": "",
            "children": [
              "IPY_MODEL_62e2a8dc42684c52a045e15827eb6656",
              "IPY_MODEL_ec890050901140a5b6c1bbbaa9747044",
              "IPY_MODEL_c3139b53f4a14ed6a8c7ed8ed59aec4c"
            ],
            "layout": "IPY_MODEL_46284528a4354a4fa6fcd4241829fa5b"
          }
        },
        "62e2a8dc42684c52a045e15827eb6656": {
          "model_module": "@jupyter-widgets/controls",
          "model_name": "HTMLModel",
          "model_module_version": "1.5.0",
          "state": {
            "_dom_classes": [],
            "_model_module": "@jupyter-widgets/controls",
            "_model_module_version": "1.5.0",
            "_model_name": "HTMLModel",
            "_view_count": null,
            "_view_module": "@jupyter-widgets/controls",
            "_view_module_version": "1.5.0",
            "_view_name": "HTMLView",
            "description": "",
            "description_tooltip": null,
            "layout": "IPY_MODEL_2125e314413c46b682cf782d6af0bcea",
            "placeholder": "​",
            "style": "IPY_MODEL_d59539b10bc6443f8122e6f463539bcb",
            "value": "vocab.txt: 100%"
          }
        },
        "ec890050901140a5b6c1bbbaa9747044": {
          "model_module": "@jupyter-widgets/controls",
          "model_name": "FloatProgressModel",
          "model_module_version": "1.5.0",
          "state": {
            "_dom_classes": [],
            "_model_module": "@jupyter-widgets/controls",
            "_model_module_version": "1.5.0",
            "_model_name": "FloatProgressModel",
            "_view_count": null,
            "_view_module": "@jupyter-widgets/controls",
            "_view_module_version": "1.5.0",
            "_view_name": "ProgressView",
            "bar_style": "success",
            "description": "",
            "description_tooltip": null,
            "layout": "IPY_MODEL_d1c7091808bd4144937bc1e40217d8d4",
            "max": 248477,
            "min": 0,
            "orientation": "horizontal",
            "style": "IPY_MODEL_80bba8a1257c488085a698f65e879a23",
            "value": 248477
          }
        },
        "c3139b53f4a14ed6a8c7ed8ed59aec4c": {
          "model_module": "@jupyter-widgets/controls",
          "model_name": "HTMLModel",
          "model_module_version": "1.5.0",
          "state": {
            "_dom_classes": [],
            "_model_module": "@jupyter-widgets/controls",
            "_model_module_version": "1.5.0",
            "_model_name": "HTMLModel",
            "_view_count": null,
            "_view_module": "@jupyter-widgets/controls",
            "_view_module_version": "1.5.0",
            "_view_name": "HTMLView",
            "description": "",
            "description_tooltip": null,
            "layout": "IPY_MODEL_af8a7db33f364bdaa53c374a9dd0e826",
            "placeholder": "​",
            "style": "IPY_MODEL_c8c6a38610364523bcdc3229a914c6a6",
            "value": " 248k/248k [00:00&lt;00:00, 6.06MB/s]"
          }
        },
        "46284528a4354a4fa6fcd4241829fa5b": {
          "model_module": "@jupyter-widgets/base",
          "model_name": "LayoutModel",
          "model_module_version": "1.2.0",
          "state": {
            "_model_module": "@jupyter-widgets/base",
            "_model_module_version": "1.2.0",
            "_model_name": "LayoutModel",
            "_view_count": null,
            "_view_module": "@jupyter-widgets/base",
            "_view_module_version": "1.2.0",
            "_view_name": "LayoutView",
            "align_content": null,
            "align_items": null,
            "align_self": null,
            "border": null,
            "bottom": null,
            "display": null,
            "flex": null,
            "flex_flow": null,
            "grid_area": null,
            "grid_auto_columns": null,
            "grid_auto_flow": null,
            "grid_auto_rows": null,
            "grid_column": null,
            "grid_gap": null,
            "grid_row": null,
            "grid_template_areas": null,
            "grid_template_columns": null,
            "grid_template_rows": null,
            "height": null,
            "justify_content": null,
            "justify_items": null,
            "left": null,
            "margin": null,
            "max_height": null,
            "max_width": null,
            "min_height": null,
            "min_width": null,
            "object_fit": null,
            "object_position": null,
            "order": null,
            "overflow": null,
            "overflow_x": null,
            "overflow_y": null,
            "padding": null,
            "right": null,
            "top": null,
            "visibility": null,
            "width": null
          }
        },
        "2125e314413c46b682cf782d6af0bcea": {
          "model_module": "@jupyter-widgets/base",
          "model_name": "LayoutModel",
          "model_module_version": "1.2.0",
          "state": {
            "_model_module": "@jupyter-widgets/base",
            "_model_module_version": "1.2.0",
            "_model_name": "LayoutModel",
            "_view_count": null,
            "_view_module": "@jupyter-widgets/base",
            "_view_module_version": "1.2.0",
            "_view_name": "LayoutView",
            "align_content": null,
            "align_items": null,
            "align_self": null,
            "border": null,
            "bottom": null,
            "display": null,
            "flex": null,
            "flex_flow": null,
            "grid_area": null,
            "grid_auto_columns": null,
            "grid_auto_flow": null,
            "grid_auto_rows": null,
            "grid_column": null,
            "grid_gap": null,
            "grid_row": null,
            "grid_template_areas": null,
            "grid_template_columns": null,
            "grid_template_rows": null,
            "height": null,
            "justify_content": null,
            "justify_items": null,
            "left": null,
            "margin": null,
            "max_height": null,
            "max_width": null,
            "min_height": null,
            "min_width": null,
            "object_fit": null,
            "object_position": null,
            "order": null,
            "overflow": null,
            "overflow_x": null,
            "overflow_y": null,
            "padding": null,
            "right": null,
            "top": null,
            "visibility": null,
            "width": null
          }
        },
        "d59539b10bc6443f8122e6f463539bcb": {
          "model_module": "@jupyter-widgets/controls",
          "model_name": "DescriptionStyleModel",
          "model_module_version": "1.5.0",
          "state": {
            "_model_module": "@jupyter-widgets/controls",
            "_model_module_version": "1.5.0",
            "_model_name": "DescriptionStyleModel",
            "_view_count": null,
            "_view_module": "@jupyter-widgets/base",
            "_view_module_version": "1.2.0",
            "_view_name": "StyleView",
            "description_width": ""
          }
        },
        "d1c7091808bd4144937bc1e40217d8d4": {
          "model_module": "@jupyter-widgets/base",
          "model_name": "LayoutModel",
          "model_module_version": "1.2.0",
          "state": {
            "_model_module": "@jupyter-widgets/base",
            "_model_module_version": "1.2.0",
            "_model_name": "LayoutModel",
            "_view_count": null,
            "_view_module": "@jupyter-widgets/base",
            "_view_module_version": "1.2.0",
            "_view_name": "LayoutView",
            "align_content": null,
            "align_items": null,
            "align_self": null,
            "border": null,
            "bottom": null,
            "display": null,
            "flex": null,
            "flex_flow": null,
            "grid_area": null,
            "grid_auto_columns": null,
            "grid_auto_flow": null,
            "grid_auto_rows": null,
            "grid_column": null,
            "grid_gap": null,
            "grid_row": null,
            "grid_template_areas": null,
            "grid_template_columns": null,
            "grid_template_rows": null,
            "height": null,
            "justify_content": null,
            "justify_items": null,
            "left": null,
            "margin": null,
            "max_height": null,
            "max_width": null,
            "min_height": null,
            "min_width": null,
            "object_fit": null,
            "object_position": null,
            "order": null,
            "overflow": null,
            "overflow_x": null,
            "overflow_y": null,
            "padding": null,
            "right": null,
            "top": null,
            "visibility": null,
            "width": null
          }
        },
        "80bba8a1257c488085a698f65e879a23": {
          "model_module": "@jupyter-widgets/controls",
          "model_name": "ProgressStyleModel",
          "model_module_version": "1.5.0",
          "state": {
            "_model_module": "@jupyter-widgets/controls",
            "_model_module_version": "1.5.0",
            "_model_name": "ProgressStyleModel",
            "_view_count": null,
            "_view_module": "@jupyter-widgets/base",
            "_view_module_version": "1.2.0",
            "_view_name": "StyleView",
            "bar_color": null,
            "description_width": ""
          }
        },
        "af8a7db33f364bdaa53c374a9dd0e826": {
          "model_module": "@jupyter-widgets/base",
          "model_name": "LayoutModel",
          "model_module_version": "1.2.0",
          "state": {
            "_model_module": "@jupyter-widgets/base",
            "_model_module_version": "1.2.0",
            "_model_name": "LayoutModel",
            "_view_count": null,
            "_view_module": "@jupyter-widgets/base",
            "_view_module_version": "1.2.0",
            "_view_name": "LayoutView",
            "align_content": null,
            "align_items": null,
            "align_self": null,
            "border": null,
            "bottom": null,
            "display": null,
            "flex": null,
            "flex_flow": null,
            "grid_area": null,
            "grid_auto_columns": null,
            "grid_auto_flow": null,
            "grid_auto_rows": null,
            "grid_column": null,
            "grid_gap": null,
            "grid_row": null,
            "grid_template_areas": null,
            "grid_template_columns": null,
            "grid_template_rows": null,
            "height": null,
            "justify_content": null,
            "justify_items": null,
            "left": null,
            "margin": null,
            "max_height": null,
            "max_width": null,
            "min_height": null,
            "min_width": null,
            "object_fit": null,
            "object_position": null,
            "order": null,
            "overflow": null,
            "overflow_x": null,
            "overflow_y": null,
            "padding": null,
            "right": null,
            "top": null,
            "visibility": null,
            "width": null
          }
        },
        "c8c6a38610364523bcdc3229a914c6a6": {
          "model_module": "@jupyter-widgets/controls",
          "model_name": "DescriptionStyleModel",
          "model_module_version": "1.5.0",
          "state": {
            "_model_module": "@jupyter-widgets/controls",
            "_model_module_version": "1.5.0",
            "_model_name": "DescriptionStyleModel",
            "_view_count": null,
            "_view_module": "@jupyter-widgets/base",
            "_view_module_version": "1.2.0",
            "_view_name": "StyleView",
            "description_width": ""
          }
        },
        "16445954da814b17a0cf294604b60abe": {
          "model_module": "@jupyter-widgets/controls",
          "model_name": "HBoxModel",
          "model_module_version": "1.5.0",
          "state": {
            "_dom_classes": [],
            "_model_module": "@jupyter-widgets/controls",
            "_model_module_version": "1.5.0",
            "_model_name": "HBoxModel",
            "_view_count": null,
            "_view_module": "@jupyter-widgets/controls",
            "_view_module_version": "1.5.0",
            "_view_name": "HBoxView",
            "box_style": "",
            "children": [
              "IPY_MODEL_f267f142ae074b0fbb711bfd3f3cd856",
              "IPY_MODEL_8bbb10c11b3249e0b3966088b78dd1cb",
              "IPY_MODEL_25b593287fca446fac2946d227a76891"
            ],
            "layout": "IPY_MODEL_539e8aa2c083444583de872933685671"
          }
        },
        "f267f142ae074b0fbb711bfd3f3cd856": {
          "model_module": "@jupyter-widgets/controls",
          "model_name": "HTMLModel",
          "model_module_version": "1.5.0",
          "state": {
            "_dom_classes": [],
            "_model_module": "@jupyter-widgets/controls",
            "_model_module_version": "1.5.0",
            "_model_name": "HTMLModel",
            "_view_count": null,
            "_view_module": "@jupyter-widgets/controls",
            "_view_module_version": "1.5.0",
            "_view_name": "HTMLView",
            "description": "",
            "description_tooltip": null,
            "layout": "IPY_MODEL_fefae821b9364e27a9a83f6daf404516",
            "placeholder": "​",
            "style": "IPY_MODEL_421395ab6a2e4bd89adf9b9748de2fad",
            "value": "special_tokens_map.json: 100%"
          }
        },
        "8bbb10c11b3249e0b3966088b78dd1cb": {
          "model_module": "@jupyter-widgets/controls",
          "model_name": "FloatProgressModel",
          "model_module_version": "1.5.0",
          "state": {
            "_dom_classes": [],
            "_model_module": "@jupyter-widgets/controls",
            "_model_module_version": "1.5.0",
            "_model_name": "FloatProgressModel",
            "_view_count": null,
            "_view_module": "@jupyter-widgets/controls",
            "_view_module_version": "1.5.0",
            "_view_name": "ProgressView",
            "bar_style": "success",
            "description": "",
            "description_tooltip": null,
            "layout": "IPY_MODEL_ae0bd5772a2f41f583cbca8f7c8c597b",
            "max": 125,
            "min": 0,
            "orientation": "horizontal",
            "style": "IPY_MODEL_17007cc2a3e04de0a0c01ea0eda114ac",
            "value": 125
          }
        },
        "25b593287fca446fac2946d227a76891": {
          "model_module": "@jupyter-widgets/controls",
          "model_name": "HTMLModel",
          "model_module_version": "1.5.0",
          "state": {
            "_dom_classes": [],
            "_model_module": "@jupyter-widgets/controls",
            "_model_module_version": "1.5.0",
            "_model_name": "HTMLModel",
            "_view_count": null,
            "_view_module": "@jupyter-widgets/controls",
            "_view_module_version": "1.5.0",
            "_view_name": "HTMLView",
            "description": "",
            "description_tooltip": null,
            "layout": "IPY_MODEL_2fa16eebeb694898903bdcea5133bdc3",
            "placeholder": "​",
            "style": "IPY_MODEL_18242b2350464473b5516379a63247d5",
            "value": " 125/125 [00:00&lt;00:00, 9.06kB/s]"
          }
        },
        "539e8aa2c083444583de872933685671": {
          "model_module": "@jupyter-widgets/base",
          "model_name": "LayoutModel",
          "model_module_version": "1.2.0",
          "state": {
            "_model_module": "@jupyter-widgets/base",
            "_model_module_version": "1.2.0",
            "_model_name": "LayoutModel",
            "_view_count": null,
            "_view_module": "@jupyter-widgets/base",
            "_view_module_version": "1.2.0",
            "_view_name": "LayoutView",
            "align_content": null,
            "align_items": null,
            "align_self": null,
            "border": null,
            "bottom": null,
            "display": null,
            "flex": null,
            "flex_flow": null,
            "grid_area": null,
            "grid_auto_columns": null,
            "grid_auto_flow": null,
            "grid_auto_rows": null,
            "grid_column": null,
            "grid_gap": null,
            "grid_row": null,
            "grid_template_areas": null,
            "grid_template_columns": null,
            "grid_template_rows": null,
            "height": null,
            "justify_content": null,
            "justify_items": null,
            "left": null,
            "margin": null,
            "max_height": null,
            "max_width": null,
            "min_height": null,
            "min_width": null,
            "object_fit": null,
            "object_position": null,
            "order": null,
            "overflow": null,
            "overflow_x": null,
            "overflow_y": null,
            "padding": null,
            "right": null,
            "top": null,
            "visibility": null,
            "width": null
          }
        },
        "fefae821b9364e27a9a83f6daf404516": {
          "model_module": "@jupyter-widgets/base",
          "model_name": "LayoutModel",
          "model_module_version": "1.2.0",
          "state": {
            "_model_module": "@jupyter-widgets/base",
            "_model_module_version": "1.2.0",
            "_model_name": "LayoutModel",
            "_view_count": null,
            "_view_module": "@jupyter-widgets/base",
            "_view_module_version": "1.2.0",
            "_view_name": "LayoutView",
            "align_content": null,
            "align_items": null,
            "align_self": null,
            "border": null,
            "bottom": null,
            "display": null,
            "flex": null,
            "flex_flow": null,
            "grid_area": null,
            "grid_auto_columns": null,
            "grid_auto_flow": null,
            "grid_auto_rows": null,
            "grid_column": null,
            "grid_gap": null,
            "grid_row": null,
            "grid_template_areas": null,
            "grid_template_columns": null,
            "grid_template_rows": null,
            "height": null,
            "justify_content": null,
            "justify_items": null,
            "left": null,
            "margin": null,
            "max_height": null,
            "max_width": null,
            "min_height": null,
            "min_width": null,
            "object_fit": null,
            "object_position": null,
            "order": null,
            "overflow": null,
            "overflow_x": null,
            "overflow_y": null,
            "padding": null,
            "right": null,
            "top": null,
            "visibility": null,
            "width": null
          }
        },
        "421395ab6a2e4bd89adf9b9748de2fad": {
          "model_module": "@jupyter-widgets/controls",
          "model_name": "DescriptionStyleModel",
          "model_module_version": "1.5.0",
          "state": {
            "_model_module": "@jupyter-widgets/controls",
            "_model_module_version": "1.5.0",
            "_model_name": "DescriptionStyleModel",
            "_view_count": null,
            "_view_module": "@jupyter-widgets/base",
            "_view_module_version": "1.2.0",
            "_view_name": "StyleView",
            "description_width": ""
          }
        },
        "ae0bd5772a2f41f583cbca8f7c8c597b": {
          "model_module": "@jupyter-widgets/base",
          "model_name": "LayoutModel",
          "model_module_version": "1.2.0",
          "state": {
            "_model_module": "@jupyter-widgets/base",
            "_model_module_version": "1.2.0",
            "_model_name": "LayoutModel",
            "_view_count": null,
            "_view_module": "@jupyter-widgets/base",
            "_view_module_version": "1.2.0",
            "_view_name": "LayoutView",
            "align_content": null,
            "align_items": null,
            "align_self": null,
            "border": null,
            "bottom": null,
            "display": null,
            "flex": null,
            "flex_flow": null,
            "grid_area": null,
            "grid_auto_columns": null,
            "grid_auto_flow": null,
            "grid_auto_rows": null,
            "grid_column": null,
            "grid_gap": null,
            "grid_row": null,
            "grid_template_areas": null,
            "grid_template_columns": null,
            "grid_template_rows": null,
            "height": null,
            "justify_content": null,
            "justify_items": null,
            "left": null,
            "margin": null,
            "max_height": null,
            "max_width": null,
            "min_height": null,
            "min_width": null,
            "object_fit": null,
            "object_position": null,
            "order": null,
            "overflow": null,
            "overflow_x": null,
            "overflow_y": null,
            "padding": null,
            "right": null,
            "top": null,
            "visibility": null,
            "width": null
          }
        },
        "17007cc2a3e04de0a0c01ea0eda114ac": {
          "model_module": "@jupyter-widgets/controls",
          "model_name": "ProgressStyleModel",
          "model_module_version": "1.5.0",
          "state": {
            "_model_module": "@jupyter-widgets/controls",
            "_model_module_version": "1.5.0",
            "_model_name": "ProgressStyleModel",
            "_view_count": null,
            "_view_module": "@jupyter-widgets/base",
            "_view_module_version": "1.2.0",
            "_view_name": "StyleView",
            "bar_color": null,
            "description_width": ""
          }
        },
        "2fa16eebeb694898903bdcea5133bdc3": {
          "model_module": "@jupyter-widgets/base",
          "model_name": "LayoutModel",
          "model_module_version": "1.2.0",
          "state": {
            "_model_module": "@jupyter-widgets/base",
            "_model_module_version": "1.2.0",
            "_model_name": "LayoutModel",
            "_view_count": null,
            "_view_module": "@jupyter-widgets/base",
            "_view_module_version": "1.2.0",
            "_view_name": "LayoutView",
            "align_content": null,
            "align_items": null,
            "align_self": null,
            "border": null,
            "bottom": null,
            "display": null,
            "flex": null,
            "flex_flow": null,
            "grid_area": null,
            "grid_auto_columns": null,
            "grid_auto_flow": null,
            "grid_auto_rows": null,
            "grid_column": null,
            "grid_gap": null,
            "grid_row": null,
            "grid_template_areas": null,
            "grid_template_columns": null,
            "grid_template_rows": null,
            "height": null,
            "justify_content": null,
            "justify_items": null,
            "left": null,
            "margin": null,
            "max_height": null,
            "max_width": null,
            "min_height": null,
            "min_width": null,
            "object_fit": null,
            "object_position": null,
            "order": null,
            "overflow": null,
            "overflow_x": null,
            "overflow_y": null,
            "padding": null,
            "right": null,
            "top": null,
            "visibility": null,
            "width": null
          }
        },
        "18242b2350464473b5516379a63247d5": {
          "model_module": "@jupyter-widgets/controls",
          "model_name": "DescriptionStyleModel",
          "model_module_version": "1.5.0",
          "state": {
            "_model_module": "@jupyter-widgets/controls",
            "_model_module_version": "1.5.0",
            "_model_name": "DescriptionStyleModel",
            "_view_count": null,
            "_view_module": "@jupyter-widgets/base",
            "_view_module_version": "1.2.0",
            "_view_name": "StyleView",
            "description_width": ""
          }
        },
        "02ec3440f809440290b5fe1b664a404d": {
          "model_module": "@jupyter-widgets/controls",
          "model_name": "HBoxModel",
          "model_module_version": "1.5.0",
          "state": {
            "_dom_classes": [],
            "_model_module": "@jupyter-widgets/controls",
            "_model_module_version": "1.5.0",
            "_model_name": "HBoxModel",
            "_view_count": null,
            "_view_module": "@jupyter-widgets/controls",
            "_view_module_version": "1.5.0",
            "_view_name": "HBoxView",
            "box_style": "",
            "children": [
              "IPY_MODEL_6a8d9377b09649699f2457846ef34a68",
              "IPY_MODEL_c5d961fda6df47bfaf02287296fa8a70",
              "IPY_MODEL_5698f6454cf64b488ab603d7552237d4"
            ],
            "layout": "IPY_MODEL_e8b81fa7a4ae4baba342fec3d9e41368"
          }
        },
        "6a8d9377b09649699f2457846ef34a68": {
          "model_module": "@jupyter-widgets/controls",
          "model_name": "HTMLModel",
          "model_module_version": "1.5.0",
          "state": {
            "_dom_classes": [],
            "_model_module": "@jupyter-widgets/controls",
            "_model_module_version": "1.5.0",
            "_model_name": "HTMLModel",
            "_view_count": null,
            "_view_module": "@jupyter-widgets/controls",
            "_view_module_version": "1.5.0",
            "_view_name": "HTMLView",
            "description": "",
            "description_tooltip": null,
            "layout": "IPY_MODEL_db21712a691144dab9e5f4155f06d3dd",
            "placeholder": "​",
            "style": "IPY_MODEL_7ed669e4f7334948816d86dd4a5871b7",
            "value": "tokenizer.json: 100%"
          }
        },
        "c5d961fda6df47bfaf02287296fa8a70": {
          "model_module": "@jupyter-widgets/controls",
          "model_name": "FloatProgressModel",
          "model_module_version": "1.5.0",
          "state": {
            "_dom_classes": [],
            "_model_module": "@jupyter-widgets/controls",
            "_model_module_version": "1.5.0",
            "_model_name": "FloatProgressModel",
            "_view_count": null,
            "_view_module": "@jupyter-widgets/controls",
            "_view_module_version": "1.5.0",
            "_view_name": "ProgressView",
            "bar_style": "success",
            "description": "",
            "description_tooltip": null,
            "layout": "IPY_MODEL_a9b907e7bc704e4b807f3e21e3f10a5b",
            "max": 494860,
            "min": 0,
            "orientation": "horizontal",
            "style": "IPY_MODEL_70831c10766e48b2b28cccb9fb8e13b8",
            "value": 494860
          }
        },
        "5698f6454cf64b488ab603d7552237d4": {
          "model_module": "@jupyter-widgets/controls",
          "model_name": "HTMLModel",
          "model_module_version": "1.5.0",
          "state": {
            "_dom_classes": [],
            "_model_module": "@jupyter-widgets/controls",
            "_model_module_version": "1.5.0",
            "_model_name": "HTMLModel",
            "_view_count": null,
            "_view_module": "@jupyter-widgets/controls",
            "_view_module_version": "1.5.0",
            "_view_name": "HTMLView",
            "description": "",
            "description_tooltip": null,
            "layout": "IPY_MODEL_d61d78e29a2547de9e01b32cb751679c",
            "placeholder": "​",
            "style": "IPY_MODEL_07a91005c95f4480a169798b640fa4e9",
            "value": " 495k/495k [00:00&lt;00:00, 2.97MB/s]"
          }
        },
        "e8b81fa7a4ae4baba342fec3d9e41368": {
          "model_module": "@jupyter-widgets/base",
          "model_name": "LayoutModel",
          "model_module_version": "1.2.0",
          "state": {
            "_model_module": "@jupyter-widgets/base",
            "_model_module_version": "1.2.0",
            "_model_name": "LayoutModel",
            "_view_count": null,
            "_view_module": "@jupyter-widgets/base",
            "_view_module_version": "1.2.0",
            "_view_name": "LayoutView",
            "align_content": null,
            "align_items": null,
            "align_self": null,
            "border": null,
            "bottom": null,
            "display": null,
            "flex": null,
            "flex_flow": null,
            "grid_area": null,
            "grid_auto_columns": null,
            "grid_auto_flow": null,
            "grid_auto_rows": null,
            "grid_column": null,
            "grid_gap": null,
            "grid_row": null,
            "grid_template_areas": null,
            "grid_template_columns": null,
            "grid_template_rows": null,
            "height": null,
            "justify_content": null,
            "justify_items": null,
            "left": null,
            "margin": null,
            "max_height": null,
            "max_width": null,
            "min_height": null,
            "min_width": null,
            "object_fit": null,
            "object_position": null,
            "order": null,
            "overflow": null,
            "overflow_x": null,
            "overflow_y": null,
            "padding": null,
            "right": null,
            "top": null,
            "visibility": null,
            "width": null
          }
        },
        "db21712a691144dab9e5f4155f06d3dd": {
          "model_module": "@jupyter-widgets/base",
          "model_name": "LayoutModel",
          "model_module_version": "1.2.0",
          "state": {
            "_model_module": "@jupyter-widgets/base",
            "_model_module_version": "1.2.0",
            "_model_name": "LayoutModel",
            "_view_count": null,
            "_view_module": "@jupyter-widgets/base",
            "_view_module_version": "1.2.0",
            "_view_name": "LayoutView",
            "align_content": null,
            "align_items": null,
            "align_self": null,
            "border": null,
            "bottom": null,
            "display": null,
            "flex": null,
            "flex_flow": null,
            "grid_area": null,
            "grid_auto_columns": null,
            "grid_auto_flow": null,
            "grid_auto_rows": null,
            "grid_column": null,
            "grid_gap": null,
            "grid_row": null,
            "grid_template_areas": null,
            "grid_template_columns": null,
            "grid_template_rows": null,
            "height": null,
            "justify_content": null,
            "justify_items": null,
            "left": null,
            "margin": null,
            "max_height": null,
            "max_width": null,
            "min_height": null,
            "min_width": null,
            "object_fit": null,
            "object_position": null,
            "order": null,
            "overflow": null,
            "overflow_x": null,
            "overflow_y": null,
            "padding": null,
            "right": null,
            "top": null,
            "visibility": null,
            "width": null
          }
        },
        "7ed669e4f7334948816d86dd4a5871b7": {
          "model_module": "@jupyter-widgets/controls",
          "model_name": "DescriptionStyleModel",
          "model_module_version": "1.5.0",
          "state": {
            "_model_module": "@jupyter-widgets/controls",
            "_model_module_version": "1.5.0",
            "_model_name": "DescriptionStyleModel",
            "_view_count": null,
            "_view_module": "@jupyter-widgets/base",
            "_view_module_version": "1.2.0",
            "_view_name": "StyleView",
            "description_width": ""
          }
        },
        "a9b907e7bc704e4b807f3e21e3f10a5b": {
          "model_module": "@jupyter-widgets/base",
          "model_name": "LayoutModel",
          "model_module_version": "1.2.0",
          "state": {
            "_model_module": "@jupyter-widgets/base",
            "_model_module_version": "1.2.0",
            "_model_name": "LayoutModel",
            "_view_count": null,
            "_view_module": "@jupyter-widgets/base",
            "_view_module_version": "1.2.0",
            "_view_name": "LayoutView",
            "align_content": null,
            "align_items": null,
            "align_self": null,
            "border": null,
            "bottom": null,
            "display": null,
            "flex": null,
            "flex_flow": null,
            "grid_area": null,
            "grid_auto_columns": null,
            "grid_auto_flow": null,
            "grid_auto_rows": null,
            "grid_column": null,
            "grid_gap": null,
            "grid_row": null,
            "grid_template_areas": null,
            "grid_template_columns": null,
            "grid_template_rows": null,
            "height": null,
            "justify_content": null,
            "justify_items": null,
            "left": null,
            "margin": null,
            "max_height": null,
            "max_width": null,
            "min_height": null,
            "min_width": null,
            "object_fit": null,
            "object_position": null,
            "order": null,
            "overflow": null,
            "overflow_x": null,
            "overflow_y": null,
            "padding": null,
            "right": null,
            "top": null,
            "visibility": null,
            "width": null
          }
        },
        "70831c10766e48b2b28cccb9fb8e13b8": {
          "model_module": "@jupyter-widgets/controls",
          "model_name": "ProgressStyleModel",
          "model_module_version": "1.5.0",
          "state": {
            "_model_module": "@jupyter-widgets/controls",
            "_model_module_version": "1.5.0",
            "_model_name": "ProgressStyleModel",
            "_view_count": null,
            "_view_module": "@jupyter-widgets/base",
            "_view_module_version": "1.2.0",
            "_view_name": "StyleView",
            "bar_color": null,
            "description_width": ""
          }
        },
        "d61d78e29a2547de9e01b32cb751679c": {
          "model_module": "@jupyter-widgets/base",
          "model_name": "LayoutModel",
          "model_module_version": "1.2.0",
          "state": {
            "_model_module": "@jupyter-widgets/base",
            "_model_module_version": "1.2.0",
            "_model_name": "LayoutModel",
            "_view_count": null,
            "_view_module": "@jupyter-widgets/base",
            "_view_module_version": "1.2.0",
            "_view_name": "LayoutView",
            "align_content": null,
            "align_items": null,
            "align_self": null,
            "border": null,
            "bottom": null,
            "display": null,
            "flex": null,
            "flex_flow": null,
            "grid_area": null,
            "grid_auto_columns": null,
            "grid_auto_flow": null,
            "grid_auto_rows": null,
            "grid_column": null,
            "grid_gap": null,
            "grid_row": null,
            "grid_template_areas": null,
            "grid_template_columns": null,
            "grid_template_rows": null,
            "height": null,
            "justify_content": null,
            "justify_items": null,
            "left": null,
            "margin": null,
            "max_height": null,
            "max_width": null,
            "min_height": null,
            "min_width": null,
            "object_fit": null,
            "object_position": null,
            "order": null,
            "overflow": null,
            "overflow_x": null,
            "overflow_y": null,
            "padding": null,
            "right": null,
            "top": null,
            "visibility": null,
            "width": null
          }
        },
        "07a91005c95f4480a169798b640fa4e9": {
          "model_module": "@jupyter-widgets/controls",
          "model_name": "DescriptionStyleModel",
          "model_module_version": "1.5.0",
          "state": {
            "_model_module": "@jupyter-widgets/controls",
            "_model_module_version": "1.5.0",
            "_model_name": "DescriptionStyleModel",
            "_view_count": null,
            "_view_module": "@jupyter-widgets/base",
            "_view_module_version": "1.2.0",
            "_view_name": "StyleView",
            "description_width": ""
          }
        },
        "19c05ae7ac2c4b91aee35c0440670d27": {
          "model_module": "@jupyter-widgets/controls",
          "model_name": "HBoxModel",
          "model_module_version": "1.5.0",
          "state": {
            "_dom_classes": [],
            "_model_module": "@jupyter-widgets/controls",
            "_model_module_version": "1.5.0",
            "_model_name": "HBoxModel",
            "_view_count": null,
            "_view_module": "@jupyter-widgets/controls",
            "_view_module_version": "1.5.0",
            "_view_name": "HBoxView",
            "box_style": "",
            "children": [
              "IPY_MODEL_69de46a322cc4eebab5aa75813838f8f",
              "IPY_MODEL_2db6471e222b41b687410acb6ce4cee3",
              "IPY_MODEL_1bfeef678f6c4d77a0f23cc74ef0d2f8"
            ],
            "layout": "IPY_MODEL_d2d79263838048f3bc4d03906147a4ba"
          }
        },
        "69de46a322cc4eebab5aa75813838f8f": {
          "model_module": "@jupyter-widgets/controls",
          "model_name": "HTMLModel",
          "model_module_version": "1.5.0",
          "state": {
            "_dom_classes": [],
            "_model_module": "@jupyter-widgets/controls",
            "_model_module_version": "1.5.0",
            "_model_name": "HTMLModel",
            "_view_count": null,
            "_view_module": "@jupyter-widgets/controls",
            "_view_module_version": "1.5.0",
            "_view_name": "HTMLView",
            "description": "",
            "description_tooltip": null,
            "layout": "IPY_MODEL_9d6ffe7747d248029a1c0524af4dd371",
            "placeholder": "​",
            "style": "IPY_MODEL_7d29cf68827b422e9d5fd97e201f722f",
            "value": "config.json: 100%"
          }
        },
        "2db6471e222b41b687410acb6ce4cee3": {
          "model_module": "@jupyter-widgets/controls",
          "model_name": "FloatProgressModel",
          "model_module_version": "1.5.0",
          "state": {
            "_dom_classes": [],
            "_model_module": "@jupyter-widgets/controls",
            "_model_module_version": "1.5.0",
            "_model_name": "FloatProgressModel",
            "_view_count": null,
            "_view_module": "@jupyter-widgets/controls",
            "_view_module_version": "1.5.0",
            "_view_name": "ProgressView",
            "bar_style": "success",
            "description": "",
            "description_tooltip": null,
            "layout": "IPY_MODEL_f5b4304c12e74cda8862ffb7bad40633",
            "max": 425,
            "min": 0,
            "orientation": "horizontal",
            "style": "IPY_MODEL_110a2a3531ce47f0bb16caed804d3419",
            "value": 425
          }
        },
        "1bfeef678f6c4d77a0f23cc74ef0d2f8": {
          "model_module": "@jupyter-widgets/controls",
          "model_name": "HTMLModel",
          "model_module_version": "1.5.0",
          "state": {
            "_dom_classes": [],
            "_model_module": "@jupyter-widgets/controls",
            "_model_module_version": "1.5.0",
            "_model_name": "HTMLModel",
            "_view_count": null,
            "_view_module": "@jupyter-widgets/controls",
            "_view_module_version": "1.5.0",
            "_view_name": "HTMLView",
            "description": "",
            "description_tooltip": null,
            "layout": "IPY_MODEL_8a32fa8010ca4374aff330ace4360bef",
            "placeholder": "​",
            "style": "IPY_MODEL_0ef5a0e3813c453c9ad7923eec57cb47",
            "value": " 425/425 [00:00&lt;00:00, 47.4kB/s]"
          }
        },
        "d2d79263838048f3bc4d03906147a4ba": {
          "model_module": "@jupyter-widgets/base",
          "model_name": "LayoutModel",
          "model_module_version": "1.2.0",
          "state": {
            "_model_module": "@jupyter-widgets/base",
            "_model_module_version": "1.2.0",
            "_model_name": "LayoutModel",
            "_view_count": null,
            "_view_module": "@jupyter-widgets/base",
            "_view_module_version": "1.2.0",
            "_view_name": "LayoutView",
            "align_content": null,
            "align_items": null,
            "align_self": null,
            "border": null,
            "bottom": null,
            "display": null,
            "flex": null,
            "flex_flow": null,
            "grid_area": null,
            "grid_auto_columns": null,
            "grid_auto_flow": null,
            "grid_auto_rows": null,
            "grid_column": null,
            "grid_gap": null,
            "grid_row": null,
            "grid_template_areas": null,
            "grid_template_columns": null,
            "grid_template_rows": null,
            "height": null,
            "justify_content": null,
            "justify_items": null,
            "left": null,
            "margin": null,
            "max_height": null,
            "max_width": null,
            "min_height": null,
            "min_width": null,
            "object_fit": null,
            "object_position": null,
            "order": null,
            "overflow": null,
            "overflow_x": null,
            "overflow_y": null,
            "padding": null,
            "right": null,
            "top": null,
            "visibility": null,
            "width": null
          }
        },
        "9d6ffe7747d248029a1c0524af4dd371": {
          "model_module": "@jupyter-widgets/base",
          "model_name": "LayoutModel",
          "model_module_version": "1.2.0",
          "state": {
            "_model_module": "@jupyter-widgets/base",
            "_model_module_version": "1.2.0",
            "_model_name": "LayoutModel",
            "_view_count": null,
            "_view_module": "@jupyter-widgets/base",
            "_view_module_version": "1.2.0",
            "_view_name": "LayoutView",
            "align_content": null,
            "align_items": null,
            "align_self": null,
            "border": null,
            "bottom": null,
            "display": null,
            "flex": null,
            "flex_flow": null,
            "grid_area": null,
            "grid_auto_columns": null,
            "grid_auto_flow": null,
            "grid_auto_rows": null,
            "grid_column": null,
            "grid_gap": null,
            "grid_row": null,
            "grid_template_areas": null,
            "grid_template_columns": null,
            "grid_template_rows": null,
            "height": null,
            "justify_content": null,
            "justify_items": null,
            "left": null,
            "margin": null,
            "max_height": null,
            "max_width": null,
            "min_height": null,
            "min_width": null,
            "object_fit": null,
            "object_position": null,
            "order": null,
            "overflow": null,
            "overflow_x": null,
            "overflow_y": null,
            "padding": null,
            "right": null,
            "top": null,
            "visibility": null,
            "width": null
          }
        },
        "7d29cf68827b422e9d5fd97e201f722f": {
          "model_module": "@jupyter-widgets/controls",
          "model_name": "DescriptionStyleModel",
          "model_module_version": "1.5.0",
          "state": {
            "_model_module": "@jupyter-widgets/controls",
            "_model_module_version": "1.5.0",
            "_model_name": "DescriptionStyleModel",
            "_view_count": null,
            "_view_module": "@jupyter-widgets/base",
            "_view_module_version": "1.2.0",
            "_view_name": "StyleView",
            "description_width": ""
          }
        },
        "f5b4304c12e74cda8862ffb7bad40633": {
          "model_module": "@jupyter-widgets/base",
          "model_name": "LayoutModel",
          "model_module_version": "1.2.0",
          "state": {
            "_model_module": "@jupyter-widgets/base",
            "_model_module_version": "1.2.0",
            "_model_name": "LayoutModel",
            "_view_count": null,
            "_view_module": "@jupyter-widgets/base",
            "_view_module_version": "1.2.0",
            "_view_name": "LayoutView",
            "align_content": null,
            "align_items": null,
            "align_self": null,
            "border": null,
            "bottom": null,
            "display": null,
            "flex": null,
            "flex_flow": null,
            "grid_area": null,
            "grid_auto_columns": null,
            "grid_auto_flow": null,
            "grid_auto_rows": null,
            "grid_column": null,
            "grid_gap": null,
            "grid_row": null,
            "grid_template_areas": null,
            "grid_template_columns": null,
            "grid_template_rows": null,
            "height": null,
            "justify_content": null,
            "justify_items": null,
            "left": null,
            "margin": null,
            "max_height": null,
            "max_width": null,
            "min_height": null,
            "min_width": null,
            "object_fit": null,
            "object_position": null,
            "order": null,
            "overflow": null,
            "overflow_x": null,
            "overflow_y": null,
            "padding": null,
            "right": null,
            "top": null,
            "visibility": null,
            "width": null
          }
        },
        "110a2a3531ce47f0bb16caed804d3419": {
          "model_module": "@jupyter-widgets/controls",
          "model_name": "ProgressStyleModel",
          "model_module_version": "1.5.0",
          "state": {
            "_model_module": "@jupyter-widgets/controls",
            "_model_module_version": "1.5.0",
            "_model_name": "ProgressStyleModel",
            "_view_count": null,
            "_view_module": "@jupyter-widgets/base",
            "_view_module_version": "1.2.0",
            "_view_name": "StyleView",
            "bar_color": null,
            "description_width": ""
          }
        },
        "8a32fa8010ca4374aff330ace4360bef": {
          "model_module": "@jupyter-widgets/base",
          "model_name": "LayoutModel",
          "model_module_version": "1.2.0",
          "state": {
            "_model_module": "@jupyter-widgets/base",
            "_model_module_version": "1.2.0",
            "_model_name": "LayoutModel",
            "_view_count": null,
            "_view_module": "@jupyter-widgets/base",
            "_view_module_version": "1.2.0",
            "_view_name": "LayoutView",
            "align_content": null,
            "align_items": null,
            "align_self": null,
            "border": null,
            "bottom": null,
            "display": null,
            "flex": null,
            "flex_flow": null,
            "grid_area": null,
            "grid_auto_columns": null,
            "grid_auto_flow": null,
            "grid_auto_rows": null,
            "grid_column": null,
            "grid_gap": null,
            "grid_row": null,
            "grid_template_areas": null,
            "grid_template_columns": null,
            "grid_template_rows": null,
            "height": null,
            "justify_content": null,
            "justify_items": null,
            "left": null,
            "margin": null,
            "max_height": null,
            "max_width": null,
            "min_height": null,
            "min_width": null,
            "object_fit": null,
            "object_position": null,
            "order": null,
            "overflow": null,
            "overflow_x": null,
            "overflow_y": null,
            "padding": null,
            "right": null,
            "top": null,
            "visibility": null,
            "width": null
          }
        },
        "0ef5a0e3813c453c9ad7923eec57cb47": {
          "model_module": "@jupyter-widgets/controls",
          "model_name": "DescriptionStyleModel",
          "model_module_version": "1.5.0",
          "state": {
            "_model_module": "@jupyter-widgets/controls",
            "_model_module_version": "1.5.0",
            "_model_name": "DescriptionStyleModel",
            "_view_count": null,
            "_view_module": "@jupyter-widgets/base",
            "_view_module_version": "1.2.0",
            "_view_name": "StyleView",
            "description_width": ""
          }
        },
        "c8c0ea3590c74918b58d62e396e25585": {
          "model_module": "@jupyter-widgets/controls",
          "model_name": "HBoxModel",
          "model_module_version": "1.5.0",
          "state": {
            "_dom_classes": [],
            "_model_module": "@jupyter-widgets/controls",
            "_model_module_version": "1.5.0",
            "_model_name": "HBoxModel",
            "_view_count": null,
            "_view_module": "@jupyter-widgets/controls",
            "_view_module_version": "1.5.0",
            "_view_name": "HBoxView",
            "box_style": "",
            "children": [
              "IPY_MODEL_c635776baf91433a94549fca94effe8e",
              "IPY_MODEL_851c73c5e1814c4dac6519ea58bee45a",
              "IPY_MODEL_46f611b5a0b643cdb50a7752f3502adb"
            ],
            "layout": "IPY_MODEL_db6655a7ae75418fbcf1540842521d19"
          }
        },
        "c635776baf91433a94549fca94effe8e": {
          "model_module": "@jupyter-widgets/controls",
          "model_name": "HTMLModel",
          "model_module_version": "1.5.0",
          "state": {
            "_dom_classes": [],
            "_model_module": "@jupyter-widgets/controls",
            "_model_module_version": "1.5.0",
            "_model_name": "HTMLModel",
            "_view_count": null,
            "_view_module": "@jupyter-widgets/controls",
            "_view_module_version": "1.5.0",
            "_view_name": "HTMLView",
            "description": "",
            "description_tooltip": null,
            "layout": "IPY_MODEL_e3d27d0582fe4ca8a5c626ac6bbf0ebb",
            "placeholder": "​",
            "style": "IPY_MODEL_66aa3d4d0fff414892c8341ef493ec6e",
            "value": "model.safetensors: 100%"
          }
        },
        "851c73c5e1814c4dac6519ea58bee45a": {
          "model_module": "@jupyter-widgets/controls",
          "model_name": "FloatProgressModel",
          "model_module_version": "1.5.0",
          "state": {
            "_dom_classes": [],
            "_model_module": "@jupyter-widgets/controls",
            "_model_module_version": "1.5.0",
            "_model_name": "FloatProgressModel",
            "_view_count": null,
            "_view_module": "@jupyter-widgets/controls",
            "_view_module_version": "1.5.0",
            "_view_name": "ProgressView",
            "bar_style": "success",
            "description": "",
            "description_tooltip": null,
            "layout": "IPY_MODEL_5d8b398a23824f83ad87b2a7e804ce05",
            "max": 445000316,
            "min": 0,
            "orientation": "horizontal",
            "style": "IPY_MODEL_e77aabaac29947d58e5bb3e9bf6bc649",
            "value": 445000316
          }
        },
        "46f611b5a0b643cdb50a7752f3502adb": {
          "model_module": "@jupyter-widgets/controls",
          "model_name": "HTMLModel",
          "model_module_version": "1.5.0",
          "state": {
            "_dom_classes": [],
            "_model_module": "@jupyter-widgets/controls",
            "_model_module_version": "1.5.0",
            "_model_name": "HTMLModel",
            "_view_count": null,
            "_view_module": "@jupyter-widgets/controls",
            "_view_module_version": "1.5.0",
            "_view_name": "HTMLView",
            "description": "",
            "description_tooltip": null,
            "layout": "IPY_MODEL_80ea5d842df24506bcd25a72c26eecd7",
            "placeholder": "​",
            "style": "IPY_MODEL_5c9d3b47ba6540719001312fb4aac6e4",
            "value": " 445M/445M [00:01&lt;00:00, 343MB/s]"
          }
        },
        "db6655a7ae75418fbcf1540842521d19": {
          "model_module": "@jupyter-widgets/base",
          "model_name": "LayoutModel",
          "model_module_version": "1.2.0",
          "state": {
            "_model_module": "@jupyter-widgets/base",
            "_model_module_version": "1.2.0",
            "_model_name": "LayoutModel",
            "_view_count": null,
            "_view_module": "@jupyter-widgets/base",
            "_view_module_version": "1.2.0",
            "_view_name": "LayoutView",
            "align_content": null,
            "align_items": null,
            "align_self": null,
            "border": null,
            "bottom": null,
            "display": null,
            "flex": null,
            "flex_flow": null,
            "grid_area": null,
            "grid_auto_columns": null,
            "grid_auto_flow": null,
            "grid_auto_rows": null,
            "grid_column": null,
            "grid_gap": null,
            "grid_row": null,
            "grid_template_areas": null,
            "grid_template_columns": null,
            "grid_template_rows": null,
            "height": null,
            "justify_content": null,
            "justify_items": null,
            "left": null,
            "margin": null,
            "max_height": null,
            "max_width": null,
            "min_height": null,
            "min_width": null,
            "object_fit": null,
            "object_position": null,
            "order": null,
            "overflow": null,
            "overflow_x": null,
            "overflow_y": null,
            "padding": null,
            "right": null,
            "top": null,
            "visibility": null,
            "width": null
          }
        },
        "e3d27d0582fe4ca8a5c626ac6bbf0ebb": {
          "model_module": "@jupyter-widgets/base",
          "model_name": "LayoutModel",
          "model_module_version": "1.2.0",
          "state": {
            "_model_module": "@jupyter-widgets/base",
            "_model_module_version": "1.2.0",
            "_model_name": "LayoutModel",
            "_view_count": null,
            "_view_module": "@jupyter-widgets/base",
            "_view_module_version": "1.2.0",
            "_view_name": "LayoutView",
            "align_content": null,
            "align_items": null,
            "align_self": null,
            "border": null,
            "bottom": null,
            "display": null,
            "flex": null,
            "flex_flow": null,
            "grid_area": null,
            "grid_auto_columns": null,
            "grid_auto_flow": null,
            "grid_auto_rows": null,
            "grid_column": null,
            "grid_gap": null,
            "grid_row": null,
            "grid_template_areas": null,
            "grid_template_columns": null,
            "grid_template_rows": null,
            "height": null,
            "justify_content": null,
            "justify_items": null,
            "left": null,
            "margin": null,
            "max_height": null,
            "max_width": null,
            "min_height": null,
            "min_width": null,
            "object_fit": null,
            "object_position": null,
            "order": null,
            "overflow": null,
            "overflow_x": null,
            "overflow_y": null,
            "padding": null,
            "right": null,
            "top": null,
            "visibility": null,
            "width": null
          }
        },
        "66aa3d4d0fff414892c8341ef493ec6e": {
          "model_module": "@jupyter-widgets/controls",
          "model_name": "DescriptionStyleModel",
          "model_module_version": "1.5.0",
          "state": {
            "_model_module": "@jupyter-widgets/controls",
            "_model_module_version": "1.5.0",
            "_model_name": "DescriptionStyleModel",
            "_view_count": null,
            "_view_module": "@jupyter-widgets/base",
            "_view_module_version": "1.2.0",
            "_view_name": "StyleView",
            "description_width": ""
          }
        },
        "5d8b398a23824f83ad87b2a7e804ce05": {
          "model_module": "@jupyter-widgets/base",
          "model_name": "LayoutModel",
          "model_module_version": "1.2.0",
          "state": {
            "_model_module": "@jupyter-widgets/base",
            "_model_module_version": "1.2.0",
            "_model_name": "LayoutModel",
            "_view_count": null,
            "_view_module": "@jupyter-widgets/base",
            "_view_module_version": "1.2.0",
            "_view_name": "LayoutView",
            "align_content": null,
            "align_items": null,
            "align_self": null,
            "border": null,
            "bottom": null,
            "display": null,
            "flex": null,
            "flex_flow": null,
            "grid_area": null,
            "grid_auto_columns": null,
            "grid_auto_flow": null,
            "grid_auto_rows": null,
            "grid_column": null,
            "grid_gap": null,
            "grid_row": null,
            "grid_template_areas": null,
            "grid_template_columns": null,
            "grid_template_rows": null,
            "height": null,
            "justify_content": null,
            "justify_items": null,
            "left": null,
            "margin": null,
            "max_height": null,
            "max_width": null,
            "min_height": null,
            "min_width": null,
            "object_fit": null,
            "object_position": null,
            "order": null,
            "overflow": null,
            "overflow_x": null,
            "overflow_y": null,
            "padding": null,
            "right": null,
            "top": null,
            "visibility": null,
            "width": null
          }
        },
        "e77aabaac29947d58e5bb3e9bf6bc649": {
          "model_module": "@jupyter-widgets/controls",
          "model_name": "ProgressStyleModel",
          "model_module_version": "1.5.0",
          "state": {
            "_model_module": "@jupyter-widgets/controls",
            "_model_module_version": "1.5.0",
            "_model_name": "ProgressStyleModel",
            "_view_count": null,
            "_view_module": "@jupyter-widgets/base",
            "_view_module_version": "1.2.0",
            "_view_name": "StyleView",
            "bar_color": null,
            "description_width": ""
          }
        },
        "80ea5d842df24506bcd25a72c26eecd7": {
          "model_module": "@jupyter-widgets/base",
          "model_name": "LayoutModel",
          "model_module_version": "1.2.0",
          "state": {
            "_model_module": "@jupyter-widgets/base",
            "_model_module_version": "1.2.0",
            "_model_name": "LayoutModel",
            "_view_count": null,
            "_view_module": "@jupyter-widgets/base",
            "_view_module_version": "1.2.0",
            "_view_name": "LayoutView",
            "align_content": null,
            "align_items": null,
            "align_self": null,
            "border": null,
            "bottom": null,
            "display": null,
            "flex": null,
            "flex_flow": null,
            "grid_area": null,
            "grid_auto_columns": null,
            "grid_auto_flow": null,
            "grid_auto_rows": null,
            "grid_column": null,
            "grid_gap": null,
            "grid_row": null,
            "grid_template_areas": null,
            "grid_template_columns": null,
            "grid_template_rows": null,
            "height": null,
            "justify_content": null,
            "justify_items": null,
            "left": null,
            "margin": null,
            "max_height": null,
            "max_width": null,
            "min_height": null,
            "min_width": null,
            "object_fit": null,
            "object_position": null,
            "order": null,
            "overflow": null,
            "overflow_x": null,
            "overflow_y": null,
            "padding": null,
            "right": null,
            "top": null,
            "visibility": null,
            "width": null
          }
        },
        "5c9d3b47ba6540719001312fb4aac6e4": {
          "model_module": "@jupyter-widgets/controls",
          "model_name": "DescriptionStyleModel",
          "model_module_version": "1.5.0",
          "state": {
            "_model_module": "@jupyter-widgets/controls",
            "_model_module_version": "1.5.0",
            "_model_name": "DescriptionStyleModel",
            "_view_count": null,
            "_view_module": "@jupyter-widgets/base",
            "_view_module_version": "1.2.0",
            "_view_name": "StyleView",
            "description_width": ""
          }
        },
        "6501b2b4d1734ede8d91acffa005324c": {
          "model_module": "@jupyter-widgets/controls",
          "model_name": "HBoxModel",
          "model_module_version": "1.5.0",
          "state": {
            "_dom_classes": [],
            "_model_module": "@jupyter-widgets/controls",
            "_model_module_version": "1.5.0",
            "_model_name": "HBoxModel",
            "_view_count": null,
            "_view_module": "@jupyter-widgets/controls",
            "_view_module_version": "1.5.0",
            "_view_name": "HBoxView",
            "box_style": "",
            "children": [
              "IPY_MODEL_afc0008254ed44eea3c2e441179e8829",
              "IPY_MODEL_6209bbcd0fac4af18df60d777e2b6cfc",
              "IPY_MODEL_9cd7b8c0aeed403b860c83e23310b6e8"
            ],
            "layout": "IPY_MODEL_1124fa9e612144a2ba4f23ae56edf94b"
          }
        },
        "afc0008254ed44eea3c2e441179e8829": {
          "model_module": "@jupyter-widgets/controls",
          "model_name": "HTMLModel",
          "model_module_version": "1.5.0",
          "state": {
            "_dom_classes": [],
            "_model_module": "@jupyter-widgets/controls",
            "_model_module_version": "1.5.0",
            "_model_name": "HTMLModel",
            "_view_count": null,
            "_view_module": "@jupyter-widgets/controls",
            "_view_module_version": "1.5.0",
            "_view_name": "HTMLView",
            "description": "",
            "description_tooltip": null,
            "layout": "IPY_MODEL_2b67d7905b864463b81efc6163d651eb",
            "placeholder": "​",
            "style": "IPY_MODEL_27955ef7230f42fc9158301eddfc4669",
            "value": "config.json: 100%"
          }
        },
        "6209bbcd0fac4af18df60d777e2b6cfc": {
          "model_module": "@jupyter-widgets/controls",
          "model_name": "FloatProgressModel",
          "model_module_version": "1.5.0",
          "state": {
            "_dom_classes": [],
            "_model_module": "@jupyter-widgets/controls",
            "_model_module_version": "1.5.0",
            "_model_name": "FloatProgressModel",
            "_view_count": null,
            "_view_module": "@jupyter-widgets/controls",
            "_view_module_version": "1.5.0",
            "_view_name": "ProgressView",
            "bar_style": "success",
            "description": "",
            "description_tooltip": null,
            "layout": "IPY_MODEL_a9dee745af024bb29f02680d76d3b044",
            "max": 1000,
            "min": 0,
            "orientation": "horizontal",
            "style": "IPY_MODEL_bd10c07768d54674abcecb63292e0012",
            "value": 1000
          }
        },
        "9cd7b8c0aeed403b860c83e23310b6e8": {
          "model_module": "@jupyter-widgets/controls",
          "model_name": "HTMLModel",
          "model_module_version": "1.5.0",
          "state": {
            "_dom_classes": [],
            "_model_module": "@jupyter-widgets/controls",
            "_model_module_version": "1.5.0",
            "_model_name": "HTMLModel",
            "_view_count": null,
            "_view_module": "@jupyter-widgets/controls",
            "_view_module_version": "1.5.0",
            "_view_name": "HTMLView",
            "description": "",
            "description_tooltip": null,
            "layout": "IPY_MODEL_022faa7b040f4866bad0c40540d74f4d",
            "placeholder": "​",
            "style": "IPY_MODEL_d7ab81225b9545aab217527258d5b54b",
            "value": " 1.00k/1.00k [00:00&lt;00:00, 15.5kB/s]"
          }
        },
        "1124fa9e612144a2ba4f23ae56edf94b": {
          "model_module": "@jupyter-widgets/base",
          "model_name": "LayoutModel",
          "model_module_version": "1.2.0",
          "state": {
            "_model_module": "@jupyter-widgets/base",
            "_model_module_version": "1.2.0",
            "_model_name": "LayoutModel",
            "_view_count": null,
            "_view_module": "@jupyter-widgets/base",
            "_view_module_version": "1.2.0",
            "_view_name": "LayoutView",
            "align_content": null,
            "align_items": null,
            "align_self": null,
            "border": null,
            "bottom": null,
            "display": null,
            "flex": null,
            "flex_flow": null,
            "grid_area": null,
            "grid_auto_columns": null,
            "grid_auto_flow": null,
            "grid_auto_rows": null,
            "grid_column": null,
            "grid_gap": null,
            "grid_row": null,
            "grid_template_areas": null,
            "grid_template_columns": null,
            "grid_template_rows": null,
            "height": null,
            "justify_content": null,
            "justify_items": null,
            "left": null,
            "margin": null,
            "max_height": null,
            "max_width": null,
            "min_height": null,
            "min_width": null,
            "object_fit": null,
            "object_position": null,
            "order": null,
            "overflow": null,
            "overflow_x": null,
            "overflow_y": null,
            "padding": null,
            "right": null,
            "top": null,
            "visibility": null,
            "width": null
          }
        },
        "2b67d7905b864463b81efc6163d651eb": {
          "model_module": "@jupyter-widgets/base",
          "model_name": "LayoutModel",
          "model_module_version": "1.2.0",
          "state": {
            "_model_module": "@jupyter-widgets/base",
            "_model_module_version": "1.2.0",
            "_model_name": "LayoutModel",
            "_view_count": null,
            "_view_module": "@jupyter-widgets/base",
            "_view_module_version": "1.2.0",
            "_view_name": "LayoutView",
            "align_content": null,
            "align_items": null,
            "align_self": null,
            "border": null,
            "bottom": null,
            "display": null,
            "flex": null,
            "flex_flow": null,
            "grid_area": null,
            "grid_auto_columns": null,
            "grid_auto_flow": null,
            "grid_auto_rows": null,
            "grid_column": null,
            "grid_gap": null,
            "grid_row": null,
            "grid_template_areas": null,
            "grid_template_columns": null,
            "grid_template_rows": null,
            "height": null,
            "justify_content": null,
            "justify_items": null,
            "left": null,
            "margin": null,
            "max_height": null,
            "max_width": null,
            "min_height": null,
            "min_width": null,
            "object_fit": null,
            "object_position": null,
            "order": null,
            "overflow": null,
            "overflow_x": null,
            "overflow_y": null,
            "padding": null,
            "right": null,
            "top": null,
            "visibility": null,
            "width": null
          }
        },
        "27955ef7230f42fc9158301eddfc4669": {
          "model_module": "@jupyter-widgets/controls",
          "model_name": "DescriptionStyleModel",
          "model_module_version": "1.5.0",
          "state": {
            "_model_module": "@jupyter-widgets/controls",
            "_model_module_version": "1.5.0",
            "_model_name": "DescriptionStyleModel",
            "_view_count": null,
            "_view_module": "@jupyter-widgets/base",
            "_view_module_version": "1.2.0",
            "_view_name": "StyleView",
            "description_width": ""
          }
        },
        "a9dee745af024bb29f02680d76d3b044": {
          "model_module": "@jupyter-widgets/base",
          "model_name": "LayoutModel",
          "model_module_version": "1.2.0",
          "state": {
            "_model_module": "@jupyter-widgets/base",
            "_model_module_version": "1.2.0",
            "_model_name": "LayoutModel",
            "_view_count": null,
            "_view_module": "@jupyter-widgets/base",
            "_view_module_version": "1.2.0",
            "_view_name": "LayoutView",
            "align_content": null,
            "align_items": null,
            "align_self": null,
            "border": null,
            "bottom": null,
            "display": null,
            "flex": null,
            "flex_flow": null,
            "grid_area": null,
            "grid_auto_columns": null,
            "grid_auto_flow": null,
            "grid_auto_rows": null,
            "grid_column": null,
            "grid_gap": null,
            "grid_row": null,
            "grid_template_areas": null,
            "grid_template_columns": null,
            "grid_template_rows": null,
            "height": null,
            "justify_content": null,
            "justify_items": null,
            "left": null,
            "margin": null,
            "max_height": null,
            "max_width": null,
            "min_height": null,
            "min_width": null,
            "object_fit": null,
            "object_position": null,
            "order": null,
            "overflow": null,
            "overflow_x": null,
            "overflow_y": null,
            "padding": null,
            "right": null,
            "top": null,
            "visibility": null,
            "width": null
          }
        },
        "bd10c07768d54674abcecb63292e0012": {
          "model_module": "@jupyter-widgets/controls",
          "model_name": "ProgressStyleModel",
          "model_module_version": "1.5.0",
          "state": {
            "_model_module": "@jupyter-widgets/controls",
            "_model_module_version": "1.5.0",
            "_model_name": "ProgressStyleModel",
            "_view_count": null,
            "_view_module": "@jupyter-widgets/base",
            "_view_module_version": "1.2.0",
            "_view_name": "StyleView",
            "bar_color": null,
            "description_width": ""
          }
        },
        "022faa7b040f4866bad0c40540d74f4d": {
          "model_module": "@jupyter-widgets/base",
          "model_name": "LayoutModel",
          "model_module_version": "1.2.0",
          "state": {
            "_model_module": "@jupyter-widgets/base",
            "_model_module_version": "1.2.0",
            "_model_name": "LayoutModel",
            "_view_count": null,
            "_view_module": "@jupyter-widgets/base",
            "_view_module_version": "1.2.0",
            "_view_name": "LayoutView",
            "align_content": null,
            "align_items": null,
            "align_self": null,
            "border": null,
            "bottom": null,
            "display": null,
            "flex": null,
            "flex_flow": null,
            "grid_area": null,
            "grid_auto_columns": null,
            "grid_auto_flow": null,
            "grid_auto_rows": null,
            "grid_column": null,
            "grid_gap": null,
            "grid_row": null,
            "grid_template_areas": null,
            "grid_template_columns": null,
            "grid_template_rows": null,
            "height": null,
            "justify_content": null,
            "justify_items": null,
            "left": null,
            "margin": null,
            "max_height": null,
            "max_width": null,
            "min_height": null,
            "min_width": null,
            "object_fit": null,
            "object_position": null,
            "order": null,
            "overflow": null,
            "overflow_x": null,
            "overflow_y": null,
            "padding": null,
            "right": null,
            "top": null,
            "visibility": null,
            "width": null
          }
        },
        "d7ab81225b9545aab217527258d5b54b": {
          "model_module": "@jupyter-widgets/controls",
          "model_name": "DescriptionStyleModel",
          "model_module_version": "1.5.0",
          "state": {
            "_model_module": "@jupyter-widgets/controls",
            "_model_module_version": "1.5.0",
            "_model_name": "DescriptionStyleModel",
            "_view_count": null,
            "_view_module": "@jupyter-widgets/base",
            "_view_module_version": "1.2.0",
            "_view_name": "StyleView",
            "description_width": ""
          }
        },
        "c24c60ae237243a8bf26ba09ecd8ddc5": {
          "model_module": "@jupyter-widgets/controls",
          "model_name": "HBoxModel",
          "model_module_version": "1.5.0",
          "state": {
            "_dom_classes": [],
            "_model_module": "@jupyter-widgets/controls",
            "_model_module_version": "1.5.0",
            "_model_name": "HBoxModel",
            "_view_count": null,
            "_view_module": "@jupyter-widgets/controls",
            "_view_module_version": "1.5.0",
            "_view_name": "HBoxView",
            "box_style": "",
            "children": [
              "IPY_MODEL_cf602c7ea60e43ea86a18610d1237fe0",
              "IPY_MODEL_f807a3a22b474782ba646c766de0ee54",
              "IPY_MODEL_e127dec6e0174839931bdbd3541667ff"
            ],
            "layout": "IPY_MODEL_599698cfe7c84346919fc24fecb7def9"
          }
        },
        "cf602c7ea60e43ea86a18610d1237fe0": {
          "model_module": "@jupyter-widgets/controls",
          "model_name": "HTMLModel",
          "model_module_version": "1.5.0",
          "state": {
            "_dom_classes": [],
            "_model_module": "@jupyter-widgets/controls",
            "_model_module_version": "1.5.0",
            "_model_name": "HTMLModel",
            "_view_count": null,
            "_view_module": "@jupyter-widgets/controls",
            "_view_module_version": "1.5.0",
            "_view_name": "HTMLView",
            "description": "",
            "description_tooltip": null,
            "layout": "IPY_MODEL_fd6c938d686e4b3690fa7b54cd320fa8",
            "placeholder": "​",
            "style": "IPY_MODEL_4693185560ec44a9a6f514b7da7b9499",
            "value": "pytorch_model.bin: 100%"
          }
        },
        "f807a3a22b474782ba646c766de0ee54": {
          "model_module": "@jupyter-widgets/controls",
          "model_name": "FloatProgressModel",
          "model_module_version": "1.5.0",
          "state": {
            "_dom_classes": [],
            "_model_module": "@jupyter-widgets/controls",
            "_model_module_version": "1.5.0",
            "_model_name": "FloatProgressModel",
            "_view_count": null,
            "_view_module": "@jupyter-widgets/controls",
            "_view_module_version": "1.5.0",
            "_view_name": "ProgressView",
            "bar_style": "success",
            "description": "",
            "description_tooltip": null,
            "layout": "IPY_MODEL_4583105a8fc246389a27e62f742d51f7",
            "max": 513302779,
            "min": 0,
            "orientation": "horizontal",
            "style": "IPY_MODEL_328c3986156541b18c4f653f6dd27ff0",
            "value": 513302779
          }
        },
        "e127dec6e0174839931bdbd3541667ff": {
          "model_module": "@jupyter-widgets/controls",
          "model_name": "HTMLModel",
          "model_module_version": "1.5.0",
          "state": {
            "_dom_classes": [],
            "_model_module": "@jupyter-widgets/controls",
            "_model_module_version": "1.5.0",
            "_model_name": "HTMLModel",
            "_view_count": null,
            "_view_module": "@jupyter-widgets/controls",
            "_view_module_version": "1.5.0",
            "_view_name": "HTMLView",
            "description": "",
            "description_tooltip": null,
            "layout": "IPY_MODEL_fd04cb9f151243bf890b4b0701705978",
            "placeholder": "​",
            "style": "IPY_MODEL_b5c6986748114020ae3e111a2eabf457",
            "value": " 513M/513M [00:02&lt;00:00, 259MB/s]"
          }
        },
        "599698cfe7c84346919fc24fecb7def9": {
          "model_module": "@jupyter-widgets/base",
          "model_name": "LayoutModel",
          "model_module_version": "1.2.0",
          "state": {
            "_model_module": "@jupyter-widgets/base",
            "_model_module_version": "1.2.0",
            "_model_name": "LayoutModel",
            "_view_count": null,
            "_view_module": "@jupyter-widgets/base",
            "_view_module_version": "1.2.0",
            "_view_name": "LayoutView",
            "align_content": null,
            "align_items": null,
            "align_self": null,
            "border": null,
            "bottom": null,
            "display": null,
            "flex": null,
            "flex_flow": null,
            "grid_area": null,
            "grid_auto_columns": null,
            "grid_auto_flow": null,
            "grid_auto_rows": null,
            "grid_column": null,
            "grid_gap": null,
            "grid_row": null,
            "grid_template_areas": null,
            "grid_template_columns": null,
            "grid_template_rows": null,
            "height": null,
            "justify_content": null,
            "justify_items": null,
            "left": null,
            "margin": null,
            "max_height": null,
            "max_width": null,
            "min_height": null,
            "min_width": null,
            "object_fit": null,
            "object_position": null,
            "order": null,
            "overflow": null,
            "overflow_x": null,
            "overflow_y": null,
            "padding": null,
            "right": null,
            "top": null,
            "visibility": null,
            "width": null
          }
        },
        "fd6c938d686e4b3690fa7b54cd320fa8": {
          "model_module": "@jupyter-widgets/base",
          "model_name": "LayoutModel",
          "model_module_version": "1.2.0",
          "state": {
            "_model_module": "@jupyter-widgets/base",
            "_model_module_version": "1.2.0",
            "_model_name": "LayoutModel",
            "_view_count": null,
            "_view_module": "@jupyter-widgets/base",
            "_view_module_version": "1.2.0",
            "_view_name": "LayoutView",
            "align_content": null,
            "align_items": null,
            "align_self": null,
            "border": null,
            "bottom": null,
            "display": null,
            "flex": null,
            "flex_flow": null,
            "grid_area": null,
            "grid_auto_columns": null,
            "grid_auto_flow": null,
            "grid_auto_rows": null,
            "grid_column": null,
            "grid_gap": null,
            "grid_row": null,
            "grid_template_areas": null,
            "grid_template_columns": null,
            "grid_template_rows": null,
            "height": null,
            "justify_content": null,
            "justify_items": null,
            "left": null,
            "margin": null,
            "max_height": null,
            "max_width": null,
            "min_height": null,
            "min_width": null,
            "object_fit": null,
            "object_position": null,
            "order": null,
            "overflow": null,
            "overflow_x": null,
            "overflow_y": null,
            "padding": null,
            "right": null,
            "top": null,
            "visibility": null,
            "width": null
          }
        },
        "4693185560ec44a9a6f514b7da7b9499": {
          "model_module": "@jupyter-widgets/controls",
          "model_name": "DescriptionStyleModel",
          "model_module_version": "1.5.0",
          "state": {
            "_model_module": "@jupyter-widgets/controls",
            "_model_module_version": "1.5.0",
            "_model_name": "DescriptionStyleModel",
            "_view_count": null,
            "_view_module": "@jupyter-widgets/base",
            "_view_module_version": "1.2.0",
            "_view_name": "StyleView",
            "description_width": ""
          }
        },
        "4583105a8fc246389a27e62f742d51f7": {
          "model_module": "@jupyter-widgets/base",
          "model_name": "LayoutModel",
          "model_module_version": "1.2.0",
          "state": {
            "_model_module": "@jupyter-widgets/base",
            "_model_module_version": "1.2.0",
            "_model_name": "LayoutModel",
            "_view_count": null,
            "_view_module": "@jupyter-widgets/base",
            "_view_module_version": "1.2.0",
            "_view_name": "LayoutView",
            "align_content": null,
            "align_items": null,
            "align_self": null,
            "border": null,
            "bottom": null,
            "display": null,
            "flex": null,
            "flex_flow": null,
            "grid_area": null,
            "grid_auto_columns": null,
            "grid_auto_flow": null,
            "grid_auto_rows": null,
            "grid_column": null,
            "grid_gap": null,
            "grid_row": null,
            "grid_template_areas": null,
            "grid_template_columns": null,
            "grid_template_rows": null,
            "height": null,
            "justify_content": null,
            "justify_items": null,
            "left": null,
            "margin": null,
            "max_height": null,
            "max_width": null,
            "min_height": null,
            "min_width": null,
            "object_fit": null,
            "object_position": null,
            "order": null,
            "overflow": null,
            "overflow_x": null,
            "overflow_y": null,
            "padding": null,
            "right": null,
            "top": null,
            "visibility": null,
            "width": null
          }
        },
        "328c3986156541b18c4f653f6dd27ff0": {
          "model_module": "@jupyter-widgets/controls",
          "model_name": "ProgressStyleModel",
          "model_module_version": "1.5.0",
          "state": {
            "_model_module": "@jupyter-widgets/controls",
            "_model_module_version": "1.5.0",
            "_model_name": "ProgressStyleModel",
            "_view_count": null,
            "_view_module": "@jupyter-widgets/base",
            "_view_module_version": "1.2.0",
            "_view_name": "StyleView",
            "bar_color": null,
            "description_width": ""
          }
        },
        "fd04cb9f151243bf890b4b0701705978": {
          "model_module": "@jupyter-widgets/base",
          "model_name": "LayoutModel",
          "model_module_version": "1.2.0",
          "state": {
            "_model_module": "@jupyter-widgets/base",
            "_model_module_version": "1.2.0",
            "_model_name": "LayoutModel",
            "_view_count": null,
            "_view_module": "@jupyter-widgets/base",
            "_view_module_version": "1.2.0",
            "_view_name": "LayoutView",
            "align_content": null,
            "align_items": null,
            "align_self": null,
            "border": null,
            "bottom": null,
            "display": null,
            "flex": null,
            "flex_flow": null,
            "grid_area": null,
            "grid_auto_columns": null,
            "grid_auto_flow": null,
            "grid_auto_rows": null,
            "grid_column": null,
            "grid_gap": null,
            "grid_row": null,
            "grid_template_areas": null,
            "grid_template_columns": null,
            "grid_template_rows": null,
            "height": null,
            "justify_content": null,
            "justify_items": null,
            "left": null,
            "margin": null,
            "max_height": null,
            "max_width": null,
            "min_height": null,
            "min_width": null,
            "object_fit": null,
            "object_position": null,
            "order": null,
            "overflow": null,
            "overflow_x": null,
            "overflow_y": null,
            "padding": null,
            "right": null,
            "top": null,
            "visibility": null,
            "width": null
          }
        },
        "b5c6986748114020ae3e111a2eabf457": {
          "model_module": "@jupyter-widgets/controls",
          "model_name": "DescriptionStyleModel",
          "model_module_version": "1.5.0",
          "state": {
            "_model_module": "@jupyter-widgets/controls",
            "_model_module_version": "1.5.0",
            "_model_name": "DescriptionStyleModel",
            "_view_count": null,
            "_view_module": "@jupyter-widgets/base",
            "_view_module_version": "1.2.0",
            "_view_name": "StyleView",
            "description_width": ""
          }
        },
        "266b1f09c4cd44b69c4f3e9afc56b8b5": {
          "model_module": "@jupyter-widgets/controls",
          "model_name": "HBoxModel",
          "model_module_version": "1.5.0",
          "state": {
            "_dom_classes": [],
            "_model_module": "@jupyter-widgets/controls",
            "_model_module_version": "1.5.0",
            "_model_name": "HBoxModel",
            "_view_count": null,
            "_view_module": "@jupyter-widgets/controls",
            "_view_module_version": "1.5.0",
            "_view_name": "HBoxView",
            "box_style": "",
            "children": [
              "IPY_MODEL_558893057f3a4bfb96fafcfd062db6f0",
              "IPY_MODEL_82b506c3e38d483db9db3b3834576a2a",
              "IPY_MODEL_bb2088b051604992b088123e84e820fb"
            ],
            "layout": "IPY_MODEL_430608a2a7524b18b68b51bc22dbaaa1"
          }
        },
        "558893057f3a4bfb96fafcfd062db6f0": {
          "model_module": "@jupyter-widgets/controls",
          "model_name": "HTMLModel",
          "model_module_version": "1.5.0",
          "state": {
            "_dom_classes": [],
            "_model_module": "@jupyter-widgets/controls",
            "_model_module_version": "1.5.0",
            "_model_name": "HTMLModel",
            "_view_count": null,
            "_view_module": "@jupyter-widgets/controls",
            "_view_module_version": "1.5.0",
            "_view_name": "HTMLView",
            "description": "",
            "description_tooltip": null,
            "layout": "IPY_MODEL_99c3bba04d4845158a4387c89f2f8365",
            "placeholder": "​",
            "style": "IPY_MODEL_a1e8b4b8e9c2413b9eea4d9d32f05e7d",
            "value": "model.safetensors: 100%"
          }
        },
        "82b506c3e38d483db9db3b3834576a2a": {
          "model_module": "@jupyter-widgets/controls",
          "model_name": "FloatProgressModel",
          "model_module_version": "1.5.0",
          "state": {
            "_dom_classes": [],
            "_model_module": "@jupyter-widgets/controls",
            "_model_module_version": "1.5.0",
            "_model_name": "FloatProgressModel",
            "_view_count": null,
            "_view_module": "@jupyter-widgets/controls",
            "_view_module_version": "1.5.0",
            "_view_name": "ProgressView",
            "bar_style": "success",
            "description": "",
            "description_tooltip": null,
            "layout": "IPY_MODEL_44c1b0f377274db7aa354c400c533999",
            "max": 513256494,
            "min": 0,
            "orientation": "horizontal",
            "style": "IPY_MODEL_908051ff87f6405d8ae1d0612e9a4138",
            "value": 513256494
          }
        },
        "bb2088b051604992b088123e84e820fb": {
          "model_module": "@jupyter-widgets/controls",
          "model_name": "HTMLModel",
          "model_module_version": "1.5.0",
          "state": {
            "_dom_classes": [],
            "_model_module": "@jupyter-widgets/controls",
            "_model_module_version": "1.5.0",
            "_model_name": "HTMLModel",
            "_view_count": null,
            "_view_module": "@jupyter-widgets/controls",
            "_view_module_version": "1.5.0",
            "_view_name": "HTMLView",
            "description": "",
            "description_tooltip": null,
            "layout": "IPY_MODEL_b4a807c9a3aa4a07b6c5e64c62bf31ef",
            "placeholder": "​",
            "style": "IPY_MODEL_6f4cde3e4fba45619cfe50f0277a9935",
            "value": " 513M/513M [00:05&lt;00:00, 58.0MB/s]"
          }
        },
        "430608a2a7524b18b68b51bc22dbaaa1": {
          "model_module": "@jupyter-widgets/base",
          "model_name": "LayoutModel",
          "model_module_version": "1.2.0",
          "state": {
            "_model_module": "@jupyter-widgets/base",
            "_model_module_version": "1.2.0",
            "_model_name": "LayoutModel",
            "_view_count": null,
            "_view_module": "@jupyter-widgets/base",
            "_view_module_version": "1.2.0",
            "_view_name": "LayoutView",
            "align_content": null,
            "align_items": null,
            "align_self": null,
            "border": null,
            "bottom": null,
            "display": null,
            "flex": null,
            "flex_flow": null,
            "grid_area": null,
            "grid_auto_columns": null,
            "grid_auto_flow": null,
            "grid_auto_rows": null,
            "grid_column": null,
            "grid_gap": null,
            "grid_row": null,
            "grid_template_areas": null,
            "grid_template_columns": null,
            "grid_template_rows": null,
            "height": null,
            "justify_content": null,
            "justify_items": null,
            "left": null,
            "margin": null,
            "max_height": null,
            "max_width": null,
            "min_height": null,
            "min_width": null,
            "object_fit": null,
            "object_position": null,
            "order": null,
            "overflow": null,
            "overflow_x": null,
            "overflow_y": null,
            "padding": null,
            "right": null,
            "top": null,
            "visibility": null,
            "width": null
          }
        },
        "99c3bba04d4845158a4387c89f2f8365": {
          "model_module": "@jupyter-widgets/base",
          "model_name": "LayoutModel",
          "model_module_version": "1.2.0",
          "state": {
            "_model_module": "@jupyter-widgets/base",
            "_model_module_version": "1.2.0",
            "_model_name": "LayoutModel",
            "_view_count": null,
            "_view_module": "@jupyter-widgets/base",
            "_view_module_version": "1.2.0",
            "_view_name": "LayoutView",
            "align_content": null,
            "align_items": null,
            "align_self": null,
            "border": null,
            "bottom": null,
            "display": null,
            "flex": null,
            "flex_flow": null,
            "grid_area": null,
            "grid_auto_columns": null,
            "grid_auto_flow": null,
            "grid_auto_rows": null,
            "grid_column": null,
            "grid_gap": null,
            "grid_row": null,
            "grid_template_areas": null,
            "grid_template_columns": null,
            "grid_template_rows": null,
            "height": null,
            "justify_content": null,
            "justify_items": null,
            "left": null,
            "margin": null,
            "max_height": null,
            "max_width": null,
            "min_height": null,
            "min_width": null,
            "object_fit": null,
            "object_position": null,
            "order": null,
            "overflow": null,
            "overflow_x": null,
            "overflow_y": null,
            "padding": null,
            "right": null,
            "top": null,
            "visibility": null,
            "width": null
          }
        },
        "a1e8b4b8e9c2413b9eea4d9d32f05e7d": {
          "model_module": "@jupyter-widgets/controls",
          "model_name": "DescriptionStyleModel",
          "model_module_version": "1.5.0",
          "state": {
            "_model_module": "@jupyter-widgets/controls",
            "_model_module_version": "1.5.0",
            "_model_name": "DescriptionStyleModel",
            "_view_count": null,
            "_view_module": "@jupyter-widgets/base",
            "_view_module_version": "1.2.0",
            "_view_name": "StyleView",
            "description_width": ""
          }
        },
        "44c1b0f377274db7aa354c400c533999": {
          "model_module": "@jupyter-widgets/base",
          "model_name": "LayoutModel",
          "model_module_version": "1.2.0",
          "state": {
            "_model_module": "@jupyter-widgets/base",
            "_model_module_version": "1.2.0",
            "_model_name": "LayoutModel",
            "_view_count": null,
            "_view_module": "@jupyter-widgets/base",
            "_view_module_version": "1.2.0",
            "_view_name": "LayoutView",
            "align_content": null,
            "align_items": null,
            "align_self": null,
            "border": null,
            "bottom": null,
            "display": null,
            "flex": null,
            "flex_flow": null,
            "grid_area": null,
            "grid_auto_columns": null,
            "grid_auto_flow": null,
            "grid_auto_rows": null,
            "grid_column": null,
            "grid_gap": null,
            "grid_row": null,
            "grid_template_areas": null,
            "grid_template_columns": null,
            "grid_template_rows": null,
            "height": null,
            "justify_content": null,
            "justify_items": null,
            "left": null,
            "margin": null,
            "max_height": null,
            "max_width": null,
            "min_height": null,
            "min_width": null,
            "object_fit": null,
            "object_position": null,
            "order": null,
            "overflow": null,
            "overflow_x": null,
            "overflow_y": null,
            "padding": null,
            "right": null,
            "top": null,
            "visibility": null,
            "width": null
          }
        },
        "908051ff87f6405d8ae1d0612e9a4138": {
          "model_module": "@jupyter-widgets/controls",
          "model_name": "ProgressStyleModel",
          "model_module_version": "1.5.0",
          "state": {
            "_model_module": "@jupyter-widgets/controls",
            "_model_module_version": "1.5.0",
            "_model_name": "ProgressStyleModel",
            "_view_count": null,
            "_view_module": "@jupyter-widgets/base",
            "_view_module_version": "1.2.0",
            "_view_name": "StyleView",
            "bar_color": null,
            "description_width": ""
          }
        },
        "b4a807c9a3aa4a07b6c5e64c62bf31ef": {
          "model_module": "@jupyter-widgets/base",
          "model_name": "LayoutModel",
          "model_module_version": "1.2.0",
          "state": {
            "_model_module": "@jupyter-widgets/base",
            "_model_module_version": "1.2.0",
            "_model_name": "LayoutModel",
            "_view_count": null,
            "_view_module": "@jupyter-widgets/base",
            "_view_module_version": "1.2.0",
            "_view_name": "LayoutView",
            "align_content": null,
            "align_items": null,
            "align_self": null,
            "border": null,
            "bottom": null,
            "display": null,
            "flex": null,
            "flex_flow": null,
            "grid_area": null,
            "grid_auto_columns": null,
            "grid_auto_flow": null,
            "grid_auto_rows": null,
            "grid_column": null,
            "grid_gap": null,
            "grid_row": null,
            "grid_template_areas": null,
            "grid_template_columns": null,
            "grid_template_rows": null,
            "height": null,
            "justify_content": null,
            "justify_items": null,
            "left": null,
            "margin": null,
            "max_height": null,
            "max_width": null,
            "min_height": null,
            "min_width": null,
            "object_fit": null,
            "object_position": null,
            "order": null,
            "overflow": null,
            "overflow_x": null,
            "overflow_y": null,
            "padding": null,
            "right": null,
            "top": null,
            "visibility": null,
            "width": null
          }
        },
        "6f4cde3e4fba45619cfe50f0277a9935": {
          "model_module": "@jupyter-widgets/controls",
          "model_name": "DescriptionStyleModel",
          "model_module_version": "1.5.0",
          "state": {
            "_model_module": "@jupyter-widgets/controls",
            "_model_module_version": "1.5.0",
            "_model_name": "DescriptionStyleModel",
            "_view_count": null,
            "_view_module": "@jupyter-widgets/base",
            "_view_module_version": "1.2.0",
            "_view_name": "StyleView",
            "description_width": ""
          }
        },
        "ec1238fec8e24851a72218a60ec9156a": {
          "model_module": "@jupyter-widgets/controls",
          "model_name": "HBoxModel",
          "model_module_version": "1.5.0",
          "state": {
            "_dom_classes": [],
            "_model_module": "@jupyter-widgets/controls",
            "_model_module_version": "1.5.0",
            "_model_name": "HBoxModel",
            "_view_count": null,
            "_view_module": "@jupyter-widgets/controls",
            "_view_module_version": "1.5.0",
            "_view_name": "HBoxView",
            "box_style": "",
            "children": [
              "IPY_MODEL_433d5f3a7b194247b7ca6d89a8f00d31",
              "IPY_MODEL_1bd7c66a3c2446898bc96f1147ddbce3",
              "IPY_MODEL_da17cd16584442859c69a7fc4653b76b"
            ],
            "layout": "IPY_MODEL_7bd98007167a42f4a02219e5a90e09d1"
          }
        },
        "433d5f3a7b194247b7ca6d89a8f00d31": {
          "model_module": "@jupyter-widgets/controls",
          "model_name": "HTMLModel",
          "model_module_version": "1.5.0",
          "state": {
            "_dom_classes": [],
            "_model_module": "@jupyter-widgets/controls",
            "_model_module_version": "1.5.0",
            "_model_name": "HTMLModel",
            "_view_count": null,
            "_view_module": "@jupyter-widgets/controls",
            "_view_module_version": "1.5.0",
            "_view_name": "HTMLView",
            "description": "",
            "description_tooltip": null,
            "layout": "IPY_MODEL_b9c2fe86282d4ffbacaf5ef31bf81828",
            "placeholder": "​",
            "style": "IPY_MODEL_6d656057e8694978a92c8ad246c14eb1",
            "value": "tokenizer.json: 100%"
          }
        },
        "1bd7c66a3c2446898bc96f1147ddbce3": {
          "model_module": "@jupyter-widgets/controls",
          "model_name": "FloatProgressModel",
          "model_module_version": "1.5.0",
          "state": {
            "_dom_classes": [],
            "_model_module": "@jupyter-widgets/controls",
            "_model_module_version": "1.5.0",
            "_model_name": "FloatProgressModel",
            "_view_count": null,
            "_view_module": "@jupyter-widgets/controls",
            "_view_module_version": "1.5.0",
            "_view_name": "ProgressView",
            "bar_style": "success",
            "description": "",
            "description_tooltip": null,
            "layout": "IPY_MODEL_4842bf33da774bc3ba8c64313981f895",
            "max": 2825034,
            "min": 0,
            "orientation": "horizontal",
            "style": "IPY_MODEL_e2f70effe3c2432f9d68cab0b040722c",
            "value": 2825034
          }
        },
        "da17cd16584442859c69a7fc4653b76b": {
          "model_module": "@jupyter-widgets/controls",
          "model_name": "HTMLModel",
          "model_module_version": "1.5.0",
          "state": {
            "_dom_classes": [],
            "_model_module": "@jupyter-widgets/controls",
            "_model_module_version": "1.5.0",
            "_model_name": "HTMLModel",
            "_view_count": null,
            "_view_module": "@jupyter-widgets/controls",
            "_view_module_version": "1.5.0",
            "_view_name": "HTMLView",
            "description": "",
            "description_tooltip": null,
            "layout": "IPY_MODEL_9a53e807cae148ed9547fbc04cbb6d6a",
            "placeholder": "​",
            "style": "IPY_MODEL_0301b13f43bf4d6ab2e4b148e973f594",
            "value": " 2.83M/2.83M [00:00&lt;00:00, 16.9MB/s]"
          }
        },
        "7bd98007167a42f4a02219e5a90e09d1": {
          "model_module": "@jupyter-widgets/base",
          "model_name": "LayoutModel",
          "model_module_version": "1.2.0",
          "state": {
            "_model_module": "@jupyter-widgets/base",
            "_model_module_version": "1.2.0",
            "_model_name": "LayoutModel",
            "_view_count": null,
            "_view_module": "@jupyter-widgets/base",
            "_view_module_version": "1.2.0",
            "_view_name": "LayoutView",
            "align_content": null,
            "align_items": null,
            "align_self": null,
            "border": null,
            "bottom": null,
            "display": null,
            "flex": null,
            "flex_flow": null,
            "grid_area": null,
            "grid_auto_columns": null,
            "grid_auto_flow": null,
            "grid_auto_rows": null,
            "grid_column": null,
            "grid_gap": null,
            "grid_row": null,
            "grid_template_areas": null,
            "grid_template_columns": null,
            "grid_template_rows": null,
            "height": null,
            "justify_content": null,
            "justify_items": null,
            "left": null,
            "margin": null,
            "max_height": null,
            "max_width": null,
            "min_height": null,
            "min_width": null,
            "object_fit": null,
            "object_position": null,
            "order": null,
            "overflow": null,
            "overflow_x": null,
            "overflow_y": null,
            "padding": null,
            "right": null,
            "top": null,
            "visibility": null,
            "width": null
          }
        },
        "b9c2fe86282d4ffbacaf5ef31bf81828": {
          "model_module": "@jupyter-widgets/base",
          "model_name": "LayoutModel",
          "model_module_version": "1.2.0",
          "state": {
            "_model_module": "@jupyter-widgets/base",
            "_model_module_version": "1.2.0",
            "_model_name": "LayoutModel",
            "_view_count": null,
            "_view_module": "@jupyter-widgets/base",
            "_view_module_version": "1.2.0",
            "_view_name": "LayoutView",
            "align_content": null,
            "align_items": null,
            "align_self": null,
            "border": null,
            "bottom": null,
            "display": null,
            "flex": null,
            "flex_flow": null,
            "grid_area": null,
            "grid_auto_columns": null,
            "grid_auto_flow": null,
            "grid_auto_rows": null,
            "grid_column": null,
            "grid_gap": null,
            "grid_row": null,
            "grid_template_areas": null,
            "grid_template_columns": null,
            "grid_template_rows": null,
            "height": null,
            "justify_content": null,
            "justify_items": null,
            "left": null,
            "margin": null,
            "max_height": null,
            "max_width": null,
            "min_height": null,
            "min_width": null,
            "object_fit": null,
            "object_position": null,
            "order": null,
            "overflow": null,
            "overflow_x": null,
            "overflow_y": null,
            "padding": null,
            "right": null,
            "top": null,
            "visibility": null,
            "width": null
          }
        },
        "6d656057e8694978a92c8ad246c14eb1": {
          "model_module": "@jupyter-widgets/controls",
          "model_name": "DescriptionStyleModel",
          "model_module_version": "1.5.0",
          "state": {
            "_model_module": "@jupyter-widgets/controls",
            "_model_module_version": "1.5.0",
            "_model_name": "DescriptionStyleModel",
            "_view_count": null,
            "_view_module": "@jupyter-widgets/base",
            "_view_module_version": "1.2.0",
            "_view_name": "StyleView",
            "description_width": ""
          }
        },
        "4842bf33da774bc3ba8c64313981f895": {
          "model_module": "@jupyter-widgets/base",
          "model_name": "LayoutModel",
          "model_module_version": "1.2.0",
          "state": {
            "_model_module": "@jupyter-widgets/base",
            "_model_module_version": "1.2.0",
            "_model_name": "LayoutModel",
            "_view_count": null,
            "_view_module": "@jupyter-widgets/base",
            "_view_module_version": "1.2.0",
            "_view_name": "LayoutView",
            "align_content": null,
            "align_items": null,
            "align_self": null,
            "border": null,
            "bottom": null,
            "display": null,
            "flex": null,
            "flex_flow": null,
            "grid_area": null,
            "grid_auto_columns": null,
            "grid_auto_flow": null,
            "grid_auto_rows": null,
            "grid_column": null,
            "grid_gap": null,
            "grid_row": null,
            "grid_template_areas": null,
            "grid_template_columns": null,
            "grid_template_rows": null,
            "height": null,
            "justify_content": null,
            "justify_items": null,
            "left": null,
            "margin": null,
            "max_height": null,
            "max_width": null,
            "min_height": null,
            "min_width": null,
            "object_fit": null,
            "object_position": null,
            "order": null,
            "overflow": null,
            "overflow_x": null,
            "overflow_y": null,
            "padding": null,
            "right": null,
            "top": null,
            "visibility": null,
            "width": null
          }
        },
        "e2f70effe3c2432f9d68cab0b040722c": {
          "model_module": "@jupyter-widgets/controls",
          "model_name": "ProgressStyleModel",
          "model_module_version": "1.5.0",
          "state": {
            "_model_module": "@jupyter-widgets/controls",
            "_model_module_version": "1.5.0",
            "_model_name": "ProgressStyleModel",
            "_view_count": null,
            "_view_module": "@jupyter-widgets/base",
            "_view_module_version": "1.2.0",
            "_view_name": "StyleView",
            "bar_color": null,
            "description_width": ""
          }
        },
        "9a53e807cae148ed9547fbc04cbb6d6a": {
          "model_module": "@jupyter-widgets/base",
          "model_name": "LayoutModel",
          "model_module_version": "1.2.0",
          "state": {
            "_model_module": "@jupyter-widgets/base",
            "_model_module_version": "1.2.0",
            "_model_name": "LayoutModel",
            "_view_count": null,
            "_view_module": "@jupyter-widgets/base",
            "_view_module_version": "1.2.0",
            "_view_name": "LayoutView",
            "align_content": null,
            "align_items": null,
            "align_self": null,
            "border": null,
            "bottom": null,
            "display": null,
            "flex": null,
            "flex_flow": null,
            "grid_area": null,
            "grid_auto_columns": null,
            "grid_auto_flow": null,
            "grid_auto_rows": null,
            "grid_column": null,
            "grid_gap": null,
            "grid_row": null,
            "grid_template_areas": null,
            "grid_template_columns": null,
            "grid_template_rows": null,
            "height": null,
            "justify_content": null,
            "justify_items": null,
            "left": null,
            "margin": null,
            "max_height": null,
            "max_width": null,
            "min_height": null,
            "min_width": null,
            "object_fit": null,
            "object_position": null,
            "order": null,
            "overflow": null,
            "overflow_x": null,
            "overflow_y": null,
            "padding": null,
            "right": null,
            "top": null,
            "visibility": null,
            "width": null
          }
        },
        "0301b13f43bf4d6ab2e4b148e973f594": {
          "model_module": "@jupyter-widgets/controls",
          "model_name": "DescriptionStyleModel",
          "model_module_version": "1.5.0",
          "state": {
            "_model_module": "@jupyter-widgets/controls",
            "_model_module_version": "1.5.0",
            "_model_name": "DescriptionStyleModel",
            "_view_count": null,
            "_view_module": "@jupyter-widgets/base",
            "_view_module_version": "1.2.0",
            "_view_name": "StyleView",
            "description_width": ""
          }
        }
      }
    }
  },
  "nbformat": 4,
  "nbformat_minor": 5
}